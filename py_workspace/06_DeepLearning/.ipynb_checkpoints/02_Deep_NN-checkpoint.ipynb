{
 "cells": [
  {
   "cell_type": "code",
   "execution_count": 1,
   "metadata": {},
   "outputs": [],
   "source": [
    "import torch \n",
    "import torchvision \n",
    "import torch.nn as nn \n",
    "import numpy as np\n",
    "import torchvision.transforms as transforms "
   ]
  },
  {
   "cell_type": "markdown",
   "metadata": {},
   "source": [
    "### Create Tensor... Generating Neural Net"
   ]
  },
  {
   "cell_type": "code",
   "execution_count": 2,
   "metadata": {},
   "outputs": [
    {
     "name": "stdout",
     "output_type": "stream",
     "text": [
      "tensor(1., requires_grad=True)\n",
      "tensor(2., requires_grad=True)\n",
      "tensor(3., requires_grad=True)\n"
     ]
    }
   ],
   "source": [
    "x = torch.tensor(1., requires_grad = True)\n",
    "w = torch.tensor(2., requires_grad = True)\n",
    "b = torch.tensor(3., requires_grad = True)\n",
    "\n",
    "# w * x + b\n",
    "print(x)\n",
    "print(w)\n",
    "print(b)"
   ]
  },
  {
   "cell_type": "code",
   "execution_count": 3,
   "metadata": {},
   "outputs": [
    {
     "name": "stdout",
     "output_type": "stream",
     "text": [
      "tensor(2.)\n",
      "tensor(1.)\n",
      "tensor(1.)\n"
     ]
    }
   ],
   "source": [
    "y = w * x + b # 1차원.. y = 2x + 3\n",
    "\n",
    "y.backward() # 미분이 진행된다.\n",
    "print(x.grad) # 2x 미분하면 2\n",
    "print(w.grad) # 2 미분하면 1\n",
    "print(b.grad) # 3 미분하면 1"
   ]
  },
  {
   "cell_type": "markdown",
   "metadata": {},
   "source": [
    "### Create Tensor... 2차원"
   ]
  },
  {
   "cell_type": "code",
   "execution_count": 4,
   "metadata": {},
   "outputs": [
    {
     "name": "stdout",
     "output_type": "stream",
     "text": [
      "tensor([[-0.7303, -0.6340, -1.0781],\n",
      "        [-0.2975, -0.9986, -0.0118],\n",
      "        [-0.5176, -0.0535, -0.8109],\n",
      "        [-0.2530, -1.7446, -0.5196],\n",
      "        [ 0.7219, -0.3372,  0.1184],\n",
      "        [ 1.0077, -0.7438, -0.3295],\n",
      "        [-0.2404, -0.4007, -0.3187],\n",
      "        [-1.6011, -0.8651,  0.8879],\n",
      "        [-0.5313,  0.5742, -0.1151],\n",
      "        [-1.1806, -0.6391, -0.3268]])\n",
      "tensor([[ 0.2441, -1.6522],\n",
      "        [ 0.6121,  0.4080],\n",
      "        [ 1.0560, -0.7017],\n",
      "        [-2.1018,  1.6917],\n",
      "        [ 0.9669,  1.1252],\n",
      "        [ 1.2121,  1.3129],\n",
      "        [ 0.4075, -0.8689],\n",
      "        [-1.4836, -1.0653],\n",
      "        [-0.4745, -0.5003],\n",
      "        [ 0.2598, -1.7753]])\n"
     ]
    }
   ],
   "source": [
    "x = torch.randn(10,3) #10행 3열\n",
    "y = torch.randn(10,2) #10행 2열\n",
    "print(x)\n",
    "print(y)"
   ]
  },
  {
   "cell_type": "code",
   "execution_count": 5,
   "metadata": {},
   "outputs": [
    {
     "name": "stdout",
     "output_type": "stream",
     "text": [
      "Weight Parameter containing:\n",
      "tensor([[-0.1495,  0.4780,  0.3479],\n",
      "        [-0.4118,  0.1209, -0.0741]], requires_grad=True)\n",
      "Bias Parameter containing:\n",
      "tensor([-0.1307,  0.4949], requires_grad=True)\n"
     ]
    }
   ],
   "source": [
    "linear = nn.Linear(3,2) # 뉴럴 네트워크 모델 만듦\n",
    "print('Weight', linear.weight) # 내부적으로 transpose 되어서 2행 3열로 나옴...\n",
    "print('Bias', linear.bias) # bias 값은 변하는 값이 아니라 상수값. \n",
    "# 어차피 다 같은 값이니까 10행 2열로 나오지 않고 1행 2열로 나옴. 중복해서 출력하지 않는 것."
   ]
  },
  {
   "cell_type": "code",
   "execution_count": 6,
   "metadata": {},
   "outputs": [
    {
     "data": {
      "text/plain": [
       "<generator object Module.parameters at 0x000001D094966E48>"
      ]
     },
     "execution_count": 6,
     "metadata": {},
     "output_type": "execute_result"
    }
   ],
   "source": [
    "linear.parameters() #값이 안 나오고 객체가 나옴. nn의 학습 주체들(Weight, Bias)을 안에 감추고 가지고 있는 함수"
   ]
  },
  {
   "cell_type": "code",
   "execution_count": 7,
   "metadata": {},
   "outputs": [
    {
     "name": "stdout",
     "output_type": "stream",
     "text": [
      "Loss... before Back Propagation:: tensor(2.1113, grad_fn=<MseLossBackward>)\n",
      "Loss... before Back Propagation:: 2.1113200187683105\n"
     ]
    }
   ],
   "source": [
    "#지금은 입력값도 numeric한 값 \n",
    "#미리 Loss함수를 정의해두고 사용은 밑에서 함. 선정의해둔다.\n",
    "#MSELoss 쓰기도 하고 L2Loss 쓰기도 함.\n",
    "loss_function = nn.MSELoss() \n",
    "'''\n",
    "인자값으로 linear 모델에서 학습시키고자 하는 주체를 넣어준다.\n",
    "linear.parameters()\n",
    "parameters()는 Weight, bias값을 내포하고 있는 해킹된 함수\n",
    "'''\n",
    "\n",
    "optimizer = torch.optim.SGD(linear.parameters(), lr = 0.01) #lr=Learning Rate\n",
    "\n",
    "pred = linear.forward(x) #모델에 x를 입력하면 예측값이 리턴 #forward 생략하고 linear(x)로 써도 됨.\n",
    "\n",
    "# x 넣어서 바로 값 나옴. 이 코드는 Hidden Layer가 없음. 따라서 뉴럴 네트워크라고 할 수 없음.\n",
    "\n",
    "loss = loss_function(pred, y)\n",
    "\n",
    "# Back Propagation해서 나온 loss가 아니라 그냥 생짜배기 loss.\n",
    "print('Loss... before Back Propagation::', loss)\n",
    "print('Loss... before Back Propagation::', loss.item()) #값만 보고 싶을 때. "
   ]
  },
  {
   "cell_type": "code",
   "execution_count": 8,
   "metadata": {},
   "outputs": [
    {
     "name": "stdout",
     "output_type": "stream",
     "text": [
      "dL/dw tensor([[-0.3204,  0.1843,  0.3863],\n",
      "        [-1.1772, -0.1554, -0.2532]])\n",
      "dL/dw tensor([-0.5128,  0.7945])\n",
      "Loss... after Back Propagation:: 2.084935426712036\n"
     ]
    }
   ],
   "source": [
    "loss.backward() #Back Propagation 함.\n",
    "\n",
    "#Weight와 bias를 미분\n",
    "print('dL/dw', linear.weight.grad)\n",
    "print('dL/dw', linear.bias.grad)\n",
    "\n",
    "#수정된 Weight와 Bias를 업데이트\n",
    "optimizer.step() # 이 때 미분해서 수정된 값으로 실질적인 학습.... 하강한다...\n",
    "\n",
    "# 반복효과\n",
    "pred = linear(x)\n",
    "loss = loss_function(pred, y)\n",
    "print('Loss... after Back Propagation::', loss.item()) #값만 보고 싶을 때. "
   ]
  },
  {
   "cell_type": "code",
   "execution_count": null,
   "metadata": {},
   "outputs": [],
   "source": []
  },
  {
   "cell_type": "code",
   "execution_count": null,
   "metadata": {},
   "outputs": [],
   "source": []
  },
  {
   "cell_type": "code",
   "execution_count": null,
   "metadata": {},
   "outputs": [],
   "source": []
  },
  {
   "cell_type": "code",
   "execution_count": null,
   "metadata": {},
   "outputs": [],
   "source": []
  }
 ],
 "metadata": {
  "kernelspec": {
   "display_name": "Python 3",
   "language": "python",
   "name": "python3"
  },
  "language_info": {
   "codemirror_mode": {
    "name": "ipython",
    "version": 3
   },
   "file_extension": ".py",
   "mimetype": "text/x-python",
   "name": "python",
   "nbconvert_exporter": "python",
   "pygments_lexer": "ipython3",
   "version": "3.7.7"
  }
 },
 "nbformat": 4,
 "nbformat_minor": 4
}
