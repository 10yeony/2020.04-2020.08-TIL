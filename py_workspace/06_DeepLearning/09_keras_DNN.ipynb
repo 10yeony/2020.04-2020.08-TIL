{
 "cells": [
  {
   "cell_type": "code",
   "execution_count": 1,
   "metadata": {},
   "outputs": [
    {
     "name": "stderr",
     "output_type": "stream",
     "text": [
      "Using TensorFlow backend.\n",
      "C:\\kyh\\anaconda3\\lib\\site-packages\\tensorflow\\python\\framework\\dtypes.py:516: FutureWarning: Passing (type, 1) or '1type' as a synonym of type is deprecated; in a future version of numpy, it will be understood as (type, (1,)) / '(1,)type'.\n",
      "  _np_qint8 = np.dtype([(\"qint8\", np.int8, 1)])\n",
      "C:\\kyh\\anaconda3\\lib\\site-packages\\tensorflow\\python\\framework\\dtypes.py:517: FutureWarning: Passing (type, 1) or '1type' as a synonym of type is deprecated; in a future version of numpy, it will be understood as (type, (1,)) / '(1,)type'.\n",
      "  _np_quint8 = np.dtype([(\"quint8\", np.uint8, 1)])\n",
      "C:\\kyh\\anaconda3\\lib\\site-packages\\tensorflow\\python\\framework\\dtypes.py:518: FutureWarning: Passing (type, 1) or '1type' as a synonym of type is deprecated; in a future version of numpy, it will be understood as (type, (1,)) / '(1,)type'.\n",
      "  _np_qint16 = np.dtype([(\"qint16\", np.int16, 1)])\n",
      "C:\\kyh\\anaconda3\\lib\\site-packages\\tensorflow\\python\\framework\\dtypes.py:519: FutureWarning: Passing (type, 1) or '1type' as a synonym of type is deprecated; in a future version of numpy, it will be understood as (type, (1,)) / '(1,)type'.\n",
      "  _np_quint16 = np.dtype([(\"quint16\", np.uint16, 1)])\n",
      "C:\\kyh\\anaconda3\\lib\\site-packages\\tensorflow\\python\\framework\\dtypes.py:520: FutureWarning: Passing (type, 1) or '1type' as a synonym of type is deprecated; in a future version of numpy, it will be understood as (type, (1,)) / '(1,)type'.\n",
      "  _np_qint32 = np.dtype([(\"qint32\", np.int32, 1)])\n",
      "C:\\kyh\\anaconda3\\lib\\site-packages\\tensorflow\\python\\framework\\dtypes.py:525: FutureWarning: Passing (type, 1) or '1type' as a synonym of type is deprecated; in a future version of numpy, it will be understood as (type, (1,)) / '(1,)type'.\n",
      "  np_resource = np.dtype([(\"resource\", np.ubyte, 1)])\n",
      "C:\\kyh\\anaconda3\\lib\\site-packages\\tensorboard\\compat\\tensorflow_stub\\dtypes.py:541: FutureWarning: Passing (type, 1) or '1type' as a synonym of type is deprecated; in a future version of numpy, it will be understood as (type, (1,)) / '(1,)type'.\n",
      "  _np_qint8 = np.dtype([(\"qint8\", np.int8, 1)])\n",
      "C:\\kyh\\anaconda3\\lib\\site-packages\\tensorboard\\compat\\tensorflow_stub\\dtypes.py:542: FutureWarning: Passing (type, 1) or '1type' as a synonym of type is deprecated; in a future version of numpy, it will be understood as (type, (1,)) / '(1,)type'.\n",
      "  _np_quint8 = np.dtype([(\"quint8\", np.uint8, 1)])\n",
      "C:\\kyh\\anaconda3\\lib\\site-packages\\tensorboard\\compat\\tensorflow_stub\\dtypes.py:543: FutureWarning: Passing (type, 1) or '1type' as a synonym of type is deprecated; in a future version of numpy, it will be understood as (type, (1,)) / '(1,)type'.\n",
      "  _np_qint16 = np.dtype([(\"qint16\", np.int16, 1)])\n",
      "C:\\kyh\\anaconda3\\lib\\site-packages\\tensorboard\\compat\\tensorflow_stub\\dtypes.py:544: FutureWarning: Passing (type, 1) or '1type' as a synonym of type is deprecated; in a future version of numpy, it will be understood as (type, (1,)) / '(1,)type'.\n",
      "  _np_quint16 = np.dtype([(\"quint16\", np.uint16, 1)])\n",
      "C:\\kyh\\anaconda3\\lib\\site-packages\\tensorboard\\compat\\tensorflow_stub\\dtypes.py:545: FutureWarning: Passing (type, 1) or '1type' as a synonym of type is deprecated; in a future version of numpy, it will be understood as (type, (1,)) / '(1,)type'.\n",
      "  _np_qint32 = np.dtype([(\"qint32\", np.int32, 1)])\n",
      "C:\\kyh\\anaconda3\\lib\\site-packages\\tensorboard\\compat\\tensorflow_stub\\dtypes.py:550: FutureWarning: Passing (type, 1) or '1type' as a synonym of type is deprecated; in a future version of numpy, it will be understood as (type, (1,)) / '(1,)type'.\n",
      "  np_resource = np.dtype([(\"resource\", np.ubyte, 1)])\n"
     ]
    }
   ],
   "source": [
    "import numpy as np\n",
    "from keras import datasets\n",
    "from keras import models, layers\n",
    "from keras.utils import np_utils\n",
    "import matplotlib.pyplot as plt"
   ]
  },
  {
   "cell_type": "code",
   "execution_count": 2,
   "metadata": {},
   "outputs": [
    {
     "name": "stdout",
     "output_type": "stream",
     "text": [
      "[[  0   0   0   0   0   0   0   0   0   0   0   0   0   0   0   0   0   0\n",
      "    0   0   0   0   0   0   0   0   0   0]\n",
      " [  0   0   0   0   0   0   0   0   0   0   0   0   0   0   0   0   0   0\n",
      "    0   0   0   0   0   0   0   0   0   0]\n",
      " [  0   0   0   0   0   0   0   0   0   0   0   0   0   0   0   0   0   0\n",
      "    0   0   0   0   0   0   0   0   0   0]\n",
      " [  0   0   0   0   0   0   0   0   0   0   0   0   1   0   0  13  73   0\n",
      "    0   1   4   0   0   0   0   1   1   0]\n",
      " [  0   0   0   0   0   0   0   0   0   0   0   0   3   0  36 136 127  62\n",
      "   54   0   0   0   1   3   4   0   0   3]\n",
      " [  0   0   0   0   0   0   0   0   0   0   0   0   6   0 102 204 176 134\n",
      "  144 123  23   0   0   0   0  12  10   0]\n",
      " [  0   0   0   0   0   0   0   0   0   0   0   0   0   0 155 236 207 178\n",
      "  107 156 161 109  64  23  77 130  72  15]\n",
      " [  0   0   0   0   0   0   0   0   0   0   0   1   0  69 207 223 218 216\n",
      "  216 163 127 121 122 146 141  88 172  66]\n",
      " [  0   0   0   0   0   0   0   0   0   1   1   1   0 200 232 232 233 229\n",
      "  223 223 215 213 164 127 123 196 229   0]\n",
      " [  0   0   0   0   0   0   0   0   0   0   0   0   0 183 225 216 223 228\n",
      "  235 227 224 222 224 221 223 245 173   0]\n",
      " [  0   0   0   0   0   0   0   0   0   0   0   0   0 193 228 218 213 198\n",
      "  180 212 210 211 213 223 220 243 202   0]\n",
      " [  0   0   0   0   0   0   0   0   0   1   3   0  12 219 220 212 218 192\n",
      "  169 227 208 218 224 212 226 197 209  52]\n",
      " [  0   0   0   0   0   0   0   0   0   0   6   0  99 244 222 220 218 203\n",
      "  198 221 215 213 222 220 245 119 167  56]\n",
      " [  0   0   0   0   0   0   0   0   0   4   0   0  55 236 228 230 228 240\n",
      "  232 213 218 223 234 217 217 209  92   0]\n",
      " [  0   0   1   4   6   7   2   0   0   0   0   0 237 226 217 223 222 219\n",
      "  222 221 216 223 229 215 218 255  77   0]\n",
      " [  0   3   0   0   0   0   0   0   0  62 145 204 228 207 213 221 218 208\n",
      "  211 218 224 223 219 215 224 244 159   0]\n",
      " [  0   0   0   0  18  44  82 107 189 228 220 222 217 226 200 205 211 230\n",
      "  224 234 176 188 250 248 233 238 215   0]\n",
      " [  0  57 187 208 224 221 224 208 204 214 208 209 200 159 245 193 206 223\n",
      "  255 255 221 234 221 211 220 232 246   0]\n",
      " [  3 202 228 224 221 211 211 214 205 205 205 220 240  80 150 255 229 221\n",
      "  188 154 191 210 204 209 222 228 225   0]\n",
      " [ 98 233 198 210 222 229 229 234 249 220 194 215 217 241  65  73 106 117\n",
      "  168 219 221 215 217 223 223 224 229  29]\n",
      " [ 75 204 212 204 193 205 211 225 216 185 197 206 198 213 240 195 227 245\n",
      "  239 223 218 212 209 222 220 221 230  67]\n",
      " [ 48 203 183 194 213 197 185 190 194 192 202 214 219 221 220 236 225 216\n",
      "  199 206 186 181 177 172 181 205 206 115]\n",
      " [  0 122 219 193 179 171 183 196 204 210 213 207 211 210 200 196 194 191\n",
      "  195 191 198 192 176 156 167 177 210  92]\n",
      " [  0   0  74 189 212 191 175 172 175 181 185 188 189 188 193 198 204 209\n",
      "  210 210 211 188 188 194 192 216 170   0]\n",
      " [  2   0   0   0  66 200 222 237 239 242 246 243 244 221 220 193 191 179\n",
      "  182 182 181 176 166 168  99  58   0   0]\n",
      " [  0   0   0   0   0   0   0  40  61  44  72  41  35   0   0   0   0   0\n",
      "    0   0   0   0   0   0   0   0   0   0]\n",
      " [  0   0   0   0   0   0   0   0   0   0   0   0   0   0   0   0   0   0\n",
      "    0   0   0   0   0   0   0   0   0   0]\n",
      " [  0   0   0   0   0   0   0   0   0   0   0   0   0   0   0   0   0   0\n",
      "    0   0   0   0   0   0   0   0   0   0]]\n",
      "(28, 28)\n",
      "(60000, 28, 28)\n",
      "(60000,)\n"
     ]
    },
    {
     "data": {
      "text/plain": [
       "<matplotlib.image.AxesImage at 0x10a5ecb6608>"
      ]
     },
     "execution_count": 2,
     "metadata": {},
     "output_type": "execute_result"
    },
    {
     "data": {
      "image/png": "[encoded data removed]",
      "text/plain": [
       "<Figure size 432x288 with 1 Axes>"
      ]
     },
     "metadata": {
      "needs_background": "light"
     },
     "output_type": "display_data"
    }
   ],
   "source": [
    "(X_train, y_train), (X_test, y_test) = datasets.fashion_mnist.load_data()\n",
    "print(X_train[0])\n",
    "print(X_train[0].shape)\n",
    "print(X_train.shape)\n",
    "print(y_train.shape)\n",
    "\n",
    "plt.imshow(X_train[0])"
   ]
  },
  {
   "cell_type": "code",
   "execution_count": 3,
   "metadata": {},
   "outputs": [
    {
     "data": {
      "text/plain": [
       "<matplotlib.image.AxesImage at 0x10a65c4b308>"
      ]
     },
     "execution_count": 3,
     "metadata": {},
     "output_type": "execute_result"
    },
    {
     "data": {
      "image/png": "[encoded data removed]",
      "text/plain": [
       "<Figure size 432x288 with 1 Axes>"
      ]
     },
     "metadata": {
      "needs_background": "light"
     },
     "output_type": "display_data"
    }
   ],
   "source": [
    "plt.imshow(X_train[0], cmap='gray')"
   ]
  },
  {
   "cell_type": "code",
   "execution_count": 4,
   "metadata": {},
   "outputs": [],
   "source": [
    "L, W, H = X_train.shape\n",
    "X_train = X_train.reshape(-1, W * H)\n",
    "X_test = X_test.reshape(-1, W * H)"
   ]
  },
  {
   "cell_type": "code",
   "execution_count": 5,
   "metadata": {},
   "outputs": [
    {
     "name": "stdout",
     "output_type": "stream",
     "text": [
      "(60000, 784) (10000, 784)\n"
     ]
    }
   ],
   "source": [
    "print(X_train.shape, X_test.shape)"
   ]
  },
  {
   "cell_type": "code",
   "execution_count": 6,
   "metadata": {},
   "outputs": [
    {
     "name": "stdout",
     "output_type": "stream",
     "text": [
      "[0.         0.         0.         0.         0.         0.\n",
      " 0.         0.         0.         0.         0.         0.\n",
      " 0.         0.         0.         0.         0.         0.\n",
      " 0.         0.         0.         0.         0.         0.\n",
      " 0.         0.         0.         0.         0.         0.\n",
      " 0.         0.         0.         0.         0.         0.\n",
      " 0.         0.         0.         0.         0.         0.\n",
      " 0.         0.         0.         0.         0.         0.\n",
      " 0.         0.         0.         0.         0.         0.\n",
      " 0.         0.         0.         0.         0.         0.\n",
      " 0.         0.         0.         0.         0.         0.\n",
      " 0.         0.         0.         0.         0.         0.\n",
      " 0.         0.         0.         0.         0.         0.\n",
      " 0.         0.         0.         0.         0.         0.\n",
      " 0.         0.         0.         0.         0.         0.\n",
      " 0.         0.         0.         0.         0.         0.\n",
      " 0.00392157 0.         0.         0.05098039 0.28627451 0.\n",
      " 0.         0.00392157 0.01568627 0.         0.         0.\n",
      " 0.         0.00392157 0.00392157 0.         0.         0.\n",
      " 0.         0.         0.         0.         0.         0.\n",
      " 0.         0.         0.         0.         0.01176471 0.\n",
      " 0.14117647 0.53333333 0.49803922 0.24313725 0.21176471 0.\n",
      " 0.         0.         0.00392157 0.01176471 0.01568627 0.\n",
      " 0.         0.01176471 0.         0.         0.         0.\n",
      " 0.         0.         0.         0.         0.         0.\n",
      " 0.         0.         0.02352941 0.         0.4        0.8\n",
      " 0.69019608 0.5254902  0.56470588 0.48235294 0.09019608 0.\n",
      " 0.         0.         0.         0.04705882 0.03921569 0.\n",
      " 0.         0.         0.         0.         0.         0.\n",
      " 0.         0.         0.         0.         0.         0.\n",
      " 0.         0.         0.60784314 0.9254902  0.81176471 0.69803922\n",
      " 0.41960784 0.61176471 0.63137255 0.42745098 0.25098039 0.09019608\n",
      " 0.30196078 0.50980392 0.28235294 0.05882353 0.         0.\n",
      " 0.         0.         0.         0.         0.         0.\n",
      " 0.         0.         0.         0.00392157 0.         0.27058824\n",
      " 0.81176471 0.8745098  0.85490196 0.84705882 0.84705882 0.63921569\n",
      " 0.49803922 0.4745098  0.47843137 0.57254902 0.55294118 0.34509804\n",
      " 0.6745098  0.25882353 0.         0.         0.         0.\n",
      " 0.         0.         0.         0.         0.         0.00392157\n",
      " 0.00392157 0.00392157 0.         0.78431373 0.90980392 0.90980392\n",
      " 0.91372549 0.89803922 0.8745098  0.8745098  0.84313725 0.83529412\n",
      " 0.64313725 0.49803922 0.48235294 0.76862745 0.89803922 0.\n",
      " 0.         0.         0.         0.         0.         0.\n",
      " 0.         0.         0.         0.         0.         0.\n",
      " 0.         0.71764706 0.88235294 0.84705882 0.8745098  0.89411765\n",
      " 0.92156863 0.89019608 0.87843137 0.87058824 0.87843137 0.86666667\n",
      " 0.8745098  0.96078431 0.67843137 0.         0.         0.\n",
      " 0.         0.         0.         0.         0.         0.\n",
      " 0.         0.         0.         0.         0.         0.75686275\n",
      " 0.89411765 0.85490196 0.83529412 0.77647059 0.70588235 0.83137255\n",
      " 0.82352941 0.82745098 0.83529412 0.8745098  0.8627451  0.95294118\n",
      " 0.79215686 0.         0.         0.         0.         0.\n",
      " 0.         0.         0.         0.         0.         0.00392157\n",
      " 0.01176471 0.         0.04705882 0.85882353 0.8627451  0.83137255\n",
      " 0.85490196 0.75294118 0.6627451  0.89019608 0.81568627 0.85490196\n",
      " 0.87843137 0.83137255 0.88627451 0.77254902 0.81960784 0.20392157\n",
      " 0.         0.         0.         0.         0.         0.\n",
      " 0.         0.         0.         0.         0.02352941 0.\n",
      " 0.38823529 0.95686275 0.87058824 0.8627451  0.85490196 0.79607843\n",
      " 0.77647059 0.86666667 0.84313725 0.83529412 0.87058824 0.8627451\n",
      " 0.96078431 0.46666667 0.65490196 0.21960784 0.         0.\n",
      " 0.         0.         0.         0.         0.         0.\n",
      " 0.         0.01568627 0.         0.         0.21568627 0.9254902\n",
      " 0.89411765 0.90196078 0.89411765 0.94117647 0.90980392 0.83529412\n",
      " 0.85490196 0.8745098  0.91764706 0.85098039 0.85098039 0.81960784\n",
      " 0.36078431 0.         0.         0.         0.00392157 0.01568627\n",
      " 0.02352941 0.02745098 0.00784314 0.         0.         0.\n",
      " 0.         0.         0.92941176 0.88627451 0.85098039 0.8745098\n",
      " 0.87058824 0.85882353 0.87058824 0.86666667 0.84705882 0.8745098\n",
      " 0.89803922 0.84313725 0.85490196 1.         0.30196078 0.\n",
      " 0.         0.01176471 0.         0.         0.         0.\n",
      " 0.         0.         0.         0.24313725 0.56862745 0.8\n",
      " 0.89411765 0.81176471 0.83529412 0.86666667 0.85490196 0.81568627\n",
      " 0.82745098 0.85490196 0.87843137 0.8745098  0.85882353 0.84313725\n",
      " 0.87843137 0.95686275 0.62352941 0.         0.         0.\n",
      " 0.         0.         0.07058824 0.17254902 0.32156863 0.41960784\n",
      " 0.74117647 0.89411765 0.8627451  0.87058824 0.85098039 0.88627451\n",
      " 0.78431373 0.80392157 0.82745098 0.90196078 0.87843137 0.91764706\n",
      " 0.69019608 0.7372549  0.98039216 0.97254902 0.91372549 0.93333333\n",
      " 0.84313725 0.         0.         0.22352941 0.73333333 0.81568627\n",
      " 0.87843137 0.86666667 0.87843137 0.81568627 0.8        0.83921569\n",
      " 0.81568627 0.81960784 0.78431373 0.62352941 0.96078431 0.75686275\n",
      " 0.80784314 0.8745098  1.         1.         0.86666667 0.91764706\n",
      " 0.86666667 0.82745098 0.8627451  0.90980392 0.96470588 0.\n",
      " 0.01176471 0.79215686 0.89411765 0.87843137 0.86666667 0.82745098\n",
      " 0.82745098 0.83921569 0.80392157 0.80392157 0.80392157 0.8627451\n",
      " 0.94117647 0.31372549 0.58823529 1.         0.89803922 0.86666667\n",
      " 0.7372549  0.60392157 0.74901961 0.82352941 0.8        0.81960784\n",
      " 0.87058824 0.89411765 0.88235294 0.         0.38431373 0.91372549\n",
      " 0.77647059 0.82352941 0.87058824 0.89803922 0.89803922 0.91764706\n",
      " 0.97647059 0.8627451  0.76078431 0.84313725 0.85098039 0.94509804\n",
      " 0.25490196 0.28627451 0.41568627 0.45882353 0.65882353 0.85882353\n",
      " 0.86666667 0.84313725 0.85098039 0.8745098  0.8745098  0.87843137\n",
      " 0.89803922 0.11372549 0.29411765 0.8        0.83137255 0.8\n",
      " 0.75686275 0.80392157 0.82745098 0.88235294 0.84705882 0.7254902\n",
      " 0.77254902 0.80784314 0.77647059 0.83529412 0.94117647 0.76470588\n",
      " 0.89019608 0.96078431 0.9372549  0.8745098  0.85490196 0.83137255\n",
      " 0.81960784 0.87058824 0.8627451  0.86666667 0.90196078 0.2627451\n",
      " 0.18823529 0.79607843 0.71764706 0.76078431 0.83529412 0.77254902\n",
      " 0.7254902  0.74509804 0.76078431 0.75294118 0.79215686 0.83921569\n",
      " 0.85882353 0.86666667 0.8627451  0.9254902  0.88235294 0.84705882\n",
      " 0.78039216 0.80784314 0.72941176 0.70980392 0.69411765 0.6745098\n",
      " 0.70980392 0.80392157 0.80784314 0.45098039 0.         0.47843137\n",
      " 0.85882353 0.75686275 0.70196078 0.67058824 0.71764706 0.76862745\n",
      " 0.8        0.82352941 0.83529412 0.81176471 0.82745098 0.82352941\n",
      " 0.78431373 0.76862745 0.76078431 0.74901961 0.76470588 0.74901961\n",
      " 0.77647059 0.75294118 0.69019608 0.61176471 0.65490196 0.69411765\n",
      " 0.82352941 0.36078431 0.         0.         0.29019608 0.74117647\n",
      " 0.83137255 0.74901961 0.68627451 0.6745098  0.68627451 0.70980392\n",
      " 0.7254902  0.7372549  0.74117647 0.7372549  0.75686275 0.77647059\n",
      " 0.8        0.81960784 0.82352941 0.82352941 0.82745098 0.7372549\n",
      " 0.7372549  0.76078431 0.75294118 0.84705882 0.66666667 0.\n",
      " 0.00784314 0.         0.         0.         0.25882353 0.78431373\n",
      " 0.87058824 0.92941176 0.9372549  0.94901961 0.96470588 0.95294118\n",
      " 0.95686275 0.86666667 0.8627451  0.75686275 0.74901961 0.70196078\n",
      " 0.71372549 0.71372549 0.70980392 0.69019608 0.65098039 0.65882353\n",
      " 0.38823529 0.22745098 0.         0.         0.         0.\n",
      " 0.         0.         0.         0.         0.         0.15686275\n",
      " 0.23921569 0.17254902 0.28235294 0.16078431 0.1372549  0.\n",
      " 0.         0.         0.         0.         0.         0.\n",
      " 0.         0.         0.         0.         0.         0.\n",
      " 0.         0.         0.         0.         0.         0.\n",
      " 0.         0.         0.         0.         0.         0.\n",
      " 0.         0.         0.         0.         0.         0.\n",
      " 0.         0.         0.         0.         0.         0.\n",
      " 0.         0.         0.         0.         0.         0.\n",
      " 0.         0.         0.         0.         0.         0.\n",
      " 0.         0.         0.         0.         0.         0.\n",
      " 0.         0.         0.         0.         0.         0.\n",
      " 0.         0.         0.         0.         0.         0.\n",
      " 0.         0.         0.         0.        ]\n"
     ]
    }
   ],
   "source": [
    "# x축 데이터 스케일링\n",
    "X_train = X_train/255\n",
    "X_test = X_test/255\n",
    "print(X_train[0])"
   ]
  },
  {
   "cell_type": "code",
   "execution_count": 7,
   "metadata": {},
   "outputs": [],
   "source": [
    "# y축 데이터 전처리 (예측값이면 1, 아니면 0)\n",
    "Y_train = np_utils.to_categorical(y_train)\n",
    "Y_test = np_utils.to_categorical(y_test)"
   ]
  },
  {
   "cell_type": "code",
   "execution_count": 8,
   "metadata": {},
   "outputs": [],
   "source": [
    "model = models.Sequential()"
   ]
  },
  {
   "cell_type": "code",
   "execution_count": 9,
   "metadata": {},
   "outputs": [
    {
     "name": "stdout",
     "output_type": "stream",
     "text": [
      "WARNING:tensorflow:From C:\\kyh\\anaconda3\\lib\\site-packages\\keras\\backend\\tensorflow_backend.py:422: The name tf.global_variables is deprecated. Please use tf.compat.v1.global_variables instead.\n",
      "\n",
      "Train on 48000 samples, validate on 12000 samples\n",
      "Epoch 1/20\n",
      "48000/48000 [==============================] - 1s 24us/step - loss: 1.1238 - accuracy: 0.6556 - val_loss: 0.7169 - val_accuracy: 0.7630\n",
      "Epoch 2/20\n",
      "48000/48000 [==============================] - 1s 20us/step - loss: 0.6516 - accuracy: 0.7857 - val_loss: 0.5901 - val_accuracy: 0.8017\n",
      "Epoch 3/20\n",
      "48000/48000 [==============================] - 1s 22us/step - loss: 0.5644 - accuracy: 0.8098 - val_loss: 0.5366 - val_accuracy: 0.8152\n",
      "Epoch 4/20\n",
      "48000/48000 [==============================] - 1s 19us/step - loss: 0.5199 - accuracy: 0.8232 - val_loss: 0.5070 - val_accuracy: 0.8262\n",
      "Epoch 5/20\n",
      "48000/48000 [==============================] - 1s 19us/step - loss: 0.4930 - accuracy: 0.8309 - val_loss: 0.4845 - val_accuracy: 0.8287\n",
      "Epoch 6/20\n",
      "48000/48000 [==============================] - 1s 23us/step - loss: 0.4745 - accuracy: 0.8361 - val_loss: 0.4719 - val_accuracy: 0.8351\n",
      "Epoch 7/20\n",
      "48000/48000 [==============================] - 1s 22us/step - loss: 0.4603 - accuracy: 0.8409 - val_loss: 0.4662 - val_accuracy: 0.8357\n",
      "Epoch 8/20\n",
      "48000/48000 [==============================] - 1s 19us/step - loss: 0.4494 - accuracy: 0.8433 - val_loss: 0.4576 - val_accuracy: 0.8395\n",
      "Epoch 9/20\n",
      "48000/48000 [==============================] - 1s 19us/step - loss: 0.4378 - accuracy: 0.8486 - val_loss: 0.4438 - val_accuracy: 0.8451\n",
      "Epoch 10/20\n",
      "48000/48000 [==============================] - 1s 22us/step - loss: 0.4304 - accuracy: 0.8501 - val_loss: 0.4398 - val_accuracy: 0.8448\n",
      "Epoch 11/20\n",
      "48000/48000 [==============================] - 1s 22us/step - loss: 0.4229 - accuracy: 0.8525 - val_loss: 0.4297 - val_accuracy: 0.8487\n",
      "Epoch 12/20\n",
      "48000/48000 [==============================] - 1s 22us/step - loss: 0.4169 - accuracy: 0.8549 - val_loss: 0.4256 - val_accuracy: 0.8498\n",
      "Epoch 13/20\n",
      "48000/48000 [==============================] - 1s 19us/step - loss: 0.4102 - accuracy: 0.8581 - val_loss: 0.4317 - val_accuracy: 0.8484\n",
      "Epoch 14/20\n",
      "48000/48000 [==============================] - 1s 18us/step - loss: 0.4058 - accuracy: 0.8590 - val_loss: 0.4150 - val_accuracy: 0.8539\n",
      "Epoch 15/20\n",
      "48000/48000 [==============================] - 1s 19us/step - loss: 0.3995 - accuracy: 0.8620 - val_loss: 0.4113 - val_accuracy: 0.8560\n",
      "Epoch 16/20\n",
      "48000/48000 [==============================] - 1s 20us/step - loss: 0.3948 - accuracy: 0.8638 - val_loss: 0.4159 - val_accuracy: 0.8563\n",
      "Epoch 17/20\n",
      "48000/48000 [==============================] - 1s 23us/step - loss: 0.3906 - accuracy: 0.8652 - val_loss: 0.4313 - val_accuracy: 0.8501\n",
      "Epoch 18/20\n",
      "48000/48000 [==============================] - 1s 21us/step - loss: 0.3863 - accuracy: 0.8669 - val_loss: 0.4027 - val_accuracy: 0.8590\n",
      "Epoch 19/20\n",
      "48000/48000 [==============================] - 1s 20us/step - loss: 0.3817 - accuracy: 0.8676 - val_loss: 0.3980 - val_accuracy: 0.8631\n",
      "Epoch 20/20\n",
      "48000/48000 [==============================] - 1s 20us/step - loss: 0.3776 - accuracy: 0.8699 - val_loss: 0.3988 - val_accuracy: 0.8612\n",
      "10000/10000 [==============================] - 0s 10us/step\n",
      "loss:0.4204751090705395, accuracy:0.8503999710083008\n"
     ]
    }
   ],
   "source": [
    "# Hidden Layer 2개. \n",
    "model.add(layers.Dense(100, activation='relu', input_shape=(W*H,))) #input_shape는 처음에만 넣음\n",
    "model.add(layers.Dropout(0,5)) #50%... 절반 정도 끊겠다. 가지치겠다.(Pruning..overfitting 줄이기 위함.)\n",
    "model.add(layers.Dense(50, activation='relu'))\n",
    "model.add(layers.Dropout(0,25)) #25%\n",
    "model.add(layers.Dense(10, activation='softmax'))\n",
    "\n",
    "model.compile('sgd', 'categorical_crossentropy', metrics=['accuracy'])\n",
    "model.fit(X_train, Y_train, epochs=20, batch_size=100, validation_split=0.2)\n",
    "model_eval = model.evaluate(X_test, Y_test, batch_size=100)\n",
    "print('loss:{}, accuracy:{}'.format(*model_eval))"
   ]
  },
  {
   "cell_type": "code",
   "execution_count": 10,
   "metadata": {},
   "outputs": [
    {
     "name": "stdout",
     "output_type": "stream",
     "text": [
      "Train on 48000 samples, validate on 12000 samples\n",
      "Epoch 1/10\n",
      "48000/48000 [==============================] - 1s 22us/step - loss: 0.3746 - accuracy: 0.8699 - val_loss: 0.3965 - val_accuracy: 0.8608\n",
      "Epoch 2/10\n",
      "48000/48000 [==============================] - 1s 19us/step - loss: 0.3719 - accuracy: 0.8713 - val_loss: 0.4011 - val_accuracy: 0.8597\n",
      "Epoch 3/10\n",
      "48000/48000 [==============================] - 1s 26us/step - loss: 0.3682 - accuracy: 0.8719 - val_loss: 0.3852 - val_accuracy: 0.8658\n",
      "Epoch 4/10\n",
      "48000/48000 [==============================] - 1s 22us/step - loss: 0.3651 - accuracy: 0.8743 - val_loss: 0.3950 - val_accuracy: 0.8612\n",
      "Epoch 5/10\n",
      "48000/48000 [==============================] - 1s 23us/step - loss: 0.3622 - accuracy: 0.8742 - val_loss: 0.3931 - val_accuracy: 0.8643\n",
      "Epoch 6/10\n",
      "48000/48000 [==============================] - 1s 22us/step - loss: 0.3587 - accuracy: 0.8761 - val_loss: 0.3807 - val_accuracy: 0.8694\n",
      "Epoch 7/10\n",
      "48000/48000 [==============================] - 1s 22us/step - loss: 0.3568 - accuracy: 0.8755 - val_loss: 0.3838 - val_accuracy: 0.8657\n",
      "Epoch 8/10\n",
      "48000/48000 [==============================] - 1s 24us/step - loss: 0.3540 - accuracy: 0.8768 - val_loss: 0.3819 - val_accuracy: 0.8678\n",
      "Epoch 9/10\n",
      "48000/48000 [==============================] - 1s 21us/step - loss: 0.3507 - accuracy: 0.8788 - val_loss: 0.3786 - val_accuracy: 0.8712\n",
      "Epoch 10/10\n",
      "48000/48000 [==============================] - 1s 22us/step - loss: 0.3480 - accuracy: 0.8788 - val_loss: 0.3818 - val_accuracy: 0.8662\n"
     ]
    }
   ],
   "source": [
    "def plot_loss(history):\n",
    "    plt.plot(history.history['loss'])\n",
    "    plt.plot(history.history['val_loss'])\n",
    "    plt.title('Model Loss')\n",
    "    plt.ylabel('Loss')\n",
    "    plt.xlabel('Epoch')\n",
    "    plt.legend(['Training','Validation'])\n",
    "    plt.savefig('C:/kyh/eclipse/springWorkspace/sp10_SpringMVC_MultiFile/src/main/webapp/upload/Loss.png', dpi=300)\n",
    "    \n",
    "def plot_acc(history):\n",
    "    plt.plot(history.history['accuracy'])\n",
    "    plt.plot(history.history['val_accuracy'])\n",
    "    plt.title('Model Accuracy')\n",
    "    plt.ylabel('Accuracy')\n",
    "    plt.xlabel('Epoch')\n",
    "    plt.legend(['Training','Validation'])\n",
    "    plt.savefig('C:/kyh/eclipse/springWorkspace/sp10_SpringMVC_MultiFile/src/main/webapp/upload/Accuracy.png', dpi=300)\n",
    "    \n",
    "history = model.fit(X_train, Y_train, epochs=10, batch_size=100, validation_split=0.2)"
   ]
  },
  {
   "cell_type": "code",
   "execution_count": 11,
   "metadata": {},
   "outputs": [
    {
     "data": {
      "image/png": "[encoded data removed]",
      "text/plain": [
       "<Figure size 432x288 with 1 Axes>"
      ]
     },
     "metadata": {
      "needs_background": "light"
     },
     "output_type": "display_data"
    }
   ],
   "source": [
    "plot_loss(history)"
   ]
  },
  {
   "cell_type": "code",
   "execution_count": 12,
   "metadata": {
    "scrolled": false
   },
   "outputs": [
    {
     "data": {
      "image/png": "[encoded data removed]",
      "text/plain": [
       "<Figure size 432x288 with 1 Axes>"
      ]
     },
     "metadata": {
      "needs_background": "light"
     },
     "output_type": "display_data"
    }
   ],
   "source": [
    "plot_acc(history)"
   ]
  },
  {
   "cell_type": "markdown",
   "metadata": {},
   "source": [
    "### Image Data Plotting"
   ]
  },
  {
   "cell_type": "code",
   "execution_count": 13,
   "metadata": {},
   "outputs": [
    {
     "data": {
      "text/plain": [
       "<matplotlib.image.AxesImage at 0x10a62840308>"
      ]
     },
     "execution_count": 13,
     "metadata": {},
     "output_type": "execute_result"
    },
    {
     "data": {
      "image/png": "[encoded data removed]",
      "text/plain": [
       "<Figure size 432x288 with 1 Axes>"
      ]
     },
     "metadata": {
      "needs_background": "light"
     },
     "output_type": "display_data"
    }
   ],
   "source": [
    "plt.imshow(X_train[200].reshape(W,H), cmap='gray')"
   ]
  },
  {
   "cell_type": "code",
   "execution_count": 14,
   "metadata": {},
   "outputs": [
    {
     "data": {
      "text/plain": [
       "<matplotlib.image.AxesImage at 0x10a6304a4c8>"
      ]
     },
     "execution_count": 14,
     "metadata": {},
     "output_type": "execute_result"
    },
    {
     "data": {
      "image/png": "[encoded data removed]",
      "text/plain": [
       "<Figure size 432x288 with 1 Axes>"
      ]
     },
     "metadata": {
      "needs_background": "light"
     },
     "output_type": "display_data"
    }
   ],
   "source": [
    "plt.imshow(X_train[30000].reshape(W,H), cmap='gray')"
   ]
  },
  {
   "cell_type": "code",
   "execution_count": 15,
   "metadata": {},
   "outputs": [
    {
     "data": {
      "text/plain": [
       "<matplotlib.image.AxesImage at 0x10a627f6f48>"
      ]
     },
     "execution_count": 15,
     "metadata": {},
     "output_type": "execute_result"
    },
    {
     "data": {
      "image/png": "[encoded data removed]",
      "text/plain": [
       "<Figure size 432x288 with 1 Axes>"
      ]
     },
     "metadata": {
      "needs_background": "light"
     },
     "output_type": "display_data"
    }
   ],
   "source": [
    "plt.imshow(X_train[2300].reshape(W,H), cmap='gray')"
   ]
  },
  {
   "cell_type": "code",
   "execution_count": 16,
   "metadata": {},
   "outputs": [
    {
     "data": {
      "image/png": "[encoded data removed]",
      "text/plain": [
       "<Figure size 648x432 with 10 Axes>"
      ]
     },
     "metadata": {},
     "output_type": "display_data"
    }
   ],
   "source": [
    "row = 2\n",
    "col = 5\n",
    "\n",
    "grid = range(10)\n",
    "fig, axs = plt.subplots(nrows = row, ncols = col, figsize=(9,6),\n",
    "           subplot_kw={'xticks':[ ],'yticks':[ ]})\n",
    "\n",
    "for ax, index in zip(axs.flat, grid):\n",
    "    ax.imshow(X_train[index].reshape(28,28), cmap='gray')\n",
    "    \n",
    "plt.show()"
   ]
  },
  {
   "cell_type": "code",
   "execution_count": null,
   "metadata": {},
   "outputs": [],
   "source": []
  },
  {
   "cell_type": "code",
   "execution_count": null,
   "metadata": {},
   "outputs": [],
   "source": []
  },
  {
   "cell_type": "code",
   "execution_count": null,
   "metadata": {},
   "outputs": [],
   "source": []
  },
  {
   "cell_type": "code",
   "execution_count": null,
   "metadata": {},
   "outputs": [],
   "source": []
  },
  {
   "cell_type": "code",
   "execution_count": null,
   "metadata": {},
   "outputs": [],
   "source": []
  },
  {
   "cell_type": "code",
   "execution_count": null,
   "metadata": {},
   "outputs": [],
   "source": []
  },
  {
   "cell_type": "code",
   "execution_count": null,
   "metadata": {},
   "outputs": [],
   "source": []
  }
 ],
 "metadata": {
  "kernelspec": {
   "display_name": "Python 3",
   "language": "python",
   "name": "python3"
  },
  "language_info": {
   "codemirror_mode": {
    "name": "ipython",
    "version": 3
   },
   "file_extension": ".py",
   "mimetype": "text/x-python",
   "name": "python",
   "nbconvert_exporter": "python",
   "pygments_lexer": "ipython3",
   "version": "3.7.7"
  }
 },
 "nbformat": 4,
 "nbformat_minor": 4
}
