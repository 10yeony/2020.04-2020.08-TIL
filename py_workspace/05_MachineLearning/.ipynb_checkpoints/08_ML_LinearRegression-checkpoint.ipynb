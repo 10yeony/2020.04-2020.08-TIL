{
 "cells": [
  {
   "cell_type": "markdown",
   "metadata": {},
   "source": [
    "## 선형회귀(Linear Regression) - 심화"
   ]
  },
  {
   "cell_type": "markdown",
   "metadata": {},
   "source": [
    "#### Linear Regression을 활용하여 섭씨온도(C, Celsius)를 화씨온도(F, Fahrenheit)로 변환해주는 공식을 만들수 있다. \n",
    "섭씨온도과 화씨온도의 관계는 앞에서 우리가 살펴보았던 선형회귀의 관계를 가지고 있다.\n",
    "#### H(x) = aX + b 에서처럼, F = C*1.8 +32 \n",
    "이때, 1.8과 32라는 값을 모르고 있다고 가정하고, 머신러닝 알고리즘을 이용해서 주어진 섭씨 온도와 화씨온도 데이타 만으로 이 값들을 찾아내는 실습을 진행해보도록 하겠다.\n",
    "Chain Rule 증명 ----> 구글 검색 하면 여기에 사용되는 증명 공식들,,미분, 편미분..공식들이 나온다.참조바람"
   ]
  },
  {
   "cell_type": "markdown",
   "metadata": {},
   "source": [
    "### Configuration (or prerequisite)"
   ]
  },
  {
   "cell_type": "code",
   "execution_count": 1,
   "metadata": {},
   "outputs": [],
   "source": [
    "import numpy as np\n",
    "import pandas as pd\n",
    "import matplotlib.pyplot as plt"
   ]
  },
  {
   "cell_type": "markdown",
   "metadata": {},
   "source": [
    "### Generate Dataset"
   ]
  },
  {
   "cell_type": "markdown",
   "metadata": {},
   "source": [
    "#### 선형회귀 문제를 다루기 위한 학습용 데이타셋을 생성\n",
    "1도에서 100도 사이의 값을 갖는 섭씨온도 데이타를 100개 만들어보자\n",
    "이 데이타가 해당 머신러닝 알고리즘에서 사실상 Feature가 될 것이다."
   ]
  },
  {
   "cell_type": "code",
   "execution_count": 2,
   "metadata": {
    "scrolled": true
   },
   "outputs": [
    {
     "data": {
      "text/plain": [
       "array([69, 75, 20, 67, 78, 16, 36, 17, 85, 47, 45, 73, 22, 99, 36, 82, 97,\n",
       "       39, 42, 52, 89, 78, 83,  9, 33, 58, 91, 81, 71, 54, 78, 90, 41, 37,\n",
       "       28, 93, 40, 84, 28, 81,  1, 92,  4, 57, 95, 56, 96, 87, 69, 88, 42,\n",
       "       10, 34,  9, 52,  4, 19, 57, 68, 97, 84, 93,  4,  3, 57, 92,  1, 45,\n",
       "       96, 81, 73, 55, 18, 69, 92, 19, 46, 74, 82,  1, 65,  7, 28, 68, 80,\n",
       "       97, 39, 28, 67, 60, 13, 71, 88, 51, 54, 80, 49, 42, 58, 16])"
      ]
     },
     "execution_count": 2,
     "metadata": {},
     "output_type": "execute_result"
    }
   ],
   "source": [
    "# 100개가 x의 값이 됨.. x로 섭씨온도(Feature), y로 화씨온도\n",
    "\n",
    "C = np.random.randint(low=1,high=101, size=100)\n",
    "C"
   ]
  },
  {
   "cell_type": "code",
   "execution_count": 3,
   "metadata": {},
   "outputs": [
    {
     "name": "stdout",
     "output_type": "stream",
     "text": [
      "(100,)\n"
     ]
    },
    {
     "data": {
      "text/plain": [
       "array([69, 75, 20, 67, 78, 16, 36, 17, 85, 47])"
      ]
     },
     "execution_count": 3,
     "metadata": {},
     "output_type": "execute_result"
    }
   ],
   "source": [
    "print(C.shape)\n",
    "C[:10]"
   ]
  },
  {
   "cell_type": "markdown",
   "metadata": {},
   "source": [
    "### 섭씨온도 데이타에 상응하는 화씨온도를 생성\n",
    "    우리가 알고있던 기존의 섭씨-화씨변환 공식을 적용해서 위 섭씨온도 데이타에 대응하는 화씨온도 데이타를 생성. \n",
    "    이 데이타가 오늘 다룰 학습 모델 알고리즘의 Label이 될 것이다."
   ]
  },
  {
   "cell_type": "code",
   "execution_count": 4,
   "metadata": {},
   "outputs": [
    {
     "data": {
      "text/plain": [
       "array([156.2, 167. ,  68. , 152.6, 172.4,  60.8,  96.8,  62.6, 185. ,\n",
       "       116.6, 113. , 163.4,  71.6, 210.2,  96.8, 179.6, 206.6, 102.2,\n",
       "       107.6, 125.6, 192.2, 172.4, 181.4,  48.2,  91.4, 136.4, 195.8,\n",
       "       177.8, 159.8, 129.2, 172.4, 194. , 105.8,  98.6,  82.4, 199.4,\n",
       "       104. , 183.2,  82.4, 177.8,  33.8, 197.6,  39.2, 134.6, 203. ,\n",
       "       132.8, 204.8, 188.6, 156.2, 190.4, 107.6,  50. ,  93.2,  48.2,\n",
       "       125.6,  39.2,  66.2, 134.6, 154.4, 206.6, 183.2, 199.4,  39.2,\n",
       "        37.4, 134.6, 197.6,  33.8, 113. , 204.8, 177.8, 163.4, 131. ,\n",
       "        64.4, 156.2, 197.6,  66.2, 114.8, 165.2, 179.6,  33.8, 149. ,\n",
       "        44.6,  82.4, 154.4, 176. , 206.6, 102.2,  82.4, 152.6, 140. ,\n",
       "        55.4, 159.8, 190.4, 123.8, 129.2, 176. , 120.2, 107.6, 136.4,\n",
       "        60.8])"
      ]
     },
     "execution_count": 4,
     "metadata": {},
     "output_type": "execute_result"
    }
   ],
   "source": [
    "F = C * 1.8 + 32\n",
    "F"
   ]
  },
  {
   "cell_type": "code",
   "execution_count": 5,
   "metadata": {},
   "outputs": [
    {
     "name": "stdout",
     "output_type": "stream",
     "text": [
      "(100,)\n"
     ]
    },
    {
     "data": {
      "text/plain": [
       "array([156.2, 167. ,  68. , 152.6, 172.4,  60.8,  96.8,  62.6, 185. ,\n",
       "       116.6])"
      ]
     },
     "execution_count": 5,
     "metadata": {},
     "output_type": "execute_result"
    }
   ],
   "source": [
    "print(F.shape)\n",
    "F[:10]"
   ]
  },
  {
   "cell_type": "markdown",
   "metadata": {},
   "source": [
    "### Visualization\n",
    "    위에서 우리가 만든 Feature와 Label을 직관적으로 확인할 수 있는 선형을 일단 그려놓자"
   ]
  },
  {
   "cell_type": "code",
   "execution_count": 6,
   "metadata": {},
   "outputs": [
    {
     "data": {
      "image/png": "[encoded data removed]",
      "text/plain": [
       "<Figure size 432x288 with 1 Axes>"
      ]
     },
     "metadata": {
      "needs_background": "light"
     },
     "output_type": "display_data"
    }
   ],
   "source": [
    "plt.scatter(C,F)\n",
    "plt.xlabel('Celsius Temperature')\n",
    "plt.ylabel('Fahrenheit Temperature')\n",
    "plt.show()"
   ]
  },
  {
   "cell_type": "markdown",
   "metadata": {},
   "source": [
    "### Bias (편향 찾기) -- Weight는 1.8"
   ]
  },
  {
   "cell_type": "markdown",
   "metadata": {},
   "source": [
    "#### Weight는 1.8로 주고 Bias를 직관적으로 한번 찾아보겠다."
   ]
  },
  {
   "cell_type": "code",
   "execution_count": 7,
   "metadata": {},
   "outputs": [],
   "source": [
    "X = C # Feature (원래 대소문자 차원으로 구분함. X도 1차원이지만 Feature이므로 대문자로 표현하겠다)\n",
    "y = F # Lable"
   ]
  },
  {
   "cell_type": "code",
   "execution_count": 8,
   "metadata": {},
   "outputs": [
    {
     "data": {
      "text/plain": [
       "(1.8, -0.13104363423233956)"
      ]
     },
     "execution_count": 8,
     "metadata": {},
     "output_type": "execute_result"
    }
   ],
   "source": [
    "w = 1.8 # 이 값은 고정\n",
    "b = np.random.uniform(low=-1.0, high=1.0) #-1~1 사이의 값으로 랜덤하게 b라는 값을 지정하겠다.\n",
    "# uniform으로 값을 줘서 시드값 안 줘도 비슷하게 나올 것.\n",
    "#uniform 함수는 정규분포에 의거해서 랜덤하게 값을 뽑아올 수 있는 함수\n",
    "# 다시 말해, 랜덤하게 뽑아오는데 분포가 있도록 뽑음\n",
    "# 데이터를 너무 무작위로 뽑아모면 학습하기 굉장히 힘든 값도 가져올 수 있음.\n",
    "# 실세계에 있는 다양한 값들이 정규분포로 되어있음. 그래서 쓰는 것.\n",
    "\n",
    "w, b #실행할 때마다 w 값은 고정이지만 b 값은 계속 변할 것"
   ]
  },
  {
   "cell_type": "code",
   "execution_count": 9,
   "metadata": {},
   "outputs": [
    {
     "data": {
      "text/plain": [
       "array([124.06895637, 134.86895637,  35.86895637, 120.46895637,\n",
       "       140.26895637,  28.66895637,  64.66895637,  30.46895637,\n",
       "       152.86895637,  84.46895637])"
      ]
     },
     "execution_count": 9,
     "metadata": {},
     "output_type": "execute_result"
    }
   ],
   "source": [
    "y_predict = w * X + b\n",
    "y_predict[:10]"
   ]
  },
  {
   "cell_type": "code",
   "execution_count": 10,
   "metadata": {},
   "outputs": [
    {
     "data": {
      "image/png": "[encoded data removed]",
      "text/plain": [
       "<Figure size 432x288 with 1 Axes>"
      ]
     },
     "metadata": {
      "needs_background": "light"
     },
     "output_type": "display_data"
    }
   ],
   "source": [
    "plt.scatter(C, F)\n",
    "plt.plot(C, y_predict, c='r')\n",
    "plt.show()"
   ]
  },
  {
   "cell_type": "markdown",
   "metadata": {},
   "source": [
    "### Bias 보정\n",
    "    w 값은 고정인데 지금 위의 그래프에서 오차가 생기는 건 Bias 때문임. 그래서 Bias를 보정"
   ]
  },
  {
   "cell_type": "code",
   "execution_count": 11,
   "metadata": {},
   "outputs": [
    {
     "data": {
      "text/plain": [
       "32.0"
      ]
     },
     "execution_count": 11,
     "metadata": {},
     "output_type": "execute_result"
    }
   ],
   "source": [
    "b = b - (y_predict-y).mean() # mean 안해주면 동일한 값이 100개 나옴.\n",
    "b"
   ]
  },
  {
   "cell_type": "markdown",
   "metadata": {},
   "source": [
    "#### 새로운 예측"
   ]
  },
  {
   "cell_type": "code",
   "execution_count": 12,
   "metadata": {},
   "outputs": [
    {
     "data": {
      "text/plain": [
       "array([156.2, 167. ,  68. , 152.6, 172.4,  60.8,  96.8,  62.6, 185. ,\n",
       "       116.6])"
      ]
     },
     "execution_count": 12,
     "metadata": {},
     "output_type": "execute_result"
    }
   ],
   "source": [
    "y_predict = w * X + b\n",
    "y_predict[:10]"
   ]
  },
  {
   "cell_type": "code",
   "execution_count": 13,
   "metadata": {},
   "outputs": [
    {
     "data": {
      "image/png": "[encoded data removed]",
      "text/plain": [
       "<Figure size 432x288 with 1 Axes>"
      ]
     },
     "metadata": {
      "needs_background": "light"
     },
     "output_type": "display_data"
    }
   ],
   "source": [
    "plt.scatter(C, F)\n",
    "plt.plot(C, y_predict, c='r')\n",
    "plt.show()"
   ]
  },
  {
   "cell_type": "markdown",
   "metadata": {},
   "source": [
    "### 정규분포에 해당하는 weight과 bias 값을 랜덤하게 초기화\n",
    "    실제값과 예측한 결과값 사이에 오차가 발생할 것이다.\n",
    "    오차를 줄여가야 한다 = Loss Function이 0에 가까워지도록 학습을 진행해야 한다."
   ]
  },
  {
   "cell_type": "code",
   "execution_count": 14,
   "metadata": {},
   "outputs": [
    {
     "data": {
      "text/plain": [
       "(0.10868699464050446, -0.47242285810934836)"
      ]
     },
     "execution_count": 14,
     "metadata": {},
     "output_type": "execute_result"
    }
   ],
   "source": [
    "# 정규분포에 의거하여 w와 b를 분포가 있도록 랜덤하게 뽑아낸다.\n",
    "w = np.random.uniform(low=-1.0, high=1.0)\n",
    "b = np.random.uniform(low=-1.0, high=1.0)\n",
    "w, b"
   ]
  },
  {
   "cell_type": "code",
   "execution_count": 15,
   "metadata": {},
   "outputs": [
    {
     "data": {
      "text/plain": [
       "array([7.02697977, 7.67910174, 1.70131703, 6.80960578, 8.00516272,\n",
       "       1.26656906, 3.44030895, 1.37525605, 8.76597169, 4.63586589])"
      ]
     },
     "execution_count": 15,
     "metadata": {},
     "output_type": "execute_result"
    }
   ],
   "source": [
    "y_predict = w * X + b\n",
    "y_predict[:10] \n",
    "#위에서는 w를 고정하고 b만 변화를 줬는데\n",
    "#이번에는 일정한 분포로 커지는 게 아니라 각도도 달라질 수 있음. 기울기 w로 변하므로."
   ]
  },
  {
   "cell_type": "code",
   "execution_count": 16,
   "metadata": {},
   "outputs": [
    {
     "data": {
      "image/png": "[encoded data removed]",
      "text/plain": [
       "<Figure size 432x288 with 1 Axes>"
      ]
     },
     "metadata": {
      "needs_background": "light"
     },
     "output_type": "display_data"
    }
   ],
   "source": [
    "plt.scatter(C, F)\n",
    "plt.plot(C, y_predict, c='r')\n",
    "plt.show()"
   ]
  },
  {
   "cell_type": "markdown",
   "metadata": {},
   "source": [
    "### Gradient Descent"
   ]
  },
  {
   "cell_type": "markdown",
   "metadata": {},
   "source": [
    "### 가중치(Weight, W), 편향(Bias, B) 찾기\n",
    "#### 이제 경사하강법(Gradient Descent)을 사용하여 섭씨온도를 화씨온도로 변환해줄 주 있는 공식을 찾아보겠다.\n",
    "공식의 세부내용은 모른다치고, 두 변수(X,y)가 선형(Linear)과 관계있음을 가정(y=X * w + b)하여 가중치(weight)와 편차(bias)를 정의해 둔다. 그리고 경사하강법을 이용해서 선형회귀를 학습시킨다.\n",
    "학습이 완료되면, 얻어진 최적의 가중치와 편차로 섭씨온도를 화씨온도로 변환해주는 공식을 만들어 줄수 있다.\n",
    "학습은 모든 epoch이 끝날 때까지 반복할 수도 있지만, 여기선 오차(error)가 0.1 이하가 되면 학습을 종료하도록 한다."
   ]
  },
  {
   "cell_type": "code",
   "execution_count": 33,
   "metadata": {},
   "outputs": [
    {
     "name": "stdout",
     "output_type": "stream",
     "text": [
      "    0 w=2.745, b=-0.408, loss=161.090\n",
      "10000 w=2.037, b=15.241, loss=6.305\n",
      "20000 w=1.922, b=23.335, loss=3.260\n",
      "30000 w=1.863, b=27.520, loss=1.686\n",
      "40000 w=1.833, b=29.684, loss=0.871\n",
      "50000 w=1.817, b=30.802, loss=0.451\n",
      "60000 w=1.809, b=31.381, loss=0.233\n",
      "70000 w=1.805, b=31.680, loss=0.120\n",
      "------------------------------------------------------------------------------------------\n",
      "72821 w=1.804, b=31.734, loss=0.100\n"
     ]
    }
   ],
   "source": [
    "num_epoch = 100000 # 학습 횟수\n",
    "'''\n",
    "learning rate 값이 작을수록 더욱 w, b 값이 미세하게 조정\n",
    "학습하는 시간이 더 올래 걸린다... 하지만 더 최적의 값을 찾을 수 있다.\n",
    "'''\n",
    "learning_rate = 0.0003\n",
    "w = np.random.uniform(low=-1.0, high=1.0)\n",
    "b = np.random.uniform(low=-1.0, high=1.0)\n",
    "\n",
    "loss = 0\n",
    "\n",
    "for epoch in range(num_epoch):\n",
    "    y_predict = w * X + b\n",
    "    \n",
    "    # 현재 오차(loss, error)를 구한다\n",
    "    loss = np.abs(y_predict - y).mean()\n",
    "    \n",
    "    if loss < 0.1:\n",
    "        break\n",
    "\n",
    "    # loss가 0.1에 가까워질 때까지 w, b 값을 보정(=미분, 편미분) => 이 작업을 Back Propagation\n",
    "    # leaning_rate * ((y_predict-y) * X).mean()\n",
    "    w = w-learning_rate * ((y_predict-y) * X).mean()\n",
    "    b = b-learning_rate * (y_predict-y).mean()\n",
    "    \n",
    "    # 10000회마다 epoch, w, b, loss를 출력해서 점점 값들이 어떤 양상을 띠는지 확인\n",
    "    if epoch % 10000 == 0:\n",
    "        print(f'{epoch:5} w={w:.3f}, b={b:.3f}, loss={loss:.3f}')\n",
    "print('---'*30)\n",
    "print(f'{epoch:5} w={w:.3f}, b={b:.3f}, loss={loss:.3f}')"
   ]
  },
  {
   "cell_type": "markdown",
   "metadata": {},
   "source": [
    "### Predict"
   ]
  },
  {
   "cell_type": "code",
   "execution_count": 34,
   "metadata": {
    "scrolled": true
   },
   "outputs": [
    {
     "data": {
      "text/plain": [
       "array([156.19306688, 167.01557675,  67.80923634, 152.5855636 ,\n",
       "       172.42683168,  60.59422977,  96.66926264,  62.39798141,\n",
       "       185.05309318, 116.51053072])"
      ]
     },
     "execution_count": 34,
     "metadata": {},
     "output_type": "execute_result"
    }
   ],
   "source": [
    "y_predict = w * C + b\n",
    "y_predict[:10]"
   ]
  },
  {
   "cell_type": "markdown",
   "metadata": {},
   "source": [
    "### Visualization"
   ]
  },
  {
   "cell_type": "code",
   "execution_count": 36,
   "metadata": {},
   "outputs": [
    {
     "data": {
      "text/html": [
       "<div>\n",
       "<style scoped>\n",
       "    .dataframe tbody tr th:only-of-type {\n",
       "        vertical-align: middle;\n",
       "    }\n",
       "\n",
       "    .dataframe tbody tr th {\n",
       "        vertical-align: top;\n",
       "    }\n",
       "\n",
       "    .dataframe thead th {\n",
       "        text-align: right;\n",
       "    }\n",
       "</style>\n",
       "<table border=\"1\" class=\"dataframe\">\n",
       "  <thead>\n",
       "    <tr style=\"text-align: right;\">\n",
       "      <th></th>\n",
       "      <th>C</th>\n",
       "      <th>F</th>\n",
       "      <th>F(predict)</th>\n",
       "    </tr>\n",
       "  </thead>\n",
       "  <tbody>\n",
       "    <tr>\n",
       "      <th>0</th>\n",
       "      <td>69</td>\n",
       "      <td>156.2</td>\n",
       "      <td>156.193067</td>\n",
       "    </tr>\n",
       "    <tr>\n",
       "      <th>1</th>\n",
       "      <td>75</td>\n",
       "      <td>167.0</td>\n",
       "      <td>167.015577</td>\n",
       "    </tr>\n",
       "    <tr>\n",
       "      <th>2</th>\n",
       "      <td>20</td>\n",
       "      <td>68.0</td>\n",
       "      <td>67.809236</td>\n",
       "    </tr>\n",
       "    <tr>\n",
       "      <th>3</th>\n",
       "      <td>67</td>\n",
       "      <td>152.6</td>\n",
       "      <td>152.585564</td>\n",
       "    </tr>\n",
       "    <tr>\n",
       "      <th>4</th>\n",
       "      <td>78</td>\n",
       "      <td>172.4</td>\n",
       "      <td>172.426832</td>\n",
       "    </tr>\n",
       "    <tr>\n",
       "      <th>5</th>\n",
       "      <td>16</td>\n",
       "      <td>60.8</td>\n",
       "      <td>60.594230</td>\n",
       "    </tr>\n",
       "    <tr>\n",
       "      <th>6</th>\n",
       "      <td>36</td>\n",
       "      <td>96.8</td>\n",
       "      <td>96.669263</td>\n",
       "    </tr>\n",
       "    <tr>\n",
       "      <th>7</th>\n",
       "      <td>17</td>\n",
       "      <td>62.6</td>\n",
       "      <td>62.397981</td>\n",
       "    </tr>\n",
       "    <tr>\n",
       "      <th>8</th>\n",
       "      <td>85</td>\n",
       "      <td>185.0</td>\n",
       "      <td>185.053093</td>\n",
       "    </tr>\n",
       "    <tr>\n",
       "      <th>9</th>\n",
       "      <td>47</td>\n",
       "      <td>116.6</td>\n",
       "      <td>116.510531</td>\n",
       "    </tr>\n",
       "  </tbody>\n",
       "</table>\n",
       "</div>"
      ],
      "text/plain": [
       "    C      F  F(predict)\n",
       "0  69  156.2  156.193067\n",
       "1  75  167.0  167.015577\n",
       "2  20   68.0   67.809236\n",
       "3  67  152.6  152.585564\n",
       "4  78  172.4  172.426832\n",
       "5  16   60.8   60.594230\n",
       "6  36   96.8   96.669263\n",
       "7  17   62.6   62.397981\n",
       "8  85  185.0  185.053093\n",
       "9  47  116.6  116.510531"
      ]
     },
     "execution_count": 36,
     "metadata": {},
     "output_type": "execute_result"
    }
   ],
   "source": [
    "result = pd.DataFrame({'C':C, 'F':F, 'F(predict)':y_predict})\n",
    "result.head(10)"
   ]
  },
  {
   "cell_type": "code",
   "execution_count": 37,
   "metadata": {},
   "outputs": [
    {
     "data": {
      "image/png": "[encoded data removed]",
      "text/plain": [
       "<Figure size 432x288 with 1 Axes>"
      ]
     },
     "metadata": {
      "needs_background": "light"
     },
     "output_type": "display_data"
    }
   ],
   "source": [
    "plt.scatter(C,F)\n",
    "plt.plot(C, y_predict, c='r')\n",
    "plt.show()"
   ]
  },
  {
   "cell_type": "markdown",
   "metadata": {},
   "source": [
    "#### 선형 회귀의 학습이 끝났으면, 이제 이 머신러닝 알고리즘을 활용하여 변환공식을 완성하고, 주어진 섭씨온도를 화씨온도로 변환(혹은 섭씨온도로 화씨온도를 예측)할 수 있습니다. 앞서 만들어준 데이터를 그대로 활용하여 주어진 섭씨온도(C)로 화씨온도를 예측해보겠습니다."
   ]
  },
  {
   "cell_type": "code",
   "execution_count": null,
   "metadata": {},
   "outputs": [],
   "source": []
  }
 ],
 "metadata": {
  "kernelspec": {
   "display_name": "Python 3",
   "language": "python",
   "name": "python3"
  },
  "language_info": {
   "codemirror_mode": {
    "name": "ipython",
    "version": 3
   },
   "file_extension": ".py",
   "mimetype": "text/x-python",
   "name": "python",
   "nbconvert_exporter": "python",
   "pygments_lexer": "ipython3",
   "version": "3.7.7"
  }
 },
 "nbformat": 4,
 "nbformat_minor": 4
}
