{
 "cells": [
  {
   "cell_type": "markdown",
   "metadata": {},
   "source": [
    "### Numpy 배열 생성하기 - array(), rand()"
   ]
  },
  {
   "cell_type": "code",
   "execution_count": 1,
   "metadata": {
    "collapsed": true
   },
   "outputs": [
    {
     "data": {
      "text/plain": [
       "'\\n\\n'"
      ]
     },
     "execution_count": 1,
     "metadata": {},
     "output_type": "execute_result"
    }
   ],
   "source": [
    "'''\n",
    "Numpy는 Numeric Python의 약자이다.\n",
    "수학분야 관련된 통계 작업시 사용하는 파이썬의 가장 기본이 되는 라이브러리\n",
    "과학계산 컴퓨팅 작업과 데이터 분석에 필요한 작업이 가능\n",
    "리스트와 거의 흡사하지만\n",
    "훨씬 더 빠르고 메모리 효율성이 높아서 성능상 우위에 있다.\n",
    "\n",
    "1) import 해서 쓴다.\n",
    "2) array() 사용\n",
    "3) random의 랜덤함수들 사용\n",
    "'''"
   ]
  },
  {
   "cell_type": "markdown",
   "metadata": {},
   "source": [
    "##### np배열과 리스트를 각각 생성, 비교"
   ]
  },
  {
   "cell_type": "code",
   "execution_count": 3,
   "metadata": {},
   "outputs": [],
   "source": [
    "import numpy as np"
   ]
  },
  {
   "cell_type": "code",
   "execution_count": 6,
   "metadata": {},
   "outputs": [
    {
     "name": "stdout",
     "output_type": "stream",
     "text": [
      "[4, 5, 6, 7]\n",
      "[4 5 6 7]\n",
      "<class 'list'>\n",
      "<class 'numpy.ndarray'>\n"
     ]
    }
   ],
   "source": [
    "#1. array() 사용해서 np배열을 생성\n",
    "'''\n",
    "1. 리스트는 출력결과가 [ ] 안에.... 요소들이 ,로 구분\n",
    "2. np배열은 출력결과가 [ ] 안에.... 요소들이 ,로 구분되지 않는다\n",
    "3. np배열은 ndarray객체 타입으로 나온다.\n",
    "   ndarray 객체는 다차원 행렬 구조를 지원하는 Numpy의 핵심클래스이다.(앞으로 많이 나올 것)\n",
    "'''\n",
    "\n",
    "myList = [4,5,6,7]\n",
    "print(myList)\n",
    "\n",
    "myArr=np.array(myList)\n",
    "print(myArr)\n",
    "\n",
    "print(type(myList))\n",
    "print(type(myArr)) #<class 'numpy.ndarray'>라고 뜨는데 ndarray는 다차원 객체라는 얘기."
   ]
  },
  {
   "cell_type": "code",
   "execution_count": 7,
   "metadata": {},
   "outputs": [
    {
     "data": {
      "text/plain": [
       "array([4, 5, 6, 7])"
      ]
     },
     "execution_count": 7,
     "metadata": {},
     "output_type": "execute_result"
    }
   ],
   "source": [
    "myList\n",
    "myArr #정식적으로 출력하면 , 없지만 그냥 찍어보면 이렇게 나옴"
   ]
  },
  {
   "cell_type": "code",
   "execution_count": 15,
   "metadata": {},
   "outputs": [
    {
     "name": "stdout",
     "output_type": "stream",
     "text": [
      "[5, 6]\n",
      "[-5  6]\n",
      "[-5, 6]\n",
      "[-5  6]\n",
      "[4, 5, 6, 7]\n",
      "[ 4 -5  6  7]\n"
     ]
    }
   ],
   "source": [
    "myL_sub=myList[1:3]\n",
    "print(myL_sub)\n",
    "\n",
    "myA_sub=myArr[1:3]\n",
    "print(myA_sub)\n",
    "\n",
    "myL_sub[0] = -5\n",
    "print(myL_sub)\n",
    "\n",
    "myA_sub[0] = -5\n",
    "print(myA_sub)\n",
    "\n",
    "print(myList)\n",
    "print(myArr) \n",
    "#넘파이배열은 리스트와 거의 똑같지만\n",
    "#리스트의 원본은 유지되지 않지만(메모리에서 계속해서 다른 객체를 만들어버림)\n",
    "#넘파이배열은 원본이 바뀌어버림. 메모리 효율성이 뛰어남."
   ]
  },
  {
   "cell_type": "code",
   "execution_count": 91,
   "metadata": {
    "scrolled": true
   },
   "outputs": [
    {
     "name": "stdout",
     "output_type": "stream",
     "text": [
      "[0.98093529 0.89996053 0.36439176 0.97485418 0.59653065]\n",
      "<class 'numpy.ndarray'>\n",
      "******************************\n",
      "[7 9 3 8 4]\n",
      "<class 'numpy.ndarray'>\n",
      "******************************\n",
      "[1 1 0 1 1 1 0 1 1 1 0 0 1 0 0 0 0 1 0 0 1 0 0 0 0 1 0 1 0 1 0 0 1 0 1 1 1\n",
      " 1 1 0 0 1 0 0 0 0 1 0 0 0 1 0 1 0 0 0 1 0 1 0 0 0 0 1 0 0 1 0 1 1 0 0 0 1\n",
      " 1 0 0 0 0 0 1 1 0 1 1 0 1 1 0 1 0 0 0 1 0 0 0 0 1 0]\n",
      "<class 'numpy.ndarray'>\n",
      "******************************\n",
      "[-0.98161243 -0.54604019  1.93666283  1.53192994 -0.82363165  0.89556916\n",
      " -0.80915968  0.16841288 -0.14148051 -0.30839014]\n",
      "<class 'numpy.ndarray'>\n"
     ]
    }
   ],
   "source": [
    "# 2. 랜덤함수 사용해서 생성..\n",
    "# rand(), randint()\n",
    "\n",
    "a = np.random.rand(5) #발생되는 난수들의 개수를 인자값을 넣는다\n",
    "print(a)\n",
    "print(type(a))\n",
    "\n",
    "print('*'*30)\n",
    "\n",
    "b = np.random.randint(1,10,5)\n",
    "print(b)\n",
    "print(type(b))\n",
    "\n",
    "print('*'*30)\n",
    "\n",
    "b = np.random.randint(0,2,100)\n",
    "print(b)\n",
    "print(type(b))\n",
    "\n",
    "print('*'*30)\n",
    "\n",
    "c = np.random.randn(10) #가우시안 표준분포\n",
    "print(c)\n",
    "print(type(c))"
   ]
  },
  {
   "cell_type": "code",
   "execution_count": 99,
   "metadata": {},
   "outputs": [
    {
     "name": "stdout",
     "output_type": "stream",
     "text": [
      "[1, 2, 3, '4', 5, 6, 7]\n",
      "['1' '2' '3' '4' '5' '6']\n",
      "[1. 2. 3. 4. 5. 6.]\n"
     ]
    },
    {
     "data": {
      "text/plain": [
       "array([1, 2, 3, 4, 5])"
      ]
     },
     "execution_count": 99,
     "metadata": {},
     "output_type": "execute_result"
    }
   ],
   "source": [
    "## 리스트와의 차이점\n",
    "# 리스트는 서로 다른 자료형이 묶일 수 있음.\n",
    "'''\n",
    "np배열은 하나의 자료형만 저장 가능\n",
    "즉, 숫자와 문자를 동시에 저장할 수 없다.\n",
    "만약에 숫자와 문자가 동시에 저장되어지면 더 큰 데이터 타입인 문자로 변환되어 저장\n",
    "이러한 제약을 가지는 이유..... 내부 원소에 대한 접근과 반복문 실행을 빨리하기 위함\n",
    "나중에 배우게 될 Series에서 다시 한번 언급...!!!\n",
    "\n",
    "값의 타입을 명시할 수도 있다.\n",
    "dtype 속성을 사용한다... int32, int64, float32, float64\n",
    "'''\n",
    "L = [1,2,3,'4',5,6,7]\n",
    "print(L)\n",
    "\n",
    "narr1 = np.array([1,2,'3','4',5,6]) \n",
    "print(narr1) # 더 큰 범위인 문자열로 됨\n",
    "\n",
    "narr2 = np.array([1,2,3,4.0,5,6])\n",
    "print(narr2) # 더 큰 범위인 실수로 됨\n",
    "\n",
    "narr3 = np.array([1.0,2.0,3.0,4.0,5.0], dtype='int32')\n",
    "print(narr3)"
   ]
  },
  {
   "cell_type": "markdown",
   "metadata": {},
   "source": [
    "### 배열 초기화"
   ]
  },
  {
   "cell_type": "code",
   "execution_count": 88,
   "metadata": {},
   "outputs": [
    {
     "name": "stdout",
     "output_type": "stream",
     "text": [
      "[0. 0. 0. 0. 0. 0. 0. 0. 0. 0.]\n",
      "******************************\n",
      "[1. 1. 1. 1. 1. 1. 1. 1. 1. 1.]\n",
      "******************************\n",
      "[3. 3. 3. 3. 3. 3. 3. 3. 3. 3.]\n",
      "******************************\n",
      "[[1. 0. 0.]\n",
      " [0. 1. 0.]\n",
      " [0. 0. 1.]]\n",
      "[[1. 0. 0. 0. 0.]\n",
      " [0. 1. 0. 0. 0.]\n",
      " [0. 0. 1. 0. 0.]\n",
      " [0. 0. 0. 1. 0.]]\n",
      "******************************\n",
      "[0 1 2]\n",
      "[0 1 2]\n",
      "[1 2 3]\n",
      "[3 4 5 6 7 8 9]\n",
      "[3 5 7 9]\n",
      "******************************\n",
      "[[-11 -11 -11 -11 -11]\n",
      " [-11 -11 -11 -11 -11]\n",
      " [-11 -11 -11 -11 -11]\n",
      " [-11 -11 -11 -11 -11]\n",
      " [-11 -11 -11 -11 -11]]\n",
      "[[-11. -11. -11. -11. -11.]\n",
      " [-11. -11. -11. -11. -11.]\n",
      " [-11. -11. -11. -11. -11.]\n",
      " [-11. -11. -11. -11. -11.]\n",
      " [-11. -11. -11. -11. -11.]]\n",
      "[[-11 -11 -11 -11 -11]\n",
      " [-11 -11 -11 -11 -11]\n",
      " [-11 -11 -11 -11 -11]\n",
      " [-11 -11 -11 -11 -11]\n",
      " [-11 -11 -11 -11 -11]]\n"
     ]
    }
   ],
   "source": [
    "# 1. 0값으로 초기화.... zeros()\n",
    "az = np.zeros(10) #10개의 0\n",
    "print(az) #.이 보이는데 0.0으로 초기화되는 것.\n",
    "\n",
    "print('*'*30)\n",
    "\n",
    "# 2. 1값으로 초기화....ones()\n",
    "ao = np.ones(10)\n",
    "print(ao) #.이 보이는데 1.0으로 초기화되는 것.\n",
    "\n",
    "print('*'*30)\n",
    "\n",
    "# 3. 3 으로 초기화....\n",
    "am = np.zeros(10)+3\n",
    "print(am) # 3.0으로 초기화됨\n",
    "\n",
    "print('*'*30)\n",
    "\n",
    "# 4. \n",
    "ae = np.eye(3) # 3x3 단위행렬\n",
    "print(ae)\n",
    "ae = np.eye(4,5) # 4x5 단위행렬\n",
    "print(ae)\n",
    "\n",
    "print('*'*30)\n",
    "\n",
    "# 5. arange()\n",
    "print(np.arange(3)) # 3까지 \n",
    "print(np.arange(0, 3)) #위와 같음\n",
    "print(np.arange(0, 3)+1)\n",
    "print(np.arange(3, 10))\n",
    "print(np.arange(3, 10, 2))\n",
    "\n",
    "print('*'*30)\n",
    "\n",
    "# 6. full() - eye()보다 더 좋음\n",
    "#af = np.full? #shape은 행과 열을 의미함. shape는 튜플로 준다.\n",
    "af = np.full((5,5),-11) # 5x5 행렬이고 -11로 채우게 됨\n",
    "print(af)\n",
    "af = np.full((5,5),-11.0)\n",
    "print(af)\n",
    "af = np.full((5,5),-11.0, dtype='int32')\n",
    "print(af)"
   ]
  },
  {
   "cell_type": "markdown",
   "metadata": {},
   "source": [
    "### Numpy 배열의 속성과 기본함수\n",
    "#### ndim, shape, reshape "
   ]
  },
  {
   "cell_type": "code",
   "execution_count": 100,
   "metadata": {},
   "outputs": [],
   "source": [
    "# ndim => n은 여러가지, dim은 dimentional\n",
    "# 9행 1열일 때 reshape 하면 3행 3열로 / 1행 16열일 때 reshape 하면 2행 8열로 -> 전체 개수는 그대로.\n",
    "# dtype은 속성, type은 속성이 아닌 함수"
   ]
  },
  {
   "cell_type": "code",
   "execution_count": 102,
   "metadata": {},
   "outputs": [
    {
     "data": {
      "text/plain": [
       "array([[1, 2, 3],\n",
       "       [4, 5, 6]])"
      ]
     },
     "execution_count": 102,
     "metadata": {},
     "output_type": "execute_result"
    }
   ],
   "source": [
    "#arr1 = np.array([[1.0, 2, 3], [4,5,6]], dtype='int32') #이렇게 해도 되고 아래처럼 할 수도 있음.\n",
    "arr1 = np.array([[1.0, 2, 3], [4,5,6]], dtype=np.int32)\n",
    "arr1"
   ]
  },
  {
   "cell_type": "code",
   "execution_count": 117,
   "metadata": {},
   "outputs": [
    {
     "name": "stdout",
     "output_type": "stream",
     "text": [
      "<class 'numpy.ndarray'>\n",
      "2\n",
      "(2, 3)\n",
      "6\n",
      "******************************\n",
      "[[1. 2. 3.]\n",
      " [4. 5. 6.]]\n",
      "<class 'numpy.ndarray'>\n",
      "******************************\n",
      "[ 0  1  2  3  4  5  6  7  8  9 10 11 12 13 14 15 16 17 18 19 20 21 22 23\n",
      " 24 25 26 27 28 29 30 31]\n",
      "[[ 0  1  2  3  4  5  6  7]\n",
      " [ 8  9 10 11 12 13 14 15]\n",
      " [16 17 18 19 20 21 22 23]\n",
      " [24 25 26 27 28 29 30 31]]\n"
     ]
    }
   ],
   "source": [
    "print(type(arr1))\n",
    "print(np.ndim(arr1)) # 2차원인 것을 알 수 있음.\n",
    "print(np.shape(arr1)) # 2행 3열\n",
    "print(np.size(arr1)) # 요소들의 개수\n",
    "\n",
    "print('*'*30)\n",
    "arr1.astype # arr1 배열의 요소값 타입을 한번에 바꿀 때 사용\n",
    "arr1_1=arr1.astype(np.float64)\n",
    "print(arr1_1)\n",
    "print(type(arr1_1))\n",
    "\n",
    "# 요소마다마다 타입을 정할 때는 dtype ---- 요소에 해당\n",
    "# 한꺼번에 요소의 타입을 바꿀 때는 astype (dtype과 같다고 볼 수 있음) ---- 요소에 해당\n",
    "# type은 객체 자체의 타입을 리턴\n",
    "\n",
    "print('*'*30)\n",
    "arr2 = np.arange(32)\n",
    "print(arr2)\n",
    "arr2_reshape = np.arange(32).reshape(4,8)\n",
    "print(arr2_reshape)"
   ]
  },
  {
   "cell_type": "markdown",
   "metadata": {},
   "source": [
    "### 랜덤함수와 seed값 설정하기"
   ]
  },
  {
   "cell_type": "code",
   "execution_count": null,
   "metadata": {},
   "outputs": [],
   "source": [
    "'''\n",
    "Numpy의 random 모듈(서브패키지)에는 난수를 생성하는 다양한 함수들이 존재\n",
    "그 중에서 가장 많이 사용되는 3가지를 정리....\n",
    "\n",
    "rand : 0~1 사이의 실수값을 반환 - rand(행, 열)\n",
    "randn : 가우시안 정규분포값 - randn(행, 열)\n",
    "randint : randint(row, high, size) -최저값, 최대값, 크기\n",
    "'''"
   ]
  },
  {
   "cell_type": "code",
   "execution_count": 121,
   "metadata": {},
   "outputs": [
    {
     "data": {
      "text/plain": [
       "array([[-2.25115556,  2.18032554, -0.46729392, -0.58708454],\n",
       "       [ 0.36647214, -0.26767956, -1.33296511,  0.35540378],\n",
       "       [ 0.67083612, -0.39271949, -1.05543556,  0.94014948],\n",
       "       [ 0.16494476, -0.42749532, -0.95568431, -1.67908508]])"
      ]
     },
     "execution_count": 121,
     "metadata": {},
     "output_type": "execute_result"
    }
   ],
   "source": [
    "arr3 = np.random.randn(4,4)\n",
    "arr3\n",
    "\n",
    "# 랜덤한 수들은 내부적으로 컴퓨터의 시각과 실행시점을 기준으로 만들어짐\n",
    "# 문제점 :  랜덤의 특성상 컴퓨터마다 다 다르게 나옴. 작업에 문제가 생김.\n",
    "# -> 랜덤하게 만드는데 우리끼리는 값이 동일해야 함. \n",
    "# -> 랜덤한 값이지만 고정적인 값을 만들기 위해 seed값을 설정한다."
   ]
  },
  {
   "cell_type": "code",
   "execution_count": 128,
   "metadata": {},
   "outputs": [
    {
     "data": {
      "text/plain": [
       "array([[-1.18269089,  1.33746165, -0.31430504,  0.5566431 ],\n",
       "       [-0.20929933, -0.01180037,  1.23493345, -0.04341894],\n",
       "       [-0.68178724,  1.20069197,  1.34394438, -0.834109  ],\n",
       "       [ 1.0359977 ,  1.6657991 ,  0.94947856,  1.06700952]])"
      ]
     },
     "execution_count": 128,
     "metadata": {},
     "output_type": "execute_result"
    }
   ],
   "source": [
    "# seed값 설정하기\n",
    "# 특정한 시작 숫자를 제공해서 난수를 발생... 고정적인 난수가 발생\n",
    "# 실행할 때마다 난수값이 바뀌지 않기 때문에 분석결과를 확인하는데 용이\n",
    "# seed값은 한번만 정해주면 계속 유지된다...\n",
    "\n",
    "np.random.seed(404) #숫자는 아무거나 넣어도 됨.\n",
    "arr3 = np.random.randn(4,4)\n",
    "arr3 #모든 컴퓨터에서 동일한 값이 나옴. 계속 실행해도 똑같은 값이 나옴."
   ]
  }
 ],
 "metadata": {
  "kernelspec": {
   "display_name": "Python 3",
   "language": "python",
   "name": "python3"
  },
  "language_info": {
   "codemirror_mode": {
    "name": "ipython",
    "version": 3
   },
   "file_extension": ".py",
   "mimetype": "text/x-python",
   "name": "python",
   "nbconvert_exporter": "python",
   "pygments_lexer": "ipython3",
   "version": "3.7.6"
  }
 },
 "nbformat": 4,
 "nbformat_minor": 4
}
