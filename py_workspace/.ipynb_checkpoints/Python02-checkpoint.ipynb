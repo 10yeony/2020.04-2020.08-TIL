{
 "cells": [
  {
   "cell_type": "markdown",
   "metadata": {},
   "source": [
    "## 문자열\n",
    "### 인덱싱, 슬라이싱"
   ]
  },
  {
   "cell_type": "code",
   "execution_count": 1,
   "metadata": {},
   "outputs": [
    {
     "name": "stdout",
     "output_type": "stream",
     "text": [
      "20180522\n",
      "20180522\n",
      "Rainy\n",
      "Rainy\n",
      "20180522Rainy\n"
     ]
    }
   ],
   "source": [
    "# 빅데이터분석.pdf 2-40\n",
    "\n",
    "strdate = '20180522Rainy'\n",
    "date = strdate[0:8]\n",
    "print(date)\n",
    "date = strdate[:8]\n",
    "print(date)\n",
    "weather = strdate[8:]\n",
    "print(weather)\n",
    "weather = strdate[-5:]\n",
    "print(weather)\n",
    "all = strdate[:]\n",
    "print(all)\n"
   ]
  },
  {
   "cell_type": "code",
   "execution_count": 2,
   "metadata": {},
   "outputs": [
    {
     "name": "stdout",
     "output_type": "stream",
     "text": [
      "['기생충', ' 1987', ' 킹덤', ' 스타워즈', ' 쥬라기공원']\n",
      "기생충 1987 킹덤 스타워즈 쥬라기공원\n"
     ]
    }
   ],
   "source": [
    "# split() 함수와 join() 함수의 사용방법\n",
    "# split()를 통해서 쪼개어진 문자열들은 list 형태로 반환\n",
    "# join()은 특정한 구분자로 나눠져있는 리스트 자료형을 하나의 문자열로 만들어서 반환\n",
    "\n",
    "movies='기생충, 1987, 킹덤, 스타워즈, 쥬라기공원';\n",
    "movieL = movies.split(',')\n",
    "print(movieL)\n",
    "\n",
    "movie = ''\n",
    "movie = movie.join(movieL)\n",
    "print(movie)"
   ]
  },
  {
   "cell_type": "markdown",
   "metadata": {},
   "source": [
    "## 리스트 생성, 수정, 삭제, 추가"
   ]
  },
  {
   "cell_type": "code",
   "execution_count": 3,
   "metadata": {},
   "outputs": [
    {
     "data": {
      "text/plain": [
       "[2, 5, 3, 10, 4]"
      ]
     },
     "execution_count": 3,
     "metadata": {},
     "output_type": "execute_result"
    }
   ],
   "source": [
    "# 1. 리스트 생성\n",
    "myList = [2,5,3,10,4]\n",
    "myList1 = []\n",
    "myList2 = list()\n",
    "\n",
    "len(myList) #5\n",
    "len(myList1) #0\n",
    "len(myList2) #0\n",
    "\n",
    "myList1.extend(myList) #확장됨\n",
    "myList #[2,5,3,10,4]"
   ]
  },
  {
   "cell_type": "code",
   "execution_count": 4,
   "metadata": {},
   "outputs": [
    {
     "data": {
      "text/plain": [
       "[2, 5, 3, -10, 4]"
      ]
     },
     "execution_count": 4,
     "metadata": {},
     "output_type": "execute_result"
    }
   ],
   "source": [
    "#2. 수정\n",
    "myList[3] = -10\n",
    "myList"
   ]
  },
  {
   "cell_type": "code",
   "execution_count": 5,
   "metadata": {},
   "outputs": [
    {
     "data": {
      "text/plain": [
       "[2, 5, 3, -10, 4, 888]"
      ]
     },
     "execution_count": 5,
     "metadata": {},
     "output_type": "execute_result"
    }
   ],
   "source": [
    "#3. 추가.... append(), insert()\n",
    "#파이썬에서 변수는 다 객체. 이 구조를 알고 싶으면 ?를 붙여서 알 수 있음... myList? 이렇게\n",
    "# myList.append(100) #맨 뒷부분에 추가됨\n",
    "# myList\n",
    "\n",
    "# 가장 마지막에 888을 추가\n",
    "# myList.insert(-1, 888)\n",
    "# myList\n",
    "# 이렇게 쓰면 맨 마지막에 안 들어가고 맨 마지막 앞에 들어감\n",
    "\n",
    "myList.insert(len(myList), 888)\n",
    "myList\n",
    "# 이렇게 써야 함..."
   ]
  },
  {
   "cell_type": "code",
   "execution_count": 6,
   "metadata": {},
   "outputs": [
    {
     "data": {
      "text/plain": [
       "'\\ndel : 인덱스로 삭제할 때\\nremove : 삭제할 값을 직접 입력\\npop : 맨마지막 값을 삭제한 후 그 값을 리턴함\\n'"
      ]
     },
     "execution_count": 6,
     "metadata": {},
     "output_type": "execute_result"
    }
   ],
   "source": [
    "# 4. 삭제하기\n",
    "'''\n",
    "del : 인덱스로 삭제할 때\n",
    "remove : 삭제할 값을 직접 입력\n",
    "pop : 맨마지막 값을 삭제한 후 그 값을 리턴함\n",
    "'''"
   ]
  },
  {
   "cell_type": "code",
   "execution_count": 7,
   "metadata": {},
   "outputs": [
    {
     "data": {
      "text/plain": [
       "[2, 5, 3, -10, 4, 888]"
      ]
     },
     "execution_count": 7,
     "metadata": {},
     "output_type": "execute_result"
    }
   ],
   "source": [
    "myList"
   ]
  },
  {
   "cell_type": "code",
   "execution_count": 8,
   "metadata": {},
   "outputs": [
    {
     "data": {
      "text/plain": [
       "[2, 5, 3, 4, 888]"
      ]
     },
     "execution_count": 8,
     "metadata": {},
     "output_type": "execute_result"
    }
   ],
   "source": [
    "del myList[3]\n",
    "myList"
   ]
  },
  {
   "cell_type": "code",
   "execution_count": 9,
   "metadata": {},
   "outputs": [
    {
     "data": {
      "text/plain": [
       "[2, 5, 3, 4]"
      ]
     },
     "execution_count": 9,
     "metadata": {},
     "output_type": "execute_result"
    }
   ],
   "source": [
    "del myList[4:7]\n",
    "myList"
   ]
  },
  {
   "cell_type": "code",
   "execution_count": 10,
   "metadata": {},
   "outputs": [
    {
     "data": {
      "text/plain": [
       "[2, 5, 3]"
      ]
     },
     "execution_count": 10,
     "metadata": {},
     "output_type": "execute_result"
    }
   ],
   "source": [
    "myList.remove(4)\n",
    "myList"
   ]
  },
  {
   "cell_type": "code",
   "execution_count": 11,
   "metadata": {},
   "outputs": [
    {
     "data": {
      "text/plain": [
       "3"
      ]
     },
     "execution_count": 11,
     "metadata": {},
     "output_type": "execute_result"
    }
   ],
   "source": [
    "myList.pop()"
   ]
  },
  {
   "cell_type": "markdown",
   "metadata": {},
   "source": [
    "### 리스트에서 값 추출하기"
   ]
  },
  {
   "cell_type": "code",
   "execution_count": 12,
   "metadata": {},
   "outputs": [
    {
     "data": {
      "text/plain": [
       "[2, [10, 20, 30]]"
      ]
     },
     "execution_count": 12,
     "metadata": {},
     "output_type": "execute_result"
    }
   ],
   "source": [
    "myList\n",
    "yourList = [10, 20, 30]\n",
    "myList[1] = yourList\n",
    "myList\n",
    "# 리스트 안에 리스트가 들어갈 수 있다.."
   ]
  },
  {
   "cell_type": "code",
   "execution_count": 13,
   "metadata": {},
   "outputs": [
    {
     "name": "stdout",
     "output_type": "stream",
     "text": [
      "[2, 3]\n",
      "[1, 2, 3]\n",
      "[1, 2, 3]\n",
      "[5, 6, 7, 8]\n",
      "[5, 6, 7, 8]\n",
      "[6, 7, 8]\n"
     ]
    },
    {
     "data": {
      "text/plain": [
       "[8, 7, 6, 5, 4, 3, 2, 1]"
      ]
     },
     "execution_count": 13,
     "metadata": {},
     "output_type": "execute_result"
    }
   ],
   "source": [
    "myList = [1,2,3,4,5,6,7,8]\n",
    "# 슬라이싱을 써서 직접 완성...\n",
    "#1. 2,3\n",
    "print(myList[1:3])\n",
    "\n",
    "#2. 1,2,3\n",
    "print(myList[0:3])\n",
    "print(myList[:3])\n",
    "\n",
    "#3 5,6,7,8\n",
    "print(myList[4:9])\n",
    "print(myList[4:])\n",
    "\n",
    "#4. 6,7,8\n",
    "print(myList[-3:])\n",
    "\n",
    "myList.sort(reverse=True) #내림차순으로 뒤집는다\n",
    "myList"
   ]
  },
  {
   "cell_type": "code",
   "execution_count": 14,
   "metadata": {},
   "outputs": [
    {
     "name": "stdout",
     "output_type": "stream",
     "text": [
      "all\t date\t movie\t movieL\t movies\t myList\t myList1\t myList2\t strdate\t \n",
      "weather\t yourList\t \n"
     ]
    }
   ],
   "source": [
    "'''\n",
    "매직명령어\n",
    "%로 시작한다.\n",
    "%whos : 지금까지 사용한 객체변수명과 그에 해당하는 간단한 정보를 확인\n",
    "%who : 지금까지 사용한 객체변수의 리스트만 보여줌\n",
    "'''\n",
    "\n",
    "# %whos\n",
    "%who"
   ]
  },
  {
   "cell_type": "code",
   "execution_count": 15,
   "metadata": {},
   "outputs": [
    {
     "data": {
      "text/plain": [
       "'\\n동일한 이름의 변수 선언시 메모리에서 찾는 순서\\n1) 로컬변수는 메모리 영역 중 로컬영역에 저장 ---- 여기를 가장 먼저 찾는다.\\n2) 전역변수는 메모리 영역 중 전역영역에 저장 ---- 여기를 2번째로 찾는다.\\n3) 내장변수는 메모리 영역 중 내장영역에 저장 ---- 여기를 가장 마지막으로 찾는다.\\n--> 함수명과 객체변수명을 동일한 이름으로 사용하지 말아라\\n--> 이미 사용해버렸다면 restart를 해줘서 이전 메모리 것들을 지우고 다시 올리자\\n--> restart는 빨리감기 버튼 눌러서 하거나(이건 run까지 함께 됨) Kernel 메뉴에서 하면 됨\\n'"
      ]
     },
     "execution_count": 15,
     "metadata": {},
     "output_type": "execute_result"
    }
   ],
   "source": [
    "'''\n",
    "동일한 이름의 변수 선언시 메모리에서 찾는 순서\n",
    "1) 로컬변수는 메모리 영역 중 로컬영역에 저장 ---- 여기를 가장 먼저 찾는다.\n",
    "2) 전역변수는 메모리 영역 중 전역영역에 저장 ---- 여기를 2번째로 찾는다.\n",
    "3) 내장변수는 메모리 영역 중 내장영역에 저장 ---- 여기를 가장 마지막으로 찾는다.\n",
    "--> 함수명과 객체변수명을 동일한 이름으로 사용하지 말아라\n",
    "--> 이미 사용해버렸다면 restart를 해줘서 이전 메모리 것들을 지우고 다시 올리자\n",
    "--> restart는 빨리감기 버튼 눌러서 하거나(이건 run까지 함께 됨) Kernel 메뉴에서 하면 됨\n",
    "'''"
   ]
  },
  {
   "cell_type": "code",
   "execution_count": 16,
   "metadata": {},
   "outputs": [
    {
     "name": "stdout",
     "output_type": "stream",
     "text": [
      "['a', 'b', 'c', 'd']\n"
     ]
    }
   ],
   "source": [
    "aaL = list('abcd')\n",
    "print(aaL)\n",
    "# list=[3,4,5]\n",
    "# print(list)\n",
    "\n",
    "# listData=[3,4,5]\n",
    "# print(listData)\n",
    "\n",
    "#list()라는 함수는 list를 만드는데 사용하는 내장함수\n",
    "#그런데 4라인의 list는 변수\n",
    "#내장함수와 동일한 변수명을 쓰면 에러남\n",
    "#str도 안 됨. min도 내장함수..."
   ]
  },
  {
   "cell_type": "markdown",
   "metadata": {},
   "source": [
    "## 문제2"
   ]
  },
  {
   "cell_type": "code",
   "execution_count": 39,
   "metadata": {},
   "outputs": [
    {
     "name": "stdout",
     "output_type": "stream",
     "text": [
      "[2, 4, 5, 3, 1]\n"
     ]
    }
   ],
   "source": [
    "a = [1,3,5,4,2]\n",
    "print(a[::-1]) #이렇게 하면 전체를 끝에서부터 가지고 옴"
   ]
  },
  {
   "cell_type": "markdown",
   "metadata": {},
   "source": [
    "## 문제3"
   ]
  },
  {
   "cell_type": "code",
   "execution_count": 34,
   "metadata": {},
   "outputs": [
    {
     "data": {
      "text/plain": [
       "'Python is too interesting'"
      ]
     },
     "execution_count": 34,
     "metadata": {},
     "output_type": "execute_result"
    }
   ],
   "source": [
    "b = ['Python', 'is', 'too', 'interesting']\n",
    "b = ' ' # b = '' 로 하면 'Pythonistoointeresting'로 다 붙어서 나옴\n",
    "b = b.join(myList4)\n",
    "b"
   ]
  }
 ],
 "metadata": {
  "kernelspec": {
   "display_name": "Python 3",
   "language": "python",
   "name": "python3"
  },
  "language_info": {
   "codemirror_mode": {
    "name": "ipython",
    "version": 3
   },
   "file_extension": ".py",
   "mimetype": "text/x-python",
   "name": "python",
   "nbconvert_exporter": "python",
   "pygments_lexer": "ipython3",
   "version": "3.7.6"
  }
 },
 "nbformat": 4,
 "nbformat_minor": 4
}
