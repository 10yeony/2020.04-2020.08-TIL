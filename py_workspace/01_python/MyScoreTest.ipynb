{
 "cells": [
  {
   "cell_type": "code",
   "execution_count": 2,
   "metadata": {},
   "outputs": [],
   "source": [
    "from MyScore import getSum, getMean, getMax, getMin, getTwoSum"
   ]
  },
  {
   "cell_type": "code",
   "execution_count": 7,
   "metadata": {},
   "outputs": [
    {
     "name": "stdout",
     "output_type": "stream",
     "text": [
      "숫자를 입력하세요3,4,5\n",
      "['3', '4', '5']\n",
      "[3, 4, 5]\n",
      "[3, 4, 5]\n",
      "합계 :  12\n",
      "평균 :  4.0\n",
      "최댓값 :  5\n",
      "최솟값 :  3\n",
      "두 수의 합 :  14\n",
      "두 수의 합 :  10\n",
      "두 수의 합 :  14\n"
     ]
    }
   ],
   "source": [
    "dataL = input('숫자를 입력하세요').split(',')\n",
    "print(dataL) #문자열 리스트\n",
    "\n",
    "intDataL = [int(i) for i in dataL]\n",
    "print(intDataL)\n",
    "intDataL = list(map(int, dataL)) # 키를 int로 주고 밸류를 dataL로 해서, list로... 위와 같은 결과\n",
    "print(intDataL) #정수형 리스트로 바뀜\n",
    "\n",
    "print('합계 : ', getSum(intDataL))\n",
    "print('평균 : ', getMean(intDataL))\n",
    "print('최댓값 : ', getMax(intDataL))\n",
    "print('최솟값 : ', getMin(intDataL))\n",
    "print('두 수의 합 : ', getTwoSum(5, 2))\n",
    "print('두 수의 합 : ', getTwoSum(4))\n",
    "print('두 수의 합 : ', getTwoSum(2, 5))"
   ]
  }
 ],
 "metadata": {
  "kernelspec": {
   "display_name": "Python 3",
   "language": "python",
   "name": "python3"
  },
  "language_info": {
   "codemirror_mode": {
    "name": "ipython",
    "version": 3
   },
   "file_extension": ".py",
   "mimetype": "text/x-python",
   "name": "python",
   "nbconvert_exporter": "python",
   "pygments_lexer": "ipython3",
   "version": "3.7.6"
  }
 },
 "nbformat": 4,
 "nbformat_minor": 4
}
