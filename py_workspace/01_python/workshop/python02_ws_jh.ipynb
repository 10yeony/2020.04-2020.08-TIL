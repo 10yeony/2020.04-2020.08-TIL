{
 "cells": [
  {
   "cell_type": "markdown",
   "metadata": {},
   "source": [
    "# 1. 연봉 계산하기\n",
    "\n",
    "### 철수는 시급 15000원을 받으며 회사를 다니고 있습니다.<br>날마다 일하는 시간은 5일을 간격으로 반복되고, 매 달마다 일하는 날 수가 정해져 있습니다.<br>연말에 매달 월급의 10%의 합만큼 보너스를 받는다고 했을 때, 철수의 매 달의 월급과 연봉은 각각 얼마인가요?"
   ]
  },
  {
   "cell_type": "code",
   "execution_count": 1,
   "metadata": {},
   "outputs": [],
   "source": [
    "# hours - 5일을 간격으로 반복되는 근무시간, days - 달마다 일하는 일 수(1-12월)\n",
    "hours = [8,8,8,7,7]\n",
    "days = [23,18,24,23,24,22,23,22,23,22,20,10]"
   ]
  },
  {
   "cell_type": "code",
   "execution_count": 2,
   "metadata": {},
   "outputs": [
    {
     "name": "stdout",
     "output_type": "stream",
     "text": [
      "******************************\n",
      "연봉: 34758000.0\n",
      "매달 월급: [2640000, 2040000, 2730000, 2640000, 2730000, 2505000, 2625000, 2505000, 2625000, 2505000, 2280000, 1140000]\n"
     ]
    }
   ],
   "source": [
    "total_days=sum(days)\n",
    "daily_salary=[]\n",
    "yearly_salaly = 0\n",
    "monthly_salary=[]\n",
    "for i in range(1,total_days+1):\n",
    "    if i%5==0:\n",
    "        daily_salary.append(hours[4]*15000)\n",
    "    else:\n",
    "        daily_salary.append(hours[i%5-1]*15000)\n",
    "#print(daily_salary)\n",
    "print('*'*30)\n",
    "a = 0\n",
    "#print(a)\n",
    "\n",
    "for i in days:\n",
    "    monthly_salary.append(sum(daily_salary[a:a+i]))\n",
    "    #print(sum(daily_salary[a:a+i]),'',end='')\n",
    "    #print((daily_salary[a:a+i]))\n",
    "    yearly_salaly +=sum(daily_salary[a:a+i])\n",
    "    a+=i\n",
    "print(\"연봉:\", yearly_salaly*1.2)\n",
    "\n",
    "print(\"매달 월급:\",monthly_salary)\n",
    "\n"
   ]
  },
  {
   "cell_type": "markdown",
   "metadata": {},
   "source": [
    "# 2. 예금, 적금 계산하기\n",
    "\n",
    "### 철수는 위에서 1년동안 벌 돈을 보너스를 제외하고 전부 저축을 하려고 합니다.<br>매달 저축하는 적금의 경우에는 월리가 0.4%이고,<br>1년동안 번 돈을 한번에 저축하는 예금의 경우에는 월 복리가 0.2% 입니다.\n",
    "### 그렇다면 적금과 예금으로 얻을 수 있는 이득은 각각 얼마이고, 둘 중 어떤게 얼마나 더 이득인가요?"
   ]
  },
  {
   "cell_type": "code",
   "execution_count": 3,
   "metadata": {
    "scrolled": true
   },
   "outputs": [
    {
     "name": "stdout",
     "output_type": "stream",
     "text": [
      "[2640000, 2040000, 2730000, 2640000, 2730000, 2505000, 2625000, 2505000, 2625000, 2505000, 2280000, 1140000]\n",
      "28965000\n",
      "적금은 797869원 이득\n",
      "예금은 702857원 이득\n",
      "적금이 예금보다 95011 원 이득!\n",
      "\n",
      "\n"
     ]
    }
   ],
   "source": [
    "print(monthly_salary)\n",
    "\n",
    "total_montly = 0\n",
    "for i in monthly_salary:\n",
    "    total_montly = (total_montly+i)*1.004\n",
    "\n",
    "total_once=yearly_salaly\n",
    "for i in range(12):\n",
    "    total_once=total_once*1.002\n",
    "print(yearly_salaly)\n",
    "print('적금은 %d원 이득' %(total_montly-yearly_salaly))\n",
    "print('예금은 %d원 이득' %(total_once-yearly_salaly))    \n",
    "\n",
    "if total_montly-yearly_salaly > total_once-yearly_salaly:\n",
    "    print('적금이 예금보다',int(total_montly-total_once),'원 이득!')\n",
    "else:\n",
    "    print('예금이 적금보다',int(total_once-total_montly),'원 이득!')\n",
    "\n",
    "\n",
    "print()\n",
    "print()"
   ]
  }
 ],
 "metadata": {
  "kernelspec": {
   "display_name": "Python 3",
   "language": "python",
   "name": "python3"
  },
  "language_info": {
   "codemirror_mode": {
    "name": "ipython",
    "version": 3
   },
   "file_extension": ".py",
   "mimetype": "text/x-python",
   "name": "python",
   "nbconvert_exporter": "python",
   "pygments_lexer": "ipython3",
   "version": "3.7.6"
  }
 },
 "nbformat": 4,
 "nbformat_minor": 2
}
