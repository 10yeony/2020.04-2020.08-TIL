{
 "cells": [
  {
   "cell_type": "code",
   "execution_count": 2,
   "metadata": {},
   "outputs": [],
   "source": [
    "from myGame import makeLotto, meanGrade"
   ]
  },
  {
   "cell_type": "code",
   "execution_count": 3,
   "metadata": {},
   "outputs": [
    {
     "name": "stdout",
     "output_type": "stream",
     "text": [
      "횟수를 입력하세요>>>4\n",
      "게임 1 [19, 3, 22, 1, 12, 24]\n",
      "게임 2 [36, 30, 21, 40, 14, 5]\n",
      "게임 3 [23, 12, 23, 9, 21, 39]\n",
      "게임 4 [21, 23, 35, 25, 31, 21]\n"
     ]
    }
   ],
   "source": [
    "#첫번째 함수 - 랜덤한 숫자 6개를 받아 출력하는 Lotto 함수\n",
    "num = int(input('횟수를 입력하세요>>>'))\n",
    "makeLotto(num)"
   ]
  },
  {
   "cell_type": "code",
   "execution_count": 4,
   "metadata": {},
   "outputs": [
    {
     "name": "stdout",
     "output_type": "stream",
     "text": [
      "학점을 입력하세요>>>A+,A-,C\n",
      "['A+', 'A-', 'C']\n",
      "평균 : 3.6666666666666665\n"
     ]
    }
   ],
   "source": [
    "#두번째 함수 - 학점들을 입력받아서 그 학점들의 평균을 출력하는 함수\n",
    "grade = input('학점을 입력하세요>>>').split(',')\n",
    "print(grade)\n",
    "meanGrade(grade)"
   ]
  }
 ],
 "metadata": {
  "kernelspec": {
   "display_name": "Python 3",
   "language": "python",
   "name": "python3"
  },
  "language_info": {
   "codemirror_mode": {
    "name": "ipython",
    "version": 3
   },
   "file_extension": ".py",
   "mimetype": "text/x-python",
   "name": "python",
   "nbconvert_exporter": "python",
   "pygments_lexer": "ipython3",
   "version": "3.7.6"
  }
 },
 "nbformat": 4,
 "nbformat_minor": 4
}
