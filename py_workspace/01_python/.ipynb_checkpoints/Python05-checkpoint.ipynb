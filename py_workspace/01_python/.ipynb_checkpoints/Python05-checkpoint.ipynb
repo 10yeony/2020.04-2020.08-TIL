{
 "cells": [
  {
   "cell_type": "markdown",
   "metadata": {},
   "source": [
    "### 함수"
   ]
  },
  {
   "cell_type": "code",
   "execution_count": null,
   "metadata": {},
   "outputs": [],
   "source": [
    "'''\n",
    "머신러닝, 딥러닝을 하다보면,\n",
    "함수를 우리가 정의해서 사용하는 경우가 많이 있다.\n",
    "잘 알아두자\n",
    "\n",
    "1. 기본문법\n",
    "def 함수이름(매개변수):\n",
    "    \"\"\"\n",
    "        doc string...함수 기능에 대한 설명...\n",
    "        (내가 만든 함수에 대한 주석)\n",
    "    \"\"\"\n",
    "    <수행할 문장1>\n",
    "    <수행할 문장2>\n",
    "    return (리턴할 게 있으면 리턴 키워드 쓰고 없으면 안 씀)\n",
    "\n",
    "2. ★★★함수를 만드는 4가지 방법\n",
    "(라이브러리에서 가져다 쓸 때 함수 사용법이 다르게 나옴. 그래서 이해해야 함.)\n",
    " - 위치 매개변수\n",
    " - 기본 매개변수\n",
    " - 키워드 매개변수\n",
    " - 가변 매개변수(파이썬 안 하고 자바나 C만 해본 사람에게는 낯섦. 딥에서 핵심적으로잘 씀.)\n",
    "'''"
   ]
  },
  {
   "cell_type": "code",
   "execution_count": 6,
   "metadata": {},
   "outputs": [],
   "source": [
    "# 1. 위치 매개변수\n",
    "# 가장 기본적인 인자값을 전달하는 방식, 함수에서 정의한 위치대로 인자값 할당\n",
    "# doc string조차도 들여쓰기를 주의해야 한다.(제대로 안 하면 에러 떨어짐)\n",
    "\n",
    "def calc(num1, num2):\n",
    "    '''\n",
    "    인자값으로 받은 num1, num2\n",
    "    2개의 숫자값을 더해서 result에 할당\n",
    "    그 값을 리턴하는 기능\n",
    "    '''\n",
    "    result = num1 + num2\n",
    "    return result"
   ]
  },
  {
   "cell_type": "code",
   "execution_count": 7,
   "metadata": {},
   "outputs": [
    {
     "name": "stdout",
     "output_type": "stream",
     "text": [
      "8\n"
     ]
    }
   ],
   "source": [
    "print(calc(3,5)) #3은 num1의 위치를 찾아가고, 5는 num2의 위치를 찾아감. 그래서 위치 매개변수!"
   ]
  },
  {
   "cell_type": "code",
   "execution_count": 9,
   "metadata": {},
   "outputs": [],
   "source": [
    "calc? # 함수에 대한 전반적인 설명... docstring이 나온다\n",
    "calc?? # 함수에 대한 소스코드가 보인다.\n",
    "# 어떤 기술이든지 간에 이 부분은 다 들어가 있음. "
   ]
  },
  {
   "cell_type": "code",
   "execution_count": 10,
   "metadata": {},
   "outputs": [],
   "source": [
    "# 리턴값이 없는 경우\n",
    "def add(a,b):\n",
    "    print('%d와 %d의 합은 %d 입니다.' %(a,b,(a+b)))"
   ]
  },
  {
   "cell_type": "code",
   "execution_count": 11,
   "metadata": {},
   "outputs": [
    {
     "name": "stdout",
     "output_type": "stream",
     "text": [
      "3와 4의 합은 7 입니다.\n",
      "3와 4의 합은 7 입니다.\n",
      "None\n"
     ]
    }
   ],
   "source": [
    "add(3,4)\n",
    "print(add(3,4))"
   ]
  },
  {
   "cell_type": "code",
   "execution_count": 16,
   "metadata": {},
   "outputs": [
    {
     "name": "stdout",
     "output_type": "stream",
     "text": [
      "3\n",
      "3\n"
     ]
    }
   ],
   "source": [
    "# 2. 기본 매개변수\n",
    "#import random\n",
    "#com = random.randrange? #기본적인 값을 내포하고 있음. \n",
    "\n",
    "'''\n",
    "변수값이 입력되지 않으면 기본값이 활성화됨...\n",
    "기본매개변수 뒤에 일반매개변수가 올 수 없음\n",
    "위치매개변수가 먼저 와야 하고 뒤에 기본매개변수가 와야 한다.\n",
    "'''\n",
    "\n",
    "#직접 만들어서 사용해보겠음\n",
    "def calc1(num1, start=0):\n",
    "    #num1은 위치매개변수, start는 기본매개변수\n",
    "    \n",
    "    total = 0\n",
    "    for i in range(start, num1):\n",
    "        total += i\n",
    "    return total\n",
    "\n",
    "print(calc1(3,1))\n",
    "print(calc1(3))\n",
    "\n",
    "# def calc1(start=0, num1):\n",
    "# 이렇게 쓰면 다음과 같이 에러남\n",
    "# non-default argument follows default argument\n",
    "# 기본매개변수는 위치매개변수 뒤에 와야 한다는 소리"
   ]
  },
  {
   "cell_type": "code",
   "execution_count": 20,
   "metadata": {},
   "outputs": [],
   "source": [
    "'''\n",
    "pandas의 read_csv() 함수를 대표적으로 살펴보면\n",
    "위치(일반)매개변수보다 기본매개변수를 훨씬 많이 쓰고 있다\n",
    "'''\n",
    "\n",
    "#import pandas as pd #pandas를 메모리에 올리고 별칭을 pd로 둔다\n",
    "#from pandas import DataFrame #이거 안 해줘도 DataFrame 쓸 수 있긴 한데 이거 안 쓰면 pd.DataFrame 이렇게 써줘야 함.\n",
    "# 라이브러리에 기본매개변수가 많음\n",
    "#pd.read_csv?"
   ]
  },
  {
   "cell_type": "code",
   "execution_count": 28,
   "metadata": {},
   "outputs": [],
   "source": [
    "# 3. 키워드 매개변수 : 순서에 상관 없이 직접 매개변수를 지정해서 찾아감\n",
    "# \n",
    "def calc2(name, age, weight):\n",
    "    print('나의 이름은' , name, '이고 나이는 ', age, '입니다. 몸무게는 ', weight)"
   ]
  },
  {
   "cell_type": "code",
   "execution_count": 33,
   "metadata": {},
   "outputs": [
    {
     "name": "stdout",
     "output_type": "stream",
     "text": [
      "나의 이름은 홍길동 이고 나이는  19 입니다. 몸무게는  40\n",
      "나의 이름은 홍길동 이고 나이는  40 입니다. 몸무게는  19\n",
      "나의 이름은 홍길동 이고 나이는  19 입니다. 몸무게는  40\n"
     ]
    }
   ],
   "source": [
    "calc2('홍길동',19, 40) # 위치 매개변수\n",
    "calc2('홍길동',40, 19) # 에러는 아니지만 잘못된 값 전달\n",
    "# 위치 매개변수의 단점 \n",
    "# 순서를 정확히 안 지키면 잘못된 값이 파싱인투 되어버림\n",
    "# 특히 생성자로 넣을 때 번거로움. 그래서 현업에서 값 주입할 때 setter로 더 많이 함.\n",
    "\n",
    "#키워드 매개변수로 써보겠음\n",
    "calc2(age=19, weight=40, name='홍길동') # 키워드 매개변수"
   ]
  },
  {
   "cell_type": "code",
   "execution_count": 43,
   "metadata": {},
   "outputs": [
    {
     "data": {
      "text/html": [
       "<div>\n",
       "<style scoped>\n",
       "    .dataframe tbody tr th:only-of-type {\n",
       "        vertical-align: middle;\n",
       "    }\n",
       "\n",
       "    .dataframe tbody tr th {\n",
       "        vertical-align: top;\n",
       "    }\n",
       "\n",
       "    .dataframe thead th {\n",
       "        text-align: right;\n",
       "    }\n",
       "</style>\n",
       "<table border=\"1\" class=\"dataframe\">\n",
       "  <thead>\n",
       "    <tr style=\"text-align: right;\">\n",
       "      <th></th>\n",
       "      <th>e</th>\n",
       "      <th>f</th>\n",
       "      <th>g</th>\n",
       "      <th>h</th>\n",
       "    </tr>\n",
       "  </thead>\n",
       "  <tbody>\n",
       "    <tr>\n",
       "      <th>a</th>\n",
       "      <td>-0.664026</td>\n",
       "      <td>-1.969961</td>\n",
       "      <td>-0.526277</td>\n",
       "      <td>-0.715632</td>\n",
       "    </tr>\n",
       "    <tr>\n",
       "      <th>b</th>\n",
       "      <td>0.480261</td>\n",
       "      <td>-1.022288</td>\n",
       "      <td>-0.135423</td>\n",
       "      <td>-0.129328</td>\n",
       "    </tr>\n",
       "    <tr>\n",
       "      <th>c</th>\n",
       "      <td>0.654762</td>\n",
       "      <td>-0.169225</td>\n",
       "      <td>0.728901</td>\n",
       "      <td>1.235546</td>\n",
       "    </tr>\n",
       "    <tr>\n",
       "      <th>d</th>\n",
       "      <td>-3.379937</td>\n",
       "      <td>-0.550195</td>\n",
       "      <td>0.706809</td>\n",
       "      <td>1.206199</td>\n",
       "    </tr>\n",
       "  </tbody>\n",
       "</table>\n",
       "</div>"
      ],
      "text/plain": [
       "          e         f         g         h\n",
       "a -0.664026 -1.969961 -0.526277 -0.715632\n",
       "b  0.480261 -1.022288 -0.135423 -0.129328\n",
       "c  0.654762 -0.169225  0.728901  1.235546\n",
       "d -3.379937 -0.550195  0.706809  1.206199"
      ]
     },
     "execution_count": 43,
     "metadata": {},
     "output_type": "execute_result"
    }
   ],
   "source": [
    "# 키워드 매개변수의 예\n",
    "import numpy as np\n",
    "import pandas as pd\n",
    "from pandas import DataFrame\n",
    "\n",
    "#randn 정규분포에서 많이 씀\n",
    "#키워드 매개변수를 써서 인덱스와 컬럼에 대한 값을 주겠음.\n",
    "df1 = DataFrame(np.random.randn(4,4),\n",
    "                index=list('abcd'),\n",
    "                columns=list('efgh')\n",
    "               ) \n",
    "df1"
   ]
  },
  {
   "cell_type": "code",
   "execution_count": 45,
   "metadata": {},
   "outputs": [
    {
     "name": "stdout",
     "output_type": "stream",
     "text": [
      "(3, 4, 5)\n",
      "(3,)\n"
     ]
    }
   ],
   "source": [
    "# 4. 가변 매개변수 : 인자값이 몇 개인지 모르는 상황에서 사용 \n",
    "# (자바에는 없는 문법. 파이썬에서 중요하게 많이 다뤄짐. 딥러닝에서 많이 씀.)\n",
    "# 파이썬에서의 print()\n",
    "# 보통의 일반 매개변수와는 달리 변수명 앞에 *이 붙는다\n",
    "# 일반 매개변수 앞에는 사용할 수 없다.\n",
    "# 가변 매개변수는 단 하나만 사용가능.\n",
    "\n",
    "def calc3(*args):\n",
    "    print(args)\n",
    "\n",
    "#★★★결과가 튜플 타입으로 출력된다\n",
    "calc3(3,4,5) # 입력받고자 하는 매개변수의 개수를 한정짓지 않음.\n",
    "calc3(3)"
   ]
  },
  {
   "cell_type": "code",
   "execution_count": 50,
   "metadata": {},
   "outputs": [
    {
     "name": "stdout",
     "output_type": "stream",
     "text": [
      "{'name': '홍길동'}\n",
      "{'name': '홍길동', 'age': 19, 'address': '민속촌'}\n"
     ]
    }
   ],
   "source": [
    "def calc4(**args2):\n",
    "    print(args2)\n",
    "\n",
    "# calc4(3,4) #에러남\n",
    "# *이 2개일 때는 딕셔너리 타입으로 인자값이 들어가야 한다... 출력도 딕셔너리 타입\n",
    "\n",
    "calc4(name='홍길동')\n",
    "calc4(name='홍길동', age=19, address='민속촌')"
   ]
  },
  {
   "cell_type": "code",
   "execution_count": 55,
   "metadata": {},
   "outputs": [
    {
     "name": "stdout",
     "output_type": "stream",
     "text": [
      "홍길동 : (3, 4, 1)\n"
     ]
    }
   ],
   "source": [
    "# 위치 매개변수가 앞에 와야 함. 아래와 같이 쓰면 에러남.\n",
    "# def calc5(*args, name):\n",
    "#     print(name, ':', args)\n",
    "\n",
    "def calc5(name, *args):\n",
    "    print(name, ':', args)\n",
    "calc5('홍길동',3,4,1)"
   ]
  },
  {
   "cell_type": "markdown",
   "metadata": {},
   "source": [
    "#### 문제 1. 위치 매개변수와 가변 매개변수 사용"
   ]
  },
  {
   "cell_type": "code",
   "execution_count": 58,
   "metadata": {},
   "outputs": [
    {
     "name": "stdout",
     "output_type": "stream",
     "text": [
      "3\n",
      "6\n",
      "9\n"
     ]
    }
   ],
   "source": [
    "'''\n",
    "가변 매개변수와 위치 매개변수를 사용해서\n",
    "3\n",
    "6\n",
    "9 가 출력되도록 함수를 정의\n",
    "이때, \n",
    "1) 위치 매개변수에는 인자값 3을 넣어서 호출되도록\n",
    "2) for문 사용\n",
    "'''\n",
    "\n",
    "def value_times(times, *values):\n",
    "    for value in values:\n",
    "        print(times * value)\n",
    "value_times(3,1,2,3)"
   ]
  },
  {
   "cell_type": "markdown",
   "metadata": {},
   "source": [
    "#### 문제 2. 가변 매개변수와 기본 매개변수"
   ]
  },
  {
   "cell_type": "code",
   "execution_count": 60,
   "metadata": {},
   "outputs": [],
   "source": [
    "def value_times(*values, times=2):\n",
    "    for value in values:\n",
    "        print(times * value)"
   ]
  },
  {
   "cell_type": "code",
   "execution_count": 64,
   "metadata": {},
   "outputs": [
    {
     "name": "stdout",
     "output_type": "stream",
     "text": [
      "5\n",
      "10\n",
      "15\n",
      "20\n",
      "******************************\n",
      "2\n",
      "4\n",
      "6\n",
      "8\n",
      "******************************\n",
      "2\n",
      "4\n",
      "6\n"
     ]
    }
   ],
   "source": [
    "value_times(1,2,3,4,times=5)\n",
    "print('*'*30)\n",
    "value_times(1,2,3,4)\n",
    "print('*'*30)\n",
    "value_times(1,2,3)"
   ]
  },
  {
   "cell_type": "code",
   "execution_count": 75,
   "metadata": {},
   "outputs": [
    {
     "name": "stdout",
     "output_type": "stream",
     "text": [
      "2\n",
      "3\n",
      "4\n"
     ]
    }
   ],
   "source": [
    "def value_times(times=2, *values):\n",
    "    for value in values:\n",
    "        print(times * value)\n",
    "value_times(1,2,3,4)\n",
    "#value_times(times=5,1,2,3,4) #에러남. times 못 바꿈."
   ]
  },
  {
   "cell_type": "markdown",
   "metadata": {},
   "source": [
    "### Custom 함수 정의하기"
   ]
  },
  {
   "cell_type": "code",
   "execution_count": 92,
   "metadata": {},
   "outputs": [],
   "source": [
    "'''\n",
    "파이썬이 제공하는 함수는 사용하지 않고\n",
    "아래와 같은 기능을 실행할 수 있는 함수 5개를 정의\n",
    "(데이터 전달은 input으로 하겠음)\n",
    "getSum(data) : 전달받은 데이터의 합을 구해서 리턴 \n",
    "getMean(data) : 전달받은 데이터의 평균 리턴\n",
    "getMax(data) : 최댓값 리턴\n",
    "getMin(data) : 최솟값 리턴\n",
    "getTwoSum(num2, num1=1) : 두 수 포함... 두 수 사이의 합을 구하고 리턴\n",
    "'''\n",
    "\n",
    "def getSum(data):\n",
    "    total = 0\n",
    "    for d in data:\n",
    "        total += d\n",
    "    return total\n",
    "\n",
    "def getMean(data):\n",
    "    return getSum(data)/len(data)\n",
    "    \n",
    "def getMax(data):\n",
    "    maxNum = data[0]\n",
    "    for d in data[1:]: #data[0]은 비교할 필요 없음\n",
    "        if maxNum < d:\n",
    "            maxNum = d\n",
    "    return maxNum\n",
    "    \n",
    "def getMin(data):\n",
    "    minNum = int(data[0])\n",
    "    for d in data[1:]:\n",
    "        if minNum > d:\n",
    "            minNum = d\n",
    "    return minNum\n",
    "    \n",
    "    \n",
    "def getTwoSum(num2, num1=1): #num1이 더 큰 값이 왔을 때...\n",
    "    total = 0\n",
    "    if num1 > num2:\n",
    "        num1 ,num2 = num2, num1 #두 수를 스왑시킴\n",
    "    for i in range(num1, num2+1):\n",
    "        total += i\n",
    "    return total"
   ]
  },
  {
   "cell_type": "code",
   "execution_count": null,
   "metadata": {},
   "outputs": [],
   "source": [
    "# 값을 input()으로 받아서... 원하는 함수를 직접 호출...\n",
    "# 실행하는 부분과 호출하는 부분을 별도로 작성\n",
    "# 실행하는 모듈과 호출하는 모듈(자바로 치면 test. 실행하는 모듈을 import해야와 햠)이 서로 다를 수 있음"
   ]
  },
  {
   "cell_type": "code",
   "execution_count": 102,
   "metadata": {},
   "outputs": [
    {
     "name": "stdout",
     "output_type": "stream",
     "text": [
      "숫자를 입력하세요2,3,4\n",
      "['2', '3', '4']\n",
      "[2, 3, 4]\n",
      "합계 :  9\n",
      "평균 :  3.0\n",
      "최댓값 :  4\n",
      "최솟값 :  2\n",
      "두 수의 합 :  14\n",
      "두 수의 합 :  10\n",
      "두 수의 합 :  14\n"
     ]
    }
   ],
   "source": [
    "dataL = input('숫자를 입력하세요').split(',')\n",
    "print(dataL) #문자열 리스트\n",
    "\n",
    "intDataL = [int(i) for i in dataL]\n",
    "print(intDataL) #정수형 리스트로 바뀜\n",
    "\n",
    "print('합계 : ', getSum(intDataL))\n",
    "print('평균 : ', getMean(intDataL))\n",
    "print('최댓값 : ', getMax(intDataL))\n",
    "print('최솟값 : ', getMin(intDataL))\n",
    "print('두 수의 합 : ', getTwoSum(5, 2))\n",
    "print('두 수의 합 : ', getTwoSum(4))\n",
    "print('두 수의 합 : ', getTwoSum(2, 5))"
   ]
  }
 ],
 "metadata": {
  "kernelspec": {
   "display_name": "Python 3",
   "language": "python",
   "name": "python3"
  },
  "language_info": {
   "codemirror_mode": {
    "name": "ipython",
    "version": 3
   },
   "file_extension": ".py",
   "mimetype": "text/x-python",
   "name": "python",
   "nbconvert_exporter": "python",
   "pygments_lexer": "ipython3",
   "version": "3.7.6"
  }
 },
 "nbformat": 4,
 "nbformat_minor": 4
}
