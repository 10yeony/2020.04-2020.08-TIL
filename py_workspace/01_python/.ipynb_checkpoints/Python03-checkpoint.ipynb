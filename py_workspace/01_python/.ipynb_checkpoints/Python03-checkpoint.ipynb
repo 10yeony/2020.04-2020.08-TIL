{
 "cells": [
  {
   "cell_type": "markdown",
   "metadata": {},
   "source": [
    "### Tuple - 데이터 조회만 가능 (Immutable)"
   ]
  },
  {
   "cell_type": "code",
   "execution_count": null,
   "metadata": {},
   "outputs": [],
   "source": [
    "'''\n",
    "Tuple은 몇가지 점만 제외하고는 List와 거의 동일하다.\n",
    "- 리스트는 []으로 값을 둘러싸지만 튜플은 ()으로 둘러싼다.\n",
    "- 리스트는 그 값의 추가, 삭제, 수정이 가능하다\n",
    "- 튜플은 값의 변경이 안 된다... 읽기만 가능하다.\n",
    "'''"
   ]
  },
  {
   "cell_type": "code",
   "execution_count": 10,
   "metadata": {},
   "outputs": [
    {
     "name": "stdout",
     "output_type": "stream",
     "text": [
      "(1, 2, 3, 4)\n",
      "<class 'tuple'>\n",
      "1\n",
      "<class 'int'>\n",
      "(1,)\n",
      "<class 'tuple'>\n"
     ]
    }
   ],
   "source": [
    "# 1. 튜플 생성하기\n",
    "t1 = (1,2,3,4)\n",
    "t2 = (4,5,6)\n",
    "print(t1)\n",
    "print(type(t2))\n",
    "\n",
    "t3 = (1)\n",
    "print(t3) #괄호가 없음\n",
    "print(type(t3)) #int 타입임\n",
    "\n",
    "t4 = (1,) #값이 하나일 때는 반드시 뒤에 ,를 찍어줘야 튜플로 인식한다.\n",
    "print(t4)\n",
    "print(type(t4))\n",
    "\n",
    "'''\n",
    "프로그램이 실행되는 동안 그 값이 항상 변하지 않기를 바란다거나\n",
    "값이 바뀔까봐 걱정하고 싶지 않은 경우 주저하지 말고 튜플을 사용해야 한다.\n",
    "이와는 반대로 \n",
    "수시로 그 값을 변경시켜야 하는 경우라면 리스트를 사용해야 한다.\n",
    "-> 그렇다면 작업을 리스트로 하다가 튜플로 변경해도 되겠다.\n",
    "'''"
   ]
  },
  {
   "cell_type": "code",
   "execution_count": 21,
   "metadata": {},
   "outputs": [
    {
     "name": "stdout",
     "output_type": "stream",
     "text": [
      "3\n",
      "<class 'int'>\n",
      "(3, 4, 5)\n",
      "(3, 4, 5)\n",
      "[1, 2, 3, 4, 5, 6, 7, 8, 9, 0, 100]\n",
      "<class 'list'>\n"
     ]
    }
   ],
   "source": [
    "a,b,c=3,4,5 #한줄에 multiple한 할당이 가능하다\n",
    "print(a)\n",
    "print(type(a))\n",
    "\n",
    "a = 3,4,5 #튜플로 들어가게 됨. 튜플 만들 때 ()는 생략가능하다.\n",
    "print(a) \n",
    "\n",
    "b = (3,4,5)\n",
    "print(b)\n",
    "\n",
    "tu = 1,2,3,4,5,6,7,8,9,0,100 #tuple 타입. 이렇게 많이 씀\n",
    "tuList = list(t1) #list 타입. list()는 리스트를 생성할 때도 쓰지만 리스트로 바꿀 때도 씀\n",
    "print(tuList)\n",
    "print(type(tuList))"
   ]
  },
  {
   "cell_type": "code",
   "execution_count": 24,
   "metadata": {},
   "outputs": [
    {
     "name": "stdout",
     "output_type": "stream",
     "text": [
      "11\n",
      "11\n",
      "******************************\n",
      "리스트 208\n",
      "튜플 136\n"
     ]
    }
   ],
   "source": [
    "import sys\n",
    "print(len(tu))\n",
    "print(len(tuList)) #데이터 개수 11로 동일\n",
    "print('*'*30)\n",
    "print('리스트', sys.getsizeof(tuList))\n",
    "print('튜플', sys.getsizeof(tu))\n",
    "# 차이가 많이 남. 데이터 양이 방대해질수록 메모리 크기 더 차이남"
   ]
  },
  {
   "cell_type": "code",
   "execution_count": 27,
   "metadata": {},
   "outputs": [],
   "source": [
    "# 튜플은 조작이 안 됨\n",
    "# tu[3] = 77 \n",
    "# del tu[0]"
   ]
  },
  {
   "cell_type": "markdown",
   "metadata": {},
   "source": [
    "## 딕셔너리"
   ]
  },
  {
   "cell_type": "code",
   "execution_count": 28,
   "metadata": {},
   "outputs": [
    {
     "name": "stdout",
     "output_type": "stream",
     "text": [
      "{'name': 'DRAM', 'capa': '2g', 'maker': 'SK-H', 'price': 320000}\n"
     ]
    }
   ],
   "source": [
    "#1. 생성하기\n",
    "proDic = {'name':'DRAM','capa':'2g','maker':'SK-H','price':320000}\n",
    "print(proDic)"
   ]
  },
  {
   "cell_type": "code",
   "execution_count": 30,
   "metadata": {},
   "outputs": [
    {
     "name": "stdout",
     "output_type": "stream",
     "text": [
      "DRAM\n",
      "DRAM\n"
     ]
    }
   ],
   "source": [
    "#2. 조회하기\n",
    "'''\n",
    "리스트, 튜플은 데이터의 요소를 출력할 때\n",
    "인덱싱이나 슬라이싱 기법을 사용해서 데이터를 추출\n",
    "\n",
    "그런데 딕셔너리는 데이터 추출하는 방법이 단 한 가지 방법만 있다.\n",
    "바로 Key를 이용해서 값을 구하는 방법이다.(딕셔너리는 순서가 없음!)\n",
    "'''\n",
    "\n",
    "print(proDic['name'])\n",
    "print(proDic.get('name'))"
   ]
  },
  {
   "cell_type": "code",
   "execution_count": 32,
   "metadata": {},
   "outputs": [
    {
     "name": "stdout",
     "output_type": "stream",
     "text": [
      "{'name': 'DRAM', 'capa': '2g', 'maker': 'SK-H', 'price': 230000}\n"
     ]
    }
   ],
   "source": [
    "#3. 데이터 수정하기\n",
    "proDic['price']=230000\n",
    "print(proDic)"
   ]
  },
  {
   "cell_type": "code",
   "execution_count": 33,
   "metadata": {},
   "outputs": [
    {
     "name": "stdout",
     "output_type": "stream",
     "text": [
      "{'name': 'DRAM', 'capa': '2g', 'maker': 'SK-H', 'price': 230000, 'location': '이천', 'pop': 33000}\n"
     ]
    }
   ],
   "source": [
    "#4. 데이터 추가하기\n",
    "addInfo = {'location':'이천','pop':33000} #추가하는 정보는 여러개여도 상관 없는데 딕셔너리 형태를 띠어야 한다.\n",
    "proDic.update(addInfo)\n",
    "print(proDic)"
   ]
  },
  {
   "cell_type": "code",
   "execution_count": 41,
   "metadata": {},
   "outputs": [
    {
     "name": "stdout",
     "output_type": "stream",
     "text": [
      "{'name': 'DRAM', 'capa': '2g', 'maker': 'SK-H', 'price': 230000, 'location': '이천'}\n"
     ]
    }
   ],
   "source": [
    "#5. 데이터 삭제하기 : del dic[키이름]...... pop\n",
    "#del proDic[3] 이렇게 하면 안된다... 인덱싱으로 안 된다...\n",
    "del proDic['pop']\n",
    "print(proDic)"
   ]
  },
  {
   "cell_type": "code",
   "execution_count": null,
   "metadata": {},
   "outputs": [],
   "source": [
    "'''\n",
    "딕셔너리 다룰 때 주의사항\n",
    "\n",
    "1.\n",
    "값은 중복이 될 수 있지만 키는 원래 고유해야 한다.\n",
    "그런데 키값이 중복되어서 들어간다면 나중에 추가된 키값으로 덮어씌여진다.\n",
    "에러나지 않는다.\n",
    "\n",
    "2.\n",
    "딕셔너리에서 덩어리를 키값으로 잡을 수 있다. 그런데 그것들은 고유한 값이어야 한다.\n",
    "딕셔너리에서 키로 쓸 수 있느냐 없느냐의 기준은 \n",
    "해당하는 키값이 변경될 수 있는 값인가의 여부에 따라 달라진다.\n",
    "그러므로 튜플은 키값으로 잡을 수 있지만 리스트는 키값으로 잡을 수 없다.\n",
    "(나중에 데이터 분석 가서 리스트를 키값으로 부여하려는 시도를 할 때가 있는데 안됨)\n",
    "'''"
   ]
  },
  {
   "cell_type": "code",
   "execution_count": 48,
   "metadata": {},
   "outputs": [
    {
     "name": "stdout",
     "output_type": "stream",
     "text": [
      "{1: 'b'}\n",
      "{(1, 2): 'hello'}\n"
     ]
    }
   ],
   "source": [
    "aa = {1:'a', 1:'b'}\n",
    "print(aa)\n",
    "\n",
    "# bb = {[1,2]:'hi'} # 에러남\n",
    "\n",
    "cc = {(1,2) : 'hello'}\n",
    "print(cc)"
   ]
  },
  {
   "cell_type": "markdown",
   "metadata": {},
   "source": [
    "## 딕셔너리에서 함수 사용하기"
   ]
  },
  {
   "cell_type": "code",
   "execution_count": 49,
   "metadata": {},
   "outputs": [
    {
     "data": {
      "text/plain": [
       "{'name': 'JAMES', 'age': 33, 'address': 'NY', 'phone': '0102222'}"
      ]
     },
     "execution_count": 49,
     "metadata": {},
     "output_type": "execute_result"
    }
   ],
   "source": [
    "dic = {'name':'JAMES','age':33,'address':'NY','phone':'0102222'}\n",
    "dic"
   ]
  },
  {
   "cell_type": "code",
   "execution_count": 59,
   "metadata": {},
   "outputs": [
    {
     "name": "stdout",
     "output_type": "stream",
     "text": [
      "dict_keys(['name', 'age', 'address', 'phone'])\n",
      "<class 'dict_keys'>\n",
      "['name', 'age', 'address', 'phone']\n",
      "dict_values(['JAMES', 33, 'NY', '0102222'])\n"
     ]
    }
   ],
   "source": [
    "#1. keys(), values() 키들만 뽑아옴 / 값들만 뽑아옴\n",
    "dic_key = dic.keys()\n",
    "print(dic_key)\n",
    "'''\n",
    "dict_keys 객체는 리스트를 사용하는 것과의 차이가 없지만\n",
    "리스트 고유의 함수를 수행할 수 없다.\n",
    "append(), insert(), pop(), remove(), sort() 이런 함수 수행 안됨\n",
    "\n",
    "for문과 연결...\n",
    "'''\n",
    "print(type(dic_key)) #타입 리스트 아님. dict_keys 타입임.\n",
    "print(list(dic_key)) #리스트로 변환\n",
    "\n",
    "dic_value = dic.values()\n",
    "print(dic_value)"
   ]
  },
  {
   "cell_type": "code",
   "execution_count": 62,
   "metadata": {},
   "outputs": [
    {
     "name": "stdout",
     "output_type": "stream",
     "text": [
      "name\n",
      "age\n",
      "address\n",
      "phone\n",
      "******************************\n",
      "JAMES\n",
      "33\n",
      "NY\n",
      "0102222\n"
     ]
    }
   ],
   "source": [
    "for k in dic.keys():\n",
    "    print(k) #들여쓰기 해야 for문 안으로 인식됨\n",
    "print('*'*30)\n",
    "for v in dic.values():\n",
    "    print(v)"
   ]
  },
  {
   "cell_type": "code",
   "execution_count": 71,
   "metadata": {},
   "outputs": [
    {
     "name": "stdout",
     "output_type": "stream",
     "text": [
      "name \tage \taddress \tphone \t\n",
      "\n",
      "name  age  address  phone  \n",
      "JAMES  33  NY  0102222  "
     ]
    }
   ],
   "source": [
    "# name age address phone\n",
    "for k in dic.keys():\n",
    "    print(k, '\\t', end='') \n",
    "print()\n",
    "print()\n",
    "for k in dic.keys():\n",
    "    print(k, ' ', end='') \n",
    "print()\n",
    "for v in dic.values():\n",
    "    print(v, ' ', end='') "
   ]
  },
  {
   "cell_type": "code",
   "execution_count": 72,
   "metadata": {},
   "outputs": [
    {
     "name": "stdout",
     "output_type": "stream",
     "text": [
      "dict_items([('name', 'JAMES'), ('age', 33), ('address', 'NY'), ('phone', '0102222')])\n"
     ]
    }
   ],
   "source": [
    "#2. key, value 모두 가지고 올 때 items\n",
    "dic_item = dic.items()\n",
    "print(dic_item) #key, value를 쌍으로 묵은 튜플로 리턴...(그걸 또 리스트로 묶고 그 리스트를 dict_items 객체로 묶음)"
   ]
  },
  {
   "cell_type": "code",
   "execution_count": 82,
   "metadata": {},
   "outputs": [
    {
     "name": "stdout",
     "output_type": "stream",
     "text": [
      "NY\n",
      "None\n"
     ]
    }
   ],
   "source": [
    "#3. key로 value 얻기... get()\n",
    "dic\n",
    "address=dic.get('address')\n",
    "print(address)\n",
    "'''\n",
    "None 출력되는 경우\n",
    "1)반환값 없는 함수를 print() 안에다 적용시킨 경우.... sort()는 리턴값 없음/sorted()는 리턴값 있음\n",
    "2)딕셔너리에서 존재하지 않는 키값을 받아올 때... get으로 받아올 때\n",
    "'''\n",
    "print(dic.get('addr')) #존재하지 않는 키를 얻어오면 None 출력\n",
    "#print(dic['addr']) #키가 존재하지 않으면 에러 발생\n",
    "# get()으로 키값을 받아올 때는 None 출력\n",
    "# 인덱싱으로 키값을 찾아오는 경우 에러남"
   ]
  },
  {
   "cell_type": "code",
   "execution_count": 83,
   "metadata": {},
   "outputs": [
    {
     "data": {
      "text/plain": [
       "True"
      ]
     },
     "execution_count": 83,
     "metadata": {},
     "output_type": "execute_result"
    }
   ],
   "source": [
    "'name' in dic"
   ]
  },
  {
   "cell_type": "markdown",
   "metadata": {},
   "source": [
    "## Set"
   ]
  },
  {
   "cell_type": "code",
   "execution_count": null,
   "metadata": {},
   "outputs": [],
   "source": [
    "'''\n",
    "중복 허용하지 않는다.\n",
    "순서 없다.\n",
    "\n",
    "리스트나 튜플은 순서가 있기 때문에 인덱싱을 통해서 데이터를 추출할 수 있지만\n",
    "Set은 인덱싱으로 데이터 추출이 안 된다.\n",
    "\n",
    "만약에 Set에 저장된 값을 인덱싱, 슬라이싱으로 핸들링하고자 한다면\n",
    "리스트 혹은 튜플로 자료형을 변환한 후 해야 한다.\n",
    "list(), tuple()\n",
    "'''"
   ]
  },
  {
   "cell_type": "code",
   "execution_count": 85,
   "metadata": {},
   "outputs": [
    {
     "data": {
      "text/plain": [
       "{'a', 'b', 'c'}"
      ]
     },
     "execution_count": 85,
     "metadata": {},
     "output_type": "execute_result"
    }
   ],
   "source": [
    "mySet = {'a','b','c','a','b'}\n",
    "mySet #중복 안됨\n",
    "#리스트 사용하기 전에 Set을 의외로 많이 씀. 전처리작업으로 중복된 데이터를 Set으로 제거해줌.\n",
    "#리스트의 중복된 자료를 Set으로 걸러주는 필터링 효과"
   ]
  },
  {
   "cell_type": "markdown",
   "metadata": {},
   "source": [
    "## 중복 제거하는 필터로서의 Set"
   ]
  },
  {
   "cell_type": "code",
   "execution_count": 88,
   "metadata": {},
   "outputs": [
    {
     "name": "stdout",
     "output_type": "stream",
     "text": [
      "[1, 1, 2, 2, 3, 3, 4, 5, 6, 6, 7, 8, 2]\n",
      "{1, 2, 3, 4, 5, 6, 7, 8}\n",
      "[1, 2, 3, 4, 5, 6, 7, 8]\n"
     ]
    }
   ],
   "source": [
    "'''\n",
    "중복을 허용하지 않는 set의 특징은 다른 자료형에 담긴 데이터의 중복을 제거하기 위한\n",
    "필터 역할을 매우 종종 한다.\n",
    "'''\n",
    "a = [1,1,2,2,3,3,4,5,6,6,7,8,2]\n",
    "print(a)\n",
    "\n",
    "setData = set(a)\n",
    "print(setData)\n",
    "\n",
    "listData = list(setData)\n",
    "print(listData)"
   ]
  },
  {
   "cell_type": "code",
   "execution_count": 106,
   "metadata": {},
   "outputs": [
    {
     "name": "stdout",
     "output_type": "stream",
     "text": [
      "[8, 7, 6, 5, 4, 3, 2, 1]\n",
      "******************************\n",
      "[8, 7, 6, 5, 4, 3, 2, 1]\n"
     ]
    }
   ],
   "source": [
    "#sort()는 반환값이 없다... print() 하면 None 출력된다..\n",
    "#sorted()는 반환값이 있다... print() 하면 출력된다.\n",
    "listData.sort(reverse=True)\n",
    "print(listData)\n",
    "print('*'*30)\n",
    "\n",
    "sorted?\n",
    "\n",
    "print(sorted(listData, reverse=True))"
   ]
  },
  {
   "cell_type": "code",
   "execution_count": 107,
   "metadata": {},
   "outputs": [
    {
     "name": "stdout",
     "output_type": "stream",
     "text": [
      "Variable    Type           Data/Info\n",
      "------------------------------------\n",
      "a           list           n=13\n",
      "aa          dict           n=1\n",
      "addInfo     dict           n=2\n",
      "address     str            NY\n",
      "b           tuple          n=3\n",
      "bb          dict           n=0\n",
      "c           int            5\n",
      "cc          dict           n=1\n",
      "dic         dict           n=4\n",
      "dic_item    dict_items     dict_items([('name', 'JAM<...>), ('phone', '0102222')])\n",
      "dic_key     dict_keys      dict_keys(['name', 'age', 'address', 'phone'])\n",
      "dic_list    list           n=4\n",
      "dic_value   dict_values    dict_values(['JAMES', 33, 'NY', '0102222'])\n",
      "k           str            phone\n",
      "listData    list           n=8\n",
      "mySet       set            {'c', 'a', 'b'}\n",
      "proDic      dict           n=5\n",
      "setData     set            {1, 2, 3, 4, 5, 6, 7, 8}\n",
      "sys         module         <module 'sys' (built-in)>\n",
      "t1          tuple          n=11\n",
      "t1List      list           n=11\n",
      "t2          tuple          n=3\n",
      "t3          int            1\n",
      "t4          tuple          n=1\n",
      "tu          tuple          n=11\n",
      "tuList      list           n=11\n",
      "v           str            0102222\n"
     ]
    }
   ],
   "source": [
    "#매직명령어\n",
    "#작업한 변수를 일목요연하게 확인\n",
    "%whos"
   ]
  },
  {
   "cell_type": "markdown",
   "metadata": {},
   "source": [
    "### Set 관련 함수"
   ]
  },
  {
   "cell_type": "code",
   "execution_count": 112,
   "metadata": {},
   "outputs": [
    {
     "ename": "TypeError",
     "evalue": "add() takes exactly one argument (3 given)",
     "output_type": "error",
     "traceback": [
      "\u001b[1;31m---------------------------------------------------------------------------\u001b[0m",
      "\u001b[1;31mTypeError\u001b[0m                                 Traceback (most recent call last)",
      "\u001b[1;32m<ipython-input-112-78d696f2eb22>\u001b[0m in \u001b[0;36m<module>\u001b[1;34m\u001b[0m\n\u001b[0;32m      4\u001b[0m \u001b[0ms1\u001b[0m\u001b[1;33m\u001b[0m\u001b[1;33m\u001b[0m\u001b[0m\n\u001b[0;32m      5\u001b[0m \u001b[1;33m\u001b[0m\u001b[0m\n\u001b[1;32m----> 6\u001b[1;33m \u001b[0ms1\u001b[0m\u001b[1;33m.\u001b[0m\u001b[0madd\u001b[0m\u001b[1;33m(\u001b[0m\u001b[1;36m5\u001b[0m\u001b[1;33m,\u001b[0m\u001b[1;36m6\u001b[0m\u001b[1;33m,\u001b[0m\u001b[1;36m7\u001b[0m\u001b[1;33m)\u001b[0m\u001b[1;33m\u001b[0m\u001b[1;33m\u001b[0m\u001b[0m\n\u001b[0m",
      "\u001b[1;31mTypeError\u001b[0m: add() takes exactly one argument (3 given)"
     ]
    }
   ],
   "source": [
    "#1. 추가.... add\n",
    "s1 = set([1,2,3])\n",
    "s1.add(4)\n",
    "s1\n",
    "\n",
    "#s1.add({5,6,7}) #에러남. 하나의 값만 추가할 수 있음."
   ]
  },
  {
   "cell_type": "code",
   "execution_count": null,
   "metadata": {},
   "outputs": [],
   "source": []
  }
 ],
 "metadata": {
  "kernelspec": {
   "display_name": "Python 3",
   "language": "python",
   "name": "python3"
  },
  "language_info": {
   "codemirror_mode": {
    "name": "ipython",
    "version": 3
   },
   "file_extension": ".py",
   "mimetype": "text/x-python",
   "name": "python",
   "nbconvert_exporter": "python",
   "pygments_lexer": "ipython3",
   "version": "3.7.6"
  }
 },
 "nbformat": 4,
 "nbformat_minor": 4
}
