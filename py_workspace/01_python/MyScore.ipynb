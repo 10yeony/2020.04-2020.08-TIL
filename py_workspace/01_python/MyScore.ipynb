{
 "cells": [
  {
   "cell_type": "code",
   "execution_count": null,
   "metadata": {},
   "outputs": [],
   "source": [
    "'''\n",
    "MyScore 는 5개의 함수를 가지고 있는 모듈\n",
    "모듈은 반드시 확장자가 py로 끝나야 한다.\n",
    "\n",
    "방법 1) File>Download as>Python py 선택\n",
    "방법 2) 매직명령어 %%writefile MyScore.py\n",
    "\n",
    "실행 후 python 파일이 하나 만들어진다.(같은 디렉토리 안에)\n",
    "(넘파이도 모듈임. 우리가 쓰는 모든 라이브러리는 파이썬 모듈임.)\n",
    "\n",
    "참고로 %% 매직명령어는 무조건 코드의 첫부분에 나와야 한다.\n",
    "'''"
   ]
  },
  {
   "cell_type": "code",
   "execution_count": 2,
   "metadata": {},
   "outputs": [
    {
     "name": "stdout",
     "output_type": "stream",
     "text": [
      "Writing MyScore.py\n"
     ]
    }
   ],
   "source": [
    "%%writefile MyScore.py\n",
    "\n",
    "def getSum(data):\n",
    "    total = 0\n",
    "    for d in data:\n",
    "        total += d\n",
    "    return total\n",
    "\n",
    "def getMean(data):\n",
    "    return getSum(data)/len(data)\n",
    "    \n",
    "def getMax(data):\n",
    "    maxNum = data[0]\n",
    "    for d in data[1:]: #data[0]은 비교할 필요 없음\n",
    "        if maxNum < d:\n",
    "            maxNum = d\n",
    "    return maxNum\n",
    "    \n",
    "def getMin(data):\n",
    "    minNum = int(data[0])\n",
    "    for d in data[1:]:\n",
    "        if minNum > d:\n",
    "            minNum = d\n",
    "    return minNum\n",
    "    \n",
    "    \n",
    "def getTwoSum(num2, num1=1): #num1이 더 큰 값이 왔을 때...\n",
    "    total = 0\n",
    "    if num1 > num2:\n",
    "        num1 ,num2 = num2, num1 #두 수를 스왑시킴\n",
    "    for i in range(num1, num2+1):\n",
    "        total += i\n",
    "    return total"
   ]
  }
 ],
 "metadata": {
  "kernelspec": {
   "display_name": "Python 3",
   "language": "python",
   "name": "python3"
  },
  "language_info": {
   "codemirror_mode": {
    "name": "ipython",
    "version": 3
   },
   "file_extension": ".py",
   "mimetype": "text/x-python",
   "name": "python",
   "nbconvert_exporter": "python",
   "pygments_lexer": "ipython3",
   "version": "3.7.6"
  }
 },
 "nbformat": 4,
 "nbformat_minor": 4
}
