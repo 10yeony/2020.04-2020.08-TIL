{
 "cells": [
  {
   "cell_type": "code",
   "execution_count": 1,
   "metadata": {},
   "outputs": [],
   "source": [
    "from myGame import makeLotto, meanGrade"
   ]
  },
  {
   "cell_type": "code",
   "execution_count": 2,
   "metadata": {},
   "outputs": [],
   "source": [
    "def newGame():\n",
    "    while True:\n",
    "        menu=input('실행할 함수를 고르세요\\n1. 로또함수\\n2. 학점 평균 함수\\n3. 종료\\n>>>>>')\n",
    "        if menu=='1':\n",
    "            makeLotto(int(input('로또 번호 횟수를 입력하세요')))\n",
    "        elif menu=='2':\n",
    "            meanGrade(input('학점을 ,로 구분하여 입력하세요').split(','))\n",
    "        elif menu=='3':\n",
    "            break"
   ]
  },
  {
   "cell_type": "code",
   "execution_count": null,
   "metadata": {
    "scrolled": true
   },
   "outputs": [],
   "source": [
    "newGame()"
   ]
  }
 ],
 "metadata": {
  "kernelspec": {
   "display_name": "Python 3",
   "language": "python",
   "name": "python3"
  },
  "language_info": {
   "codemirror_mode": {
    "name": "ipython",
    "version": 3
   },
   "file_extension": ".py",
   "mimetype": "text/x-python",
   "name": "python",
   "nbconvert_exporter": "python",
   "pygments_lexer": "ipython3",
   "version": "3.7.6"
  }
 },
 "nbformat": 4,
 "nbformat_minor": 4
}
