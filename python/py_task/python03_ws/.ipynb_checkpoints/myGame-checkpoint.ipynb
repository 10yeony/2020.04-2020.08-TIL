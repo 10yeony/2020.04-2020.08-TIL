{
 "cells": [
  {
   "cell_type": "code",
   "execution_count": 21,
   "metadata": {},
   "outputs": [
    {
     "name": "stdout",
     "output_type": "stream",
     "text": [
      "Writing myGame.py\n"
     ]
    }
   ],
   "source": [
    "%%writefile myGame.py\n",
    "\n",
    "import random\n",
    "\n",
    "def makeLotto(num):\n",
    "    for i in range(num):\n",
    "        lottoList = []\n",
    "        while len(set(lottoList))!=6:\n",
    "            lottoList.append(random.randrange(1,46))\n",
    "        print('게임', i+1, list(set(lottoList)))\n",
    "\n",
    "def meanGrade(grade):\n",
    "    total = 0;\n",
    "    for g in grade:\n",
    "        gradeToNum = {'A+':4.5, 'A':4.3, 'A-':4.0, 'B+':3.5, 'B':3.3, 'B-':3.0, 'C':2.5, 'D':1.5}\n",
    "        total += gradeToNum[g]\n",
    "    print('평균 : %.1f' %(total/len(grade)))"
   ]
  }
 ],
 "metadata": {
  "kernelspec": {
   "display_name": "Python 3",
   "language": "python",
   "name": "python3"
  },
  "language_info": {
   "codemirror_mode": {
    "name": "ipython",
    "version": 3
   },
   "file_extension": ".py",
   "mimetype": "text/x-python",
   "name": "python",
   "nbconvert_exporter": "python",
   "pygments_lexer": "ipython3",
   "version": "3.7.6"
  }
 },
 "nbformat": 4,
 "nbformat_minor": 4
}
