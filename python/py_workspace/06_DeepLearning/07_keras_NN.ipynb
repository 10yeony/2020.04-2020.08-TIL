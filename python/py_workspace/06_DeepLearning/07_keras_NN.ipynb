{
 "cells": [
  {
   "cell_type": "code",
   "execution_count": 4,
   "metadata": {},
   "outputs": [],
   "source": [
    "import keras\n",
    "from keras import models, layers\n",
    "import numpy as np"
   ]
  },
  {
   "cell_type": "code",
   "execution_count": 2,
   "metadata": {},
   "outputs": [
    {
     "name": "stdout",
     "output_type": "stream",
     "text": [
      "[0 1 2 3 4]\n",
      "[1 3 5 7 9]\n"
     ]
    }
   ],
   "source": [
    "# 1. Data Generator\n",
    "x = np.array([0,1,2,3,4])\n",
    "y = 2 * x + 1\n",
    "\n",
    "print(x)\n",
    "print(y)"
   ]
  },
  {
   "cell_type": "code",
   "execution_count": 8,
   "metadata": {},
   "outputs": [],
   "source": [
    "# 2. Model Generator\n",
    "'''\n",
    "units - 히든레이어의 유닛의 개수\n",
    "**kwargs : 이런 건 없다... input_shape=(1,)\n",
    "'''\n",
    "model=models.Sequential() #x값이 입력되고 Hidden Layer를 거쳐서 y값으로 출력\n",
    "# Fully Connected Layer를 만들 때 Dense(빽빽한, 밀집함)\n",
    "model.add(layers.Dense(1,input_shape=(1,))) #레이어에 들어있는 유닛의 개수, **kwargs에 포함되는 게 input_shape\n",
    "# layers.Dense?"
   ]
  },
  {
   "cell_type": "code",
   "execution_count": 9,
   "metadata": {},
   "outputs": [],
   "source": [
    "# 3. ... optimizer에 해당하는 부분, loss에 해당하는 부분... complie\n",
    "model.compile(optimizer=keras.optimizers.sgd(0.01), loss='mse', metrics=['accuracy']) #0.01은 learning rate"
   ]
  },
  {
   "cell_type": "code",
   "execution_count": 13,
   "metadata": {},
   "outputs": [
    {
     "name": "stdout",
     "output_type": "stream",
     "text": [
      "[0 1 2 3]\n",
      "[1 3 5 7]\n"
     ]
    }
   ],
   "source": [
    "# 4. 학습을 진행\n",
    "model.fit(x[:4], y[:4], epochs=100, verbose=0) \n",
    "#원래는 하이퍼파라미터 변수로 뽑아내는 게 더 좋음\n",
    "# verbose를 1이나 2로 주면 tracing을 하면서 메모리를 많이 잡아먹고 속도 느림. \n",
    "print(x[:4])\n",
    "print(y[:4])"
   ]
  },
  {
   "cell_type": "code",
   "execution_count": 16,
   "metadata": {},
   "outputs": [
    {
     "name": "stdout",
     "output_type": "stream",
     "text": [
      "Y Value :  [7 9]\n",
      "Prediction :  [[6.9515004]\n",
      " [8.89543  ]]\n",
      "Prediction :  [6.9515004 8.89543  ]\n"
     ]
    }
   ],
   "source": [
    "# 5. 예측\n",
    "print('Y Value : ', y[3:])\n",
    "print('Prediction : ', model.predict(x[3:]))\n",
    "print('Prediction : ', model.predict(x[3:]).flatten()) #1차원으로 펼침"
   ]
  },
  {
   "cell_type": "code",
   "execution_count": 21,
   "metadata": {},
   "outputs": [
    {
     "name": "stdout",
     "output_type": "stream",
     "text": [
      "Loss 0.006643588189035654, Accuracy : 1.0\n"
     ]
    }
   ],
   "source": [
    "# 6. Evaluate\n",
    "eval_model = model.evaluate(x[3:], y[3:], verbose=0)\n",
    "print('Loss {}, Accuracy : {}'.format(*eval_model)) \n",
    "# * => 파이썬에서 굉장히 많이 씀. 가변변수 안에서 요소가 몇개 있는지 모르지만 하나씩 불러오려고 할 때 쓴다.\n",
    "# 파이썬에서 많이 써서 파이썬 라이브러리에서도 많이 씀."
   ]
  }
 ],
 "metadata": {
  "kernelspec": {
   "display_name": "Python 3",
   "language": "python",
   "name": "python3"
  },
  "language_info": {
   "codemirror_mode": {
    "name": "ipython",
    "version": 3
   },
   "file_extension": ".py",
   "mimetype": "text/x-python",
   "name": "python",
   "nbconvert_exporter": "python",
   "pygments_lexer": "ipython3",
   "version": "3.7.7"
  }
 },
 "nbformat": 4,
 "nbformat_minor": 4
}
