{
 "cells": [
  {
   "cell_type": "code",
   "execution_count": 1,
   "metadata": {},
   "outputs": [
    {
     "name": "stderr",
     "output_type": "stream",
     "text": [
      "Using TensorFlow backend.\n",
      "C:\\kyh\\anaconda3\\lib\\site-packages\\tensorflow\\python\\framework\\dtypes.py:516: FutureWarning: Passing (type, 1) or '1type' as a synonym of type is deprecated; in a future version of numpy, it will be understood as (type, (1,)) / '(1,)type'.\n",
      "  _np_qint8 = np.dtype([(\"qint8\", np.int8, 1)])\n",
      "C:\\kyh\\anaconda3\\lib\\site-packages\\tensorflow\\python\\framework\\dtypes.py:517: FutureWarning: Passing (type, 1) or '1type' as a synonym of type is deprecated; in a future version of numpy, it will be understood as (type, (1,)) / '(1,)type'.\n",
      "  _np_quint8 = np.dtype([(\"quint8\", np.uint8, 1)])\n",
      "C:\\kyh\\anaconda3\\lib\\site-packages\\tensorflow\\python\\framework\\dtypes.py:518: FutureWarning: Passing (type, 1) or '1type' as a synonym of type is deprecated; in a future version of numpy, it will be understood as (type, (1,)) / '(1,)type'.\n",
      "  _np_qint16 = np.dtype([(\"qint16\", np.int16, 1)])\n",
      "C:\\kyh\\anaconda3\\lib\\site-packages\\tensorflow\\python\\framework\\dtypes.py:519: FutureWarning: Passing (type, 1) or '1type' as a synonym of type is deprecated; in a future version of numpy, it will be understood as (type, (1,)) / '(1,)type'.\n",
      "  _np_quint16 = np.dtype([(\"quint16\", np.uint16, 1)])\n",
      "C:\\kyh\\anaconda3\\lib\\site-packages\\tensorflow\\python\\framework\\dtypes.py:520: FutureWarning: Passing (type, 1) or '1type' as a synonym of type is deprecated; in a future version of numpy, it will be understood as (type, (1,)) / '(1,)type'.\n",
      "  _np_qint32 = np.dtype([(\"qint32\", np.int32, 1)])\n",
      "C:\\kyh\\anaconda3\\lib\\site-packages\\tensorflow\\python\\framework\\dtypes.py:525: FutureWarning: Passing (type, 1) or '1type' as a synonym of type is deprecated; in a future version of numpy, it will be understood as (type, (1,)) / '(1,)type'.\n",
      "  np_resource = np.dtype([(\"resource\", np.ubyte, 1)])\n",
      "C:\\kyh\\anaconda3\\lib\\site-packages\\tensorboard\\compat\\tensorflow_stub\\dtypes.py:541: FutureWarning: Passing (type, 1) or '1type' as a synonym of type is deprecated; in a future version of numpy, it will be understood as (type, (1,)) / '(1,)type'.\n",
      "  _np_qint8 = np.dtype([(\"qint8\", np.int8, 1)])\n",
      "C:\\kyh\\anaconda3\\lib\\site-packages\\tensorboard\\compat\\tensorflow_stub\\dtypes.py:542: FutureWarning: Passing (type, 1) or '1type' as a synonym of type is deprecated; in a future version of numpy, it will be understood as (type, (1,)) / '(1,)type'.\n",
      "  _np_quint8 = np.dtype([(\"quint8\", np.uint8, 1)])\n",
      "C:\\kyh\\anaconda3\\lib\\site-packages\\tensorboard\\compat\\tensorflow_stub\\dtypes.py:543: FutureWarning: Passing (type, 1) or '1type' as a synonym of type is deprecated; in a future version of numpy, it will be understood as (type, (1,)) / '(1,)type'.\n",
      "  _np_qint16 = np.dtype([(\"qint16\", np.int16, 1)])\n",
      "C:\\kyh\\anaconda3\\lib\\site-packages\\tensorboard\\compat\\tensorflow_stub\\dtypes.py:544: FutureWarning: Passing (type, 1) or '1type' as a synonym of type is deprecated; in a future version of numpy, it will be understood as (type, (1,)) / '(1,)type'.\n",
      "  _np_quint16 = np.dtype([(\"quint16\", np.uint16, 1)])\n",
      "C:\\kyh\\anaconda3\\lib\\site-packages\\tensorboard\\compat\\tensorflow_stub\\dtypes.py:545: FutureWarning: Passing (type, 1) or '1type' as a synonym of type is deprecated; in a future version of numpy, it will be understood as (type, (1,)) / '(1,)type'.\n",
      "  _np_qint32 = np.dtype([(\"qint32\", np.int32, 1)])\n",
      "C:\\kyh\\anaconda3\\lib\\site-packages\\tensorboard\\compat\\tensorflow_stub\\dtypes.py:550: FutureWarning: Passing (type, 1) or '1type' as a synonym of type is deprecated; in a future version of numpy, it will be understood as (type, (1,)) / '(1,)type'.\n",
      "  np_resource = np.dtype([(\"resource\", np.ubyte, 1)])\n"
     ]
    }
   ],
   "source": [
    "import numpy as np\n",
    "from keras import datasets\n",
    "from keras import models, layers\n",
    "from keras.utils import np_utils # one hot encoding을 위함. Classfication인 경우에만 가능."
   ]
  },
  {
   "cell_type": "code",
   "execution_count": 2,
   "metadata": {},
   "outputs": [],
   "source": [
    "# 1. DataLoader\n",
    "(X_train, y_train), (X_test, y_test)= datasets.mnist.load_data()"
   ]
  },
  {
   "cell_type": "code",
   "execution_count": 3,
   "metadata": {},
   "outputs": [
    {
     "name": "stdout",
     "output_type": "stream",
     "text": [
      "[[  0   0   0   0   0   0   0   0   0   0   0   0   0   0   0   0   0   0\n",
      "    0   0   0   0   0   0   0   0   0   0]\n",
      " [  0   0   0   0   0   0   0   0   0   0   0   0   0   0   0   0   0   0\n",
      "    0   0   0   0   0   0   0   0   0   0]\n",
      " [  0   0   0   0   0   0   0   0   0   0   0   0   0   0   0   0   0   0\n",
      "    0   0   0   0   0   0   0   0   0   0]\n",
      " [  0   0   0   0   0   0   0   0   0   0   0   0   0   0   0   0   0   0\n",
      "    0   0   0   0   0   0   0   0   0   0]\n",
      " [  0   0   0   0   0   0   0   0   0   0   0   0   0   0   0   0   0   0\n",
      "    0   0   0   0   0   0   0   0   0   0]\n",
      " [  0   0   0   0   0   0   0   0   0   0   0   0   3  18  18  18 126 136\n",
      "  175  26 166 255 247 127   0   0   0   0]\n",
      " [  0   0   0   0   0   0   0   0  30  36  94 154 170 253 253 253 253 253\n",
      "  225 172 253 242 195  64   0   0   0   0]\n",
      " [  0   0   0   0   0   0   0  49 238 253 253 253 253 253 253 253 253 251\n",
      "   93  82  82  56  39   0   0   0   0   0]\n",
      " [  0   0   0   0   0   0   0  18 219 253 253 253 253 253 198 182 247 241\n",
      "    0   0   0   0   0   0   0   0   0   0]\n",
      " [  0   0   0   0   0   0   0   0  80 156 107 253 253 205  11   0  43 154\n",
      "    0   0   0   0   0   0   0   0   0   0]\n",
      " [  0   0   0   0   0   0   0   0   0  14   1 154 253  90   0   0   0   0\n",
      "    0   0   0   0   0   0   0   0   0   0]\n",
      " [  0   0   0   0   0   0   0   0   0   0   0 139 253 190   2   0   0   0\n",
      "    0   0   0   0   0   0   0   0   0   0]\n",
      " [  0   0   0   0   0   0   0   0   0   0   0  11 190 253  70   0   0   0\n",
      "    0   0   0   0   0   0   0   0   0   0]\n",
      " [  0   0   0   0   0   0   0   0   0   0   0   0  35 241 225 160 108   1\n",
      "    0   0   0   0   0   0   0   0   0   0]\n",
      " [  0   0   0   0   0   0   0   0   0   0   0   0   0  81 240 253 253 119\n",
      "   25   0   0   0   0   0   0   0   0   0]\n",
      " [  0   0   0   0   0   0   0   0   0   0   0   0   0   0  45 186 253 253\n",
      "  150  27   0   0   0   0   0   0   0   0]\n",
      " [  0   0   0   0   0   0   0   0   0   0   0   0   0   0   0  16  93 252\n",
      "  253 187   0   0   0   0   0   0   0   0]\n",
      " [  0   0   0   0   0   0   0   0   0   0   0   0   0   0   0   0   0 249\n",
      "  253 249  64   0   0   0   0   0   0   0]\n",
      " [  0   0   0   0   0   0   0   0   0   0   0   0   0   0  46 130 183 253\n",
      "  253 207   2   0   0   0   0   0   0   0]\n",
      " [  0   0   0   0   0   0   0   0   0   0   0   0  39 148 229 253 253 253\n",
      "  250 182   0   0   0   0   0   0   0   0]\n",
      " [  0   0   0   0   0   0   0   0   0   0  24 114 221 253 253 253 253 201\n",
      "   78   0   0   0   0   0   0   0   0   0]\n",
      " [  0   0   0   0   0   0   0   0  23  66 213 253 253 253 253 198  81   2\n",
      "    0   0   0   0   0   0   0   0   0   0]\n",
      " [  0   0   0   0   0   0  18 171 219 253 253 253 253 195  80   9   0   0\n",
      "    0   0   0   0   0   0   0   0   0   0]\n",
      " [  0   0   0   0  55 172 226 253 253 253 253 244 133  11   0   0   0   0\n",
      "    0   0   0   0   0   0   0   0   0   0]\n",
      " [  0   0   0   0 136 253 253 253 212 135 132  16   0   0   0   0   0   0\n",
      "    0   0   0   0   0   0   0   0   0   0]\n",
      " [  0   0   0   0   0   0   0   0   0   0   0   0   0   0   0   0   0   0\n",
      "    0   0   0   0   0   0   0   0   0   0]\n",
      " [  0   0   0   0   0   0   0   0   0   0   0   0   0   0   0   0   0   0\n",
      "    0   0   0   0   0   0   0   0   0   0]\n",
      " [  0   0   0   0   0   0   0   0   0   0   0   0   0   0   0   0   0   0\n",
      "    0   0   0   0   0   0   0   0   0   0]]\n"
     ]
    }
   ],
   "source": [
    "print(X_train[0]) #손글씨..."
   ]
  },
  {
   "cell_type": "code",
   "execution_count": 4,
   "metadata": {},
   "outputs": [
    {
     "data": {
      "text/plain": [
       "(60000, 28, 28)"
      ]
     },
     "execution_count": 4,
     "metadata": {},
     "output_type": "execute_result"
    }
   ],
   "source": [
    "X_train.shape"
   ]
  },
  {
   "cell_type": "code",
   "execution_count": 5,
   "metadata": {},
   "outputs": [
    {
     "name": "stdout",
     "output_type": "stream",
     "text": [
      "5\n"
     ]
    },
    {
     "data": {
      "text/plain": [
       "(60000,)"
      ]
     },
     "execution_count": 5,
     "metadata": {},
     "output_type": "execute_result"
    }
   ],
   "source": [
    "print(y_train[0])\n",
    "y_train.shape"
   ]
  },
  {
   "cell_type": "code",
   "execution_count": 6,
   "metadata": {},
   "outputs": [],
   "source": [
    "# 2. 입력 데이터 전처리\n",
    "L,W,H = X_train.shape\n",
    "\n",
    "X_train = X_train.reshape(-1, W * H) #-1은 전체를 가리킴. 2차원을 1차원으로 펼침\n",
    "X_test = X_test.reshape(-1, W * H)"
   ]
  },
  {
   "cell_type": "code",
   "execution_count": 7,
   "metadata": {},
   "outputs": [
    {
     "name": "stdout",
     "output_type": "stream",
     "text": [
      "(60000, 784)\n",
      "(10000, 784)\n"
     ]
    }
   ],
   "source": [
    "print(X_train.shape)\n",
    "print(X_test.shape)"
   ]
  },
  {
   "cell_type": "code",
   "execution_count": 8,
   "metadata": {},
   "outputs": [
    {
     "name": "stdout",
     "output_type": "stream",
     "text": [
      "[0.         0.         0.         0.         0.         0.\n",
      " 0.         0.         0.         0.         0.         0.\n",
      " 0.         0.         0.         0.         0.         0.\n",
      " 0.         0.         0.         0.         0.         0.\n",
      " 0.         0.         0.         0.         0.         0.\n",
      " 0.         0.         0.         0.         0.         0.\n",
      " 0.         0.         0.         0.         0.         0.\n",
      " 0.         0.         0.         0.         0.         0.\n",
      " 0.         0.         0.         0.         0.         0.\n",
      " 0.         0.         0.         0.         0.         0.\n",
      " 0.         0.         0.         0.         0.         0.\n",
      " 0.         0.         0.         0.         0.         0.\n",
      " 0.         0.         0.         0.         0.         0.\n",
      " 0.         0.         0.         0.         0.         0.\n",
      " 0.         0.         0.         0.         0.         0.\n",
      " 0.         0.         0.         0.         0.         0.\n",
      " 0.         0.         0.         0.         0.         0.\n",
      " 0.         0.         0.         0.         0.         0.\n",
      " 0.         0.         0.         0.         0.         0.\n",
      " 0.         0.         0.         0.         0.         0.\n",
      " 0.         0.         0.         0.         0.         0.\n",
      " 0.         0.         0.         0.         0.         0.\n",
      " 0.         0.         0.         0.         0.         0.\n",
      " 0.         0.         0.         0.         0.         0.\n",
      " 0.         0.         0.         0.         0.         0.\n",
      " 0.         0.         0.01176471 0.07058824 0.07058824 0.07058824\n",
      " 0.49411765 0.53333333 0.68627451 0.10196078 0.65098039 1.\n",
      " 0.96862745 0.49803922 0.         0.         0.         0.\n",
      " 0.         0.         0.         0.         0.         0.\n",
      " 0.         0.         0.11764706 0.14117647 0.36862745 0.60392157\n",
      " 0.66666667 0.99215686 0.99215686 0.99215686 0.99215686 0.99215686\n",
      " 0.88235294 0.6745098  0.99215686 0.94901961 0.76470588 0.25098039\n",
      " 0.         0.         0.         0.         0.         0.\n",
      " 0.         0.         0.         0.         0.         0.19215686\n",
      " 0.93333333 0.99215686 0.99215686 0.99215686 0.99215686 0.99215686\n",
      " 0.99215686 0.99215686 0.99215686 0.98431373 0.36470588 0.32156863\n",
      " 0.32156863 0.21960784 0.15294118 0.         0.         0.\n",
      " 0.         0.         0.         0.         0.         0.\n",
      " 0.         0.         0.         0.07058824 0.85882353 0.99215686\n",
      " 0.99215686 0.99215686 0.99215686 0.99215686 0.77647059 0.71372549\n",
      " 0.96862745 0.94509804 0.         0.         0.         0.\n",
      " 0.         0.         0.         0.         0.         0.\n",
      " 0.         0.         0.         0.         0.         0.\n",
      " 0.         0.         0.31372549 0.61176471 0.41960784 0.99215686\n",
      " 0.99215686 0.80392157 0.04313725 0.         0.16862745 0.60392157\n",
      " 0.         0.         0.         0.         0.         0.\n",
      " 0.         0.         0.         0.         0.         0.\n",
      " 0.         0.         0.         0.         0.         0.\n",
      " 0.         0.05490196 0.00392157 0.60392157 0.99215686 0.35294118\n",
      " 0.         0.         0.         0.         0.         0.\n",
      " 0.         0.         0.         0.         0.         0.\n",
      " 0.         0.         0.         0.         0.         0.\n",
      " 0.         0.         0.         0.         0.         0.\n",
      " 0.         0.54509804 0.99215686 0.74509804 0.00784314 0.\n",
      " 0.         0.         0.         0.         0.         0.\n",
      " 0.         0.         0.         0.         0.         0.\n",
      " 0.         0.         0.         0.         0.         0.\n",
      " 0.         0.         0.         0.         0.         0.04313725\n",
      " 0.74509804 0.99215686 0.2745098  0.         0.         0.\n",
      " 0.         0.         0.         0.         0.         0.\n",
      " 0.         0.         0.         0.         0.         0.\n",
      " 0.         0.         0.         0.         0.         0.\n",
      " 0.         0.         0.         0.         0.1372549  0.94509804\n",
      " 0.88235294 0.62745098 0.42352941 0.00392157 0.         0.\n",
      " 0.         0.         0.         0.         0.         0.\n",
      " 0.         0.         0.         0.         0.         0.\n",
      " 0.         0.         0.         0.         0.         0.\n",
      " 0.         0.         0.         0.31764706 0.94117647 0.99215686\n",
      " 0.99215686 0.46666667 0.09803922 0.         0.         0.\n",
      " 0.         0.         0.         0.         0.         0.\n",
      " 0.         0.         0.         0.         0.         0.\n",
      " 0.         0.         0.         0.         0.         0.\n",
      " 0.         0.         0.17647059 0.72941176 0.99215686 0.99215686\n",
      " 0.58823529 0.10588235 0.         0.         0.         0.\n",
      " 0.         0.         0.         0.         0.         0.\n",
      " 0.         0.         0.         0.         0.         0.\n",
      " 0.         0.         0.         0.         0.         0.\n",
      " 0.         0.0627451  0.36470588 0.98823529 0.99215686 0.73333333\n",
      " 0.         0.         0.         0.         0.         0.\n",
      " 0.         0.         0.         0.         0.         0.\n",
      " 0.         0.         0.         0.         0.         0.\n",
      " 0.         0.         0.         0.         0.         0.\n",
      " 0.         0.97647059 0.99215686 0.97647059 0.25098039 0.\n",
      " 0.         0.         0.         0.         0.         0.\n",
      " 0.         0.         0.         0.         0.         0.\n",
      " 0.         0.         0.         0.         0.         0.\n",
      " 0.         0.         0.18039216 0.50980392 0.71764706 0.99215686\n",
      " 0.99215686 0.81176471 0.00784314 0.         0.         0.\n",
      " 0.         0.         0.         0.         0.         0.\n",
      " 0.         0.         0.         0.         0.         0.\n",
      " 0.         0.         0.         0.         0.15294118 0.58039216\n",
      " 0.89803922 0.99215686 0.99215686 0.99215686 0.98039216 0.71372549\n",
      " 0.         0.         0.         0.         0.         0.\n",
      " 0.         0.         0.         0.         0.         0.\n",
      " 0.         0.         0.         0.         0.         0.\n",
      " 0.09411765 0.44705882 0.86666667 0.99215686 0.99215686 0.99215686\n",
      " 0.99215686 0.78823529 0.30588235 0.         0.         0.\n",
      " 0.         0.         0.         0.         0.         0.\n",
      " 0.         0.         0.         0.         0.         0.\n",
      " 0.         0.         0.09019608 0.25882353 0.83529412 0.99215686\n",
      " 0.99215686 0.99215686 0.99215686 0.77647059 0.31764706 0.00784314\n",
      " 0.         0.         0.         0.         0.         0.\n",
      " 0.         0.         0.         0.         0.         0.\n",
      " 0.         0.         0.         0.         0.07058824 0.67058824\n",
      " 0.85882353 0.99215686 0.99215686 0.99215686 0.99215686 0.76470588\n",
      " 0.31372549 0.03529412 0.         0.         0.         0.\n",
      " 0.         0.         0.         0.         0.         0.\n",
      " 0.         0.         0.         0.         0.         0.\n",
      " 0.21568627 0.6745098  0.88627451 0.99215686 0.99215686 0.99215686\n",
      " 0.99215686 0.95686275 0.52156863 0.04313725 0.         0.\n",
      " 0.         0.         0.         0.         0.         0.\n",
      " 0.         0.         0.         0.         0.         0.\n",
      " 0.         0.         0.         0.         0.53333333 0.99215686\n",
      " 0.99215686 0.99215686 0.83137255 0.52941176 0.51764706 0.0627451\n",
      " 0.         0.         0.         0.         0.         0.\n",
      " 0.         0.         0.         0.         0.         0.\n",
      " 0.         0.         0.         0.         0.         0.\n",
      " 0.         0.         0.         0.         0.         0.\n",
      " 0.         0.         0.         0.         0.         0.\n",
      " 0.         0.         0.         0.         0.         0.\n",
      " 0.         0.         0.         0.         0.         0.\n",
      " 0.         0.         0.         0.         0.         0.\n",
      " 0.         0.         0.         0.         0.         0.\n",
      " 0.         0.         0.         0.         0.         0.\n",
      " 0.         0.         0.         0.         0.         0.\n",
      " 0.         0.         0.         0.         0.         0.\n",
      " 0.         0.         0.         0.         0.         0.\n",
      " 0.         0.         0.         0.         0.         0.\n",
      " 0.         0.         0.         0.         0.         0.\n",
      " 0.         0.         0.         0.         0.         0.\n",
      " 0.         0.         0.         0.        ]\n"
     ]
    }
   ],
   "source": [
    "X_train = X_train / 255 #스케일링\n",
    "X_test = X_test / 255\n",
    "\n",
    "print(X_train[0])"
   ]
  },
  {
   "cell_type": "code",
   "execution_count": 9,
   "metadata": {},
   "outputs": [
    {
     "name": "stdout",
     "output_type": "stream",
     "text": [
      "3\n",
      "9\n",
      "****************************************\n",
      "[0. 0. 0. 1. 0. 0. 0. 0. 0. 0.]\n",
      "[0. 0. 0. 0. 0. 0. 0. 0. 0. 1.]\n"
     ]
    }
   ],
   "source": [
    "# 3. y 입력 데이터 전처리\n",
    "'''\n",
    "output에서는 총 10개의 카테고리가 있다.\n",
    "각각의 노드에서 이미지에 해당하는 예측값을 0~1 사이의 확률분포로...\n",
    "One Hot Encoding... 가장 수치가 높게 나온 예측한 인덱스값만 1로 만들어주고 나머지는 0으로 만듦.\n",
    "np_util.to_categorical() 함수 사용한다.\n",
    "'''\n",
    "\n",
    "print(y_train[30])\n",
    "print(y_test[9])\n",
    "\n",
    "Y_train = np_utils.to_categorical(y_train)\n",
    "Y_test = np_utils.to_categorical(y_test)\n",
    "#전처리를 하고 나서 변수명에서 맨앞에 대문자를 써주는 경우도 있음.\n",
    "\n",
    "print('*'*40)\n",
    "print(Y_train[30]) \n",
    "print(Y_test[9])"
   ]
  },
  {
   "cell_type": "code",
   "execution_count": 10,
   "metadata": {},
   "outputs": [],
   "source": [
    "# 4. Setting Hyperparameter\n",
    "input_size = W * H\n",
    "hidden_size = 100\n",
    "num_classes = 10\n",
    "epochs = 10\n",
    "batch_size = 100"
   ]
  },
  {
   "cell_type": "code",
   "execution_count": 11,
   "metadata": {},
   "outputs": [],
   "source": [
    "# 5.Model Generator\n",
    "model = models.Sequential()\n",
    "model.add(layers.Dense(hidden_size, activation='relu', input_shape=(input_size,))) #케라스는 인자값 위치 또 다름. 유의\n",
    "model.add(layers.Dense(num_classes, activation='softmax'))"
   ]
  },
  {
   "cell_type": "code",
   "execution_count": 12,
   "metadata": {},
   "outputs": [],
   "source": [
    "# 6. compile\n",
    "model.compile('sgd', 'categorical_crossentropy', metrics=['accuracy'])"
   ]
  },
  {
   "cell_type": "code",
   "execution_count": 13,
   "metadata": {},
   "outputs": [
    {
     "name": "stdout",
     "output_type": "stream",
     "text": [
      "WARNING:tensorflow:From C:\\kyh\\anaconda3\\lib\\site-packages\\keras\\backend\\tensorflow_backend.py:422: The name tf.global_variables is deprecated. Please use tf.compat.v1.global_variables instead.\n",
      "\n",
      "Train on 48000 samples, validate on 12000 samples\n",
      "Epoch 1/10\n",
      "48000/48000 [==============================] - 1s 19us/step - loss: 1.1768 - accuracy: 0.7127 - val_loss: 0.6336 - val_accuracy: 0.8584\n",
      "Epoch 2/10\n",
      "48000/48000 [==============================] - 1s 18us/step - loss: 0.5547 - accuracy: 0.8630 - val_loss: 0.4453 - val_accuracy: 0.8859\n",
      "Epoch 3/10\n",
      "48000/48000 [==============================] - 1s 18us/step - loss: 0.4404 - accuracy: 0.8840 - val_loss: 0.3811 - val_accuracy: 0.9006\n",
      "Epoch 4/10\n",
      "48000/48000 [==============================] - 1s 19us/step - loss: 0.3905 - accuracy: 0.8943 - val_loss: 0.3475 - val_accuracy: 0.9057\n",
      "Epoch 5/10\n",
      "48000/48000 [==============================] - 1s 17us/step - loss: 0.3608 - accuracy: 0.9010 - val_loss: 0.3267 - val_accuracy: 0.9093\n",
      "Epoch 6/10\n",
      "48000/48000 [==============================] - 1s 19us/step - loss: 0.3401 - accuracy: 0.9060 - val_loss: 0.3107 - val_accuracy: 0.9129\n",
      "Epoch 7/10\n",
      "48000/48000 [==============================] - 1s 16us/step - loss: 0.3244 - accuracy: 0.9101 - val_loss: 0.2982 - val_accuracy: 0.9172\n",
      "Epoch 8/10\n",
      "48000/48000 [==============================] - 1s 16us/step - loss: 0.3116 - accuracy: 0.9136 - val_loss: 0.2882 - val_accuracy: 0.9189\n",
      "Epoch 9/10\n",
      "48000/48000 [==============================] - 1s 17us/step - loss: 0.3006 - accuracy: 0.9160 - val_loss: 0.2799 - val_accuracy: 0.9213\n",
      "Epoch 10/10\n",
      "48000/48000 [==============================] - 1s 18us/step - loss: 0.2911 - accuracy: 0.9187 - val_loss: 0.2721 - val_accuracy: 0.9240\n"
     ]
    },
    {
     "data": {
      "text/plain": [
       "<keras.callbacks.callbacks.History at 0x1f913047948>"
      ]
     },
     "execution_count": 13,
     "metadata": {},
     "output_type": "execute_result"
    }
   ],
   "source": [
    "# 7. 학습을 진행... fit()\n",
    "model.fit(X_train, Y_train, epochs=epochs, batch_size=batch_size, validation_split=0.2) #train과 validation 8대 2로..."
   ]
  },
  {
   "cell_type": "code",
   "execution_count": 14,
   "metadata": {},
   "outputs": [
    {
     "name": "stdout",
     "output_type": "stream",
     "text": [
      "10000/10000 [==============================] - 0s 8us/step\n",
      "loss:0.27418051809072497, accuracy:0.9236000180244446\n"
     ]
    }
   ],
   "source": [
    "# 8. 평가하기\n",
    "model_performance=model.evaluate(X_test, Y_test, batch_size=batch_size)\n",
    "print('loss:{}, accuracy:{}'.format(*model_performance))"
   ]
  },
  {
   "cell_type": "code",
   "execution_count": 24,
   "metadata": {},
   "outputs": [],
   "source": [
    "# 9. 시각화\n",
    "# fit, 트레이닝할 때 나오는 로그 메세지들을 다 모아서 리턴,.. history\n",
    "import matplotlib.pyplot as plt\n",
    "\n",
    "def plot_loss(history):\n",
    "    plt.plot(history.history['loss'])\n",
    "    plt.plot(history.history['val_loss'])\n",
    "    plt.title('Model Loss')\n",
    "    plt.ylabel('Loss')\n",
    "    plt.xlabel('Epoch')\n",
    "    \n",
    "    plt.legend(['Training','Validation'])"
   ]
  },
  {
   "cell_type": "code",
   "execution_count": 25,
   "metadata": {},
   "outputs": [],
   "source": [
    "def plot_acc(history):\n",
    "    plt.plot(history.history['accuracy'])\n",
    "    plt.plot(history.history['val_accuracy'])\n",
    "    plt.title('Model Accuracy')\n",
    "    plt.ylabel('Accuracy')\n",
    "    plt.xlabel('Epoch')\n",
    "    \n",
    "    plt.legend(['Training','Validation'])"
   ]
  },
  {
   "cell_type": "code",
   "execution_count": 26,
   "metadata": {},
   "outputs": [
    {
     "name": "stdout",
     "output_type": "stream",
     "text": [
      "Train on 48000 samples, validate on 12000 samples\n",
      "Epoch 1/50\n",
      "48000/48000 [==============================] - 1s 18us/step - loss: 0.0541 - accuracy: 0.9859 - val_loss: 0.0925 - val_accuracy: 0.9728\n",
      "Epoch 2/50\n",
      "48000/48000 [==============================] - 1s 19us/step - loss: 0.0537 - accuracy: 0.9865 - val_loss: 0.0929 - val_accuracy: 0.9722\n",
      "Epoch 3/50\n",
      "48000/48000 [==============================] - 1s 17us/step - loss: 0.0535 - accuracy: 0.9866 - val_loss: 0.0924 - val_accuracy: 0.9728\n",
      "Epoch 4/50\n",
      "48000/48000 [==============================] - 1s 17us/step - loss: 0.0531 - accuracy: 0.9866 - val_loss: 0.0921 - val_accuracy: 0.9727\n",
      "Epoch 5/50\n",
      "48000/48000 [==============================] - 1s 17us/step - loss: 0.0528 - accuracy: 0.9866 - val_loss: 0.0920 - val_accuracy: 0.9727\n",
      "Epoch 6/50\n",
      "48000/48000 [==============================] - 1s 17us/step - loss: 0.0525 - accuracy: 0.9869 - val_loss: 0.0919 - val_accuracy: 0.9722\n",
      "Epoch 7/50\n",
      "48000/48000 [==============================] - 1s 17us/step - loss: 0.0521 - accuracy: 0.9870 - val_loss: 0.0919 - val_accuracy: 0.9725\n",
      "Epoch 8/50\n",
      "48000/48000 [==============================] - 1s 18us/step - loss: 0.0518 - accuracy: 0.9870 - val_loss: 0.0917 - val_accuracy: 0.9722\n",
      "Epoch 9/50\n",
      "48000/48000 [==============================] - 1s 18us/step - loss: 0.0515 - accuracy: 0.9871 - val_loss: 0.0915 - val_accuracy: 0.9732\n",
      "Epoch 10/50\n",
      "48000/48000 [==============================] - 1s 18us/step - loss: 0.0511 - accuracy: 0.9874 - val_loss: 0.0912 - val_accuracy: 0.9731\n",
      "Epoch 11/50\n",
      "48000/48000 [==============================] - 1s 17us/step - loss: 0.0509 - accuracy: 0.9874 - val_loss: 0.0910 - val_accuracy: 0.9728\n",
      "Epoch 12/50\n",
      "48000/48000 [==============================] - 1s 17us/step - loss: 0.0505 - accuracy: 0.9872 - val_loss: 0.0908 - val_accuracy: 0.9728\n",
      "Epoch 13/50\n",
      "48000/48000 [==============================] - 1s 18us/step - loss: 0.0503 - accuracy: 0.9877 - val_loss: 0.0907 - val_accuracy: 0.9728\n",
      "Epoch 14/50\n",
      "48000/48000 [==============================] - 1s 18us/step - loss: 0.0500 - accuracy: 0.9876 - val_loss: 0.0905 - val_accuracy: 0.9736\n",
      "Epoch 15/50\n",
      "48000/48000 [==============================] - 1s 22us/step - loss: 0.0497 - accuracy: 0.9877 - val_loss: 0.0905 - val_accuracy: 0.9737\n",
      "Epoch 16/50\n",
      "48000/48000 [==============================] - 1s 17us/step - loss: 0.0494 - accuracy: 0.9877 - val_loss: 0.0905 - val_accuracy: 0.9735\n",
      "Epoch 17/50\n",
      "48000/48000 [==============================] - 1s 17us/step - loss: 0.0490 - accuracy: 0.9878 - val_loss: 0.0903 - val_accuracy: 0.9735\n",
      "Epoch 18/50\n",
      "48000/48000 [==============================] - 1s 16us/step - loss: 0.0487 - accuracy: 0.9883 - val_loss: 0.0905 - val_accuracy: 0.9736\n",
      "Epoch 19/50\n",
      "48000/48000 [==============================] - 1s 17us/step - loss: 0.0484 - accuracy: 0.9880 - val_loss: 0.0901 - val_accuracy: 0.9732\n",
      "Epoch 20/50\n",
      "48000/48000 [==============================] - 1s 17us/step - loss: 0.0482 - accuracy: 0.9883 - val_loss: 0.0896 - val_accuracy: 0.9737\n",
      "Epoch 21/50\n",
      "48000/48000 [==============================] - 1s 18us/step - loss: 0.0479 - accuracy: 0.9881 - val_loss: 0.0898 - val_accuracy: 0.9729\n",
      "Epoch 22/50\n",
      "48000/48000 [==============================] - 1s 17us/step - loss: 0.0476 - accuracy: 0.9884 - val_loss: 0.0895 - val_accuracy: 0.9740\n",
      "Epoch 23/50\n",
      "48000/48000 [==============================] - 1s 17us/step - loss: 0.0473 - accuracy: 0.9886 - val_loss: 0.0898 - val_accuracy: 0.9732\n",
      "Epoch 24/50\n",
      "48000/48000 [==============================] - 1s 17us/step - loss: 0.0471 - accuracy: 0.9886 - val_loss: 0.0894 - val_accuracy: 0.9737\n",
      "Epoch 25/50\n",
      "48000/48000 [==============================] - 1s 17us/step - loss: 0.0468 - accuracy: 0.9884 - val_loss: 0.0893 - val_accuracy: 0.9737\n",
      "Epoch 26/50\n",
      "48000/48000 [==============================] - 1s 17us/step - loss: 0.0464 - accuracy: 0.9889 - val_loss: 0.0900 - val_accuracy: 0.9737\n",
      "Epoch 27/50\n",
      "48000/48000 [==============================] - 1s 17us/step - loss: 0.0462 - accuracy: 0.9888 - val_loss: 0.0893 - val_accuracy: 0.9736\n",
      "Epoch 28/50\n",
      "48000/48000 [==============================] - 1s 18us/step - loss: 0.0460 - accuracy: 0.9890 - val_loss: 0.0890 - val_accuracy: 0.9741\n",
      "Epoch 29/50\n",
      "48000/48000 [==============================] - 1s 17us/step - loss: 0.0457 - accuracy: 0.9889 - val_loss: 0.0889 - val_accuracy: 0.9737\n",
      "Epoch 30/50\n",
      "48000/48000 [==============================] - 1s 16us/step - loss: 0.0454 - accuracy: 0.9890 - val_loss: 0.0892 - val_accuracy: 0.9732\n",
      "Epoch 31/50\n",
      "48000/48000 [==============================] - 1s 18us/step - loss: 0.0452 - accuracy: 0.9889 - val_loss: 0.0886 - val_accuracy: 0.9737\n",
      "Epoch 32/50\n",
      "48000/48000 [==============================] - 1s 17us/step - loss: 0.0449 - accuracy: 0.9891 - val_loss: 0.0888 - val_accuracy: 0.9734\n",
      "Epoch 33/50\n",
      "48000/48000 [==============================] - 1s 19us/step - loss: 0.0446 - accuracy: 0.9891 - val_loss: 0.0887 - val_accuracy: 0.9740\n",
      "Epoch 34/50\n",
      "48000/48000 [==============================] - 1s 20us/step - loss: 0.0444 - accuracy: 0.9892 - val_loss: 0.0882 - val_accuracy: 0.9742\n",
      "Epoch 35/50\n",
      "48000/48000 [==============================] - 1s 20us/step - loss: 0.0442 - accuracy: 0.9895 - val_loss: 0.0884 - val_accuracy: 0.9736\n",
      "Epoch 36/50\n",
      "48000/48000 [==============================] - 1s 18us/step - loss: 0.0439 - accuracy: 0.9893 - val_loss: 0.0883 - val_accuracy: 0.9740\n",
      "Epoch 37/50\n",
      "48000/48000 [==============================] - 1s 18us/step - loss: 0.0436 - accuracy: 0.9897 - val_loss: 0.0882 - val_accuracy: 0.9743\n",
      "Epoch 38/50\n",
      "48000/48000 [==============================] - 1s 18us/step - loss: 0.0434 - accuracy: 0.9899 - val_loss: 0.0886 - val_accuracy: 0.9738\n",
      "Epoch 39/50\n",
      "48000/48000 [==============================] - 1s 18us/step - loss: 0.0432 - accuracy: 0.9896 - val_loss: 0.0880 - val_accuracy: 0.9740\n",
      "Epoch 40/50\n",
      "48000/48000 [==============================] - 1s 19us/step - loss: 0.0429 - accuracy: 0.9899 - val_loss: 0.0880 - val_accuracy: 0.9736\n",
      "Epoch 41/50\n",
      "48000/48000 [==============================] - 1s 19us/step - loss: 0.0426 - accuracy: 0.9901 - val_loss: 0.0878 - val_accuracy: 0.9738\n",
      "Epoch 42/50\n",
      "48000/48000 [==============================] - 1s 18us/step - loss: 0.0425 - accuracy: 0.9900 - val_loss: 0.0877 - val_accuracy: 0.9743\n",
      "Epoch 43/50\n",
      "48000/48000 [==============================] - 1s 18us/step - loss: 0.0423 - accuracy: 0.9899 - val_loss: 0.0875 - val_accuracy: 0.9739\n",
      "Epoch 44/50\n",
      "48000/48000 [==============================] - 1s 18us/step - loss: 0.0420 - accuracy: 0.9901 - val_loss: 0.0881 - val_accuracy: 0.9740\n",
      "Epoch 45/50\n",
      "48000/48000 [==============================] - 1s 18us/step - loss: 0.0417 - accuracy: 0.9902 - val_loss: 0.0880 - val_accuracy: 0.9737\n",
      "Epoch 46/50\n",
      "48000/48000 [==============================] - 1s 18us/step - loss: 0.0416 - accuracy: 0.9904 - val_loss: 0.0873 - val_accuracy: 0.9742\n",
      "Epoch 47/50\n",
      "48000/48000 [==============================] - 1s 20us/step - loss: 0.0413 - accuracy: 0.9903 - val_loss: 0.0875 - val_accuracy: 0.9740\n",
      "Epoch 48/50\n",
      "48000/48000 [==============================] - 1s 17us/step - loss: 0.0411 - accuracy: 0.9905 - val_loss: 0.0871 - val_accuracy: 0.9743\n",
      "Epoch 49/50\n",
      "48000/48000 [==============================] - 1s 19us/step - loss: 0.0408 - accuracy: 0.9905 - val_loss: 0.0873 - val_accuracy: 0.9736\n",
      "Epoch 50/50\n",
      "48000/48000 [==============================] - 1s 18us/step - loss: 0.0407 - accuracy: 0.9904 - val_loss: 0.0871 - val_accuracy: 0.9743\n"
     ]
    }
   ],
   "source": [
    "history = model.fit(X_train, Y_train, epochs=50, batch_size=batch_size, validation_split=0.2)"
   ]
  },
  {
   "cell_type": "code",
   "execution_count": 27,
   "metadata": {},
   "outputs": [
    {
     "data": {
      "image/png": "[encoded data removed]",
      "text/plain": [
       "<Figure size 432x288 with 1 Axes>"
      ]
     },
     "metadata": {
      "needs_background": "light"
     },
     "output_type": "display_data"
    }
   ],
   "source": [
    "plot_loss(history)"
   ]
  },
  {
   "cell_type": "code",
   "execution_count": 28,
   "metadata": {},
   "outputs": [
    {
     "data": {
      "image/png": "[encoded data removed]",
      "text/plain": [
       "<Figure size 432x288 with 1 Axes>"
      ]
     },
     "metadata": {
      "needs_background": "light"
     },
     "output_type": "display_data"
    }
   ],
   "source": [
    "plot_acc(history)"
   ]
  }
 ],
 "metadata": {
  "kernelspec": {
   "display_name": "Python 3",
   "language": "python",
   "name": "python3"
  },
  "language_info": {
   "codemirror_mode": {
    "name": "ipython",
    "version": 3
   },
   "file_extension": ".py",
   "mimetype": "text/x-python",
   "name": "python",
   "nbconvert_exporter": "python",
   "pygments_lexer": "ipython3",
   "version": "3.7.7"
  }
 },
 "nbformat": 4,
 "nbformat_minor": 4
}
