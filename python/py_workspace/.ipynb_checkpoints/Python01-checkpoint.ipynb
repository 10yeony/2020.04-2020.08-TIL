{
 "cells": [
  {
   "cell_type": "markdown",
   "metadata": {},
   "source": [
    "## 변수와 데이터 타입\n",
    "#### 파이썬에서의 데이터 타입들"
   ]
  },
  {
   "cell_type": "code",
   "execution_count": 1,
   "metadata": {},
   "outputs": [
    {
     "data": {
      "text/plain": [
       "'\\n파이썬에서의 데이터 타입\\nint - 정수\\nfloat - 실수\\nboole - False, True\\nstr - 문자열\\nlist - 순서가 있는 값들의 집합\\ntuple - 순서가 있는 값들의 집합... 변경불가\\nset - 순서는 없고 중복이 안 되는 값들의 집합\\ndictionary - 키와 값으로 데이터를 저장\\n'"
      ]
     },
     "execution_count": 1,
     "metadata": {},
     "output_type": "execute_result"
    }
   ],
   "source": [
    "'''\n",
    "파이썬에서의 데이터 타입\n",
    "int - 정수\n",
    "float - 실수\n",
    "boole - False, True\n",
    "str - 문자열\n",
    "list - 순서가 있는 값들의 집합\n",
    "tuple - 순서가 있는 값들의 집합... 변경불가\n",
    "set - 순서는 없고 중복이 안 되는 값들의 집합\n",
    "dictionary - 키와 값으로 데이터를 저장\n",
    "'''"
   ]
  },
  {
   "cell_type": "code",
   "execution_count": 2,
   "metadata": {},
   "outputs": [
    {
     "name": "stdout",
     "output_type": "stream",
     "text": [
      "Hello Python\n"
     ]
    }
   ],
   "source": [
    "str = \"Hello Python\"\n",
    "print(str)\n",
    "# str"
   ]
  },
  {
   "cell_type": "code",
   "execution_count": 3,
   "metadata": {},
   "outputs": [
    {
     "name": "stdout",
     "output_type": "stream",
     "text": [
      "3\n",
      "3.5\n",
      "Hello\n",
      "**************************************************\n",
      "<class 'int'>\n",
      "<class 'float'>\n",
      "<class 'str'>\n"
     ]
    }
   ],
   "source": [
    "a=3\n",
    "b=3.5\n",
    "c='Hello'\n",
    "print(a)\n",
    "print(b)\n",
    "print(c)\n",
    "print('*'*50) #*이 50번 찍힘\n",
    "print(type(a))\n",
    "print(type(b))\n",
    "print(type(c))"
   ]
  },
  {
   "cell_type": "code",
   "execution_count": 4,
   "metadata": {},
   "outputs": [
    {
     "name": "stdout",
     "output_type": "stream",
     "text": [
      "당신의 나이를 입력하세요11\n",
      "나이 11\n",
      "<class 'str'>\n"
     ]
    }
   ],
   "source": [
    "'''\n",
    "input() 을 통해서 값을 입력받아보자...\n",
    "값을 입력받는 박스\n",
    "'''\n",
    "data = input('당신의 나이를 입력하세요')\n",
    "print('나이', data)\n",
    "print(type(data))"
   ]
  },
  {
   "cell_type": "code",
   "execution_count": 5,
   "metadata": {},
   "outputs": [
    {
     "name": "stdout",
     "output_type": "stream",
     "text": [
      "True\n",
      "False\n"
     ]
    }
   ],
   "source": [
    "d = 3\n",
    "e = 3.0\n",
    "print(d==e) #같음\n",
    "print(type(d)==type(e)) #다름"
   ]
  },
  {
   "cell_type": "markdown",
   "metadata": {},
   "source": [
    "## 연산자와 포메팅"
   ]
  },
  {
   "cell_type": "code",
   "execution_count": 6,
   "metadata": {},
   "outputs": [
    {
     "name": "stdout",
     "output_type": "stream",
     "text": [
      "1.6666666666666667\n",
      "1\n",
      "2\n"
     ]
    },
    {
     "data": {
      "text/plain": [
       "2"
      ]
     },
     "execution_count": 6,
     "metadata": {},
     "output_type": "execute_result"
    }
   ],
   "source": [
    "num1 = 5\n",
    "num2 = 3\n",
    "print(num1/num2) #결과가 float로 반환\n",
    "print(num1//num2) # num1을 num2로 나눈 몫을 구함... int\n",
    "remain = num1%num2 #modulus를 쓰면 int로 반환. 나머지...\n",
    "print(remain)\n",
    "remain # 자동완성은 tab으로 한다"
   ]
  },
  {
   "cell_type": "code",
   "execution_count": 7,
   "metadata": {},
   "outputs": [
    {
     "data": {
      "text/plain": [
       "['__abs__',\n",
       " '__add__',\n",
       " '__and__',\n",
       " '__bool__',\n",
       " '__ceil__',\n",
       " '__class__',\n",
       " '__delattr__',\n",
       " '__dir__',\n",
       " '__divmod__',\n",
       " '__doc__',\n",
       " '__eq__',\n",
       " '__float__',\n",
       " '__floor__',\n",
       " '__floordiv__',\n",
       " '__format__',\n",
       " '__ge__',\n",
       " '__getattribute__',\n",
       " '__getnewargs__',\n",
       " '__gt__',\n",
       " '__hash__',\n",
       " '__index__',\n",
       " '__init__',\n",
       " '__init_subclass__',\n",
       " '__int__',\n",
       " '__invert__',\n",
       " '__le__',\n",
       " '__lshift__',\n",
       " '__lt__',\n",
       " '__mod__',\n",
       " '__mul__',\n",
       " '__ne__',\n",
       " '__neg__',\n",
       " '__new__',\n",
       " '__or__',\n",
       " '__pos__',\n",
       " '__pow__',\n",
       " '__radd__',\n",
       " '__rand__',\n",
       " '__rdivmod__',\n",
       " '__reduce__',\n",
       " '__reduce_ex__',\n",
       " '__repr__',\n",
       " '__rfloordiv__',\n",
       " '__rlshift__',\n",
       " '__rmod__',\n",
       " '__rmul__',\n",
       " '__ror__',\n",
       " '__round__',\n",
       " '__rpow__',\n",
       " '__rrshift__',\n",
       " '__rshift__',\n",
       " '__rsub__',\n",
       " '__rtruediv__',\n",
       " '__rxor__',\n",
       " '__setattr__',\n",
       " '__sizeof__',\n",
       " '__str__',\n",
       " '__sub__',\n",
       " '__subclasshook__',\n",
       " '__truediv__',\n",
       " '__trunc__',\n",
       " '__xor__',\n",
       " 'bit_length',\n",
       " 'conjugate',\n",
       " 'denominator',\n",
       " 'from_bytes',\n",
       " 'imag',\n",
       " 'numerator',\n",
       " 'real',\n",
       " 'to_bytes']"
      ]
     },
     "execution_count": 7,
     "metadata": {},
     "output_type": "execute_result"
    }
   ],
   "source": [
    "'''\n",
    "다른 셀에서 작성했지만 위의 셀에서의 변수들도 메모리에 올라갔으므로 당연히 여기서도 쓸 수 있다.\n",
    "\n",
    "파이썬의 모든 변수는 객체이다.\n",
    "그렇기 때문에 당연히 속성과 메소드가 있다.\n",
    "이 중에서 타입을 변경하는 함수...\n",
    "'''\n",
    "\n",
    "dir(num1) \n",
    "#dir은 num1이 가지고 있는 속성을 다 뽑아냄. \n",
    "#자바에서는 이런 속성들은 객체만 가지고 있음. 근데 파이썬에서는 변수에 속성들이 이렇게 많음.\n",
    "\n",
    "#출력을 감추려면 out을 더블클릭하면 됨."
   ]
  },
  {
   "cell_type": "code",
   "execution_count": 14,
   "metadata": {},
   "outputs": [
    {
     "data": {
      "text/plain": [
       "111"
      ]
     },
     "execution_count": 14,
     "metadata": {},
     "output_type": "execute_result"
    }
   ],
   "source": [
    "### 형변환 함수\n",
    "# 굉장히 많이 씀. 특히 데이터 변환할 때! 그 중에서도 list\n",
    "'''\n",
    "int()\n",
    "float()\n",
    "str()\n",
    "list()\n",
    "tuple()\n",
    "'''\n",
    "int(True) #1\n",
    "int(False) #0\n",
    "int(e) #3\n",
    "float(a) #3.0\n",
    "round(44.78)\n",
    "int('111')\n"
   ]
  },
  {
   "cell_type": "code",
   "execution_count": 15,
   "metadata": {},
   "outputs": [
    {
     "name": "stdout",
     "output_type": "stream",
     "text": [
      "James 의 나이는  55 살 입니다\n"
     ]
    }
   ],
   "source": [
    "name='James'\n",
    "age=55\n",
    "print(name, '의 나이는 ', age, '살 입니다')"
   ]
  },
  {
   "cell_type": "code",
   "execution_count": 18,
   "metadata": {},
   "outputs": [
    {
     "name": "stdout",
     "output_type": "stream",
     "text": [
      "정수입력2\n",
      "<class 'str'>\n",
      "<class 'int'>\n"
     ]
    }
   ],
   "source": [
    "num3 = input('정수입력')\n",
    "print(type(num3)) #str. 타입 찍으면 문자열 나옴\n",
    "num4 = int(num3)\n",
    "print(type(num4)) #int"
   ]
  },
  {
   "cell_type": "markdown",
   "metadata": {},
   "source": [
    "### 문제1. "
   ]
  },
  {
   "cell_type": "code",
   "execution_count": 39,
   "metadata": {},
   "outputs": [
    {
     "name": "stdout",
     "output_type": "stream",
     "text": [
      "초를 입력하세요\n",
      "3700\n",
      "3700 은/는  1 시간  1 분  40 초 입니다....\n",
      "3700은/는 1시간 1분 40초입니다\n"
     ]
    }
   ],
   "source": [
    "# 키보드로부터 초를 입력받아 다음과 같이 출력합니다... ex) 3700\n",
    "# 3700초는 1시간 1분 40초 입니다....\n",
    "\n",
    "secondInput = input('초를 입력하세요\\n')\n",
    "second = int(secondInput)\n",
    "hour = second // 3600\n",
    "minute = second % 3600 // 60\n",
    "second = second % 60\n",
    "print(secondInput, '은/는 ', hour, '시간 ', minute, '분 ', second, '초 입니다....')\n",
    "\n",
    "#포멧팅을 사용해서 동일한 결과를 출력하세요.\n",
    "print('%s은/는 %d시간 %d분 %d초입니다' %(secondInput, hour, minute, second))"
   ]
  },
  {
   "cell_type": "code",
   "execution_count": 23,
   "metadata": {},
   "outputs": [
    {
     "name": "stdout",
     "output_type": "stream",
     "text": [
      "True\n",
      "False\n",
      "1652077642832\n",
      "1652077642864\n"
     ]
    }
   ],
   "source": [
    "# 옆에 In [*] 되면 돌고 있다는 뜻. 주로 위에 input 값 안 넣고 돌리려고 할 때 뜬다\n",
    "\n",
    "'''\n",
    "Immutable 불변, 변경안됨(단어 알아야 함)\n",
    "\n",
    "Immutable 타입으로는 \n",
    "Tuple, 숫자(int, float), str \n",
    "(하나 만들면 변경이 안 되고 다른 게 계속 만들어짐)\n",
    "'''\n",
    "\n",
    "a = 257\n",
    "b = 257\n",
    "\n",
    "print(a==b) #True\n",
    "print(a is b) #False\n",
    "print(id(a))\n",
    "print(id(b))\n",
    "\n",
    "# 자바의 주소값처럼 파이썬에 아이디값이 있는데\n",
    "# 변수끼리 같은 값을 가지더라도 서로 아이디값은 다르다"
   ]
  },
  {
   "cell_type": "code",
   "execution_count": 25,
   "metadata": {},
   "outputs": [
    {
     "name": "stdout",
     "output_type": "stream",
     "text": [
      "True\n",
      "True\n",
      "140704420248176\n",
      "140704420248176\n"
     ]
    }
   ],
   "source": [
    "'''\n",
    "인공지능에서 모든 이미지의 픽셀값은 0~255까지임.\n",
    "256은 중요한 숫자.\n",
    "\n",
    "-5~256 이 범위 안에 있는 값을 가장 많이 쓰는 값.\n",
    "-> 따라서 메모리를 효율적으로 활용하기 위해서 \n",
    "-> 이 범위에 있는 값은 한번 객체를 만들고 나서는 다시 만들지 않는다.,.(immutable의 원리가 깨짐)\n",
    "-> 효율적으로 관리되는 기술이다.\n",
    "'''\n",
    "\n",
    "a = 200\n",
    "b = 200\n",
    "\n",
    "print(a==b) #True\n",
    "print(a is b) #False가 아닌 True...\n",
    "print(id(a))\n",
    "print(id(b))"
   ]
  },
  {
   "cell_type": "code",
   "execution_count": 29,
   "metadata": {},
   "outputs": [
    {
     "name": "stdout",
     "output_type": "stream",
     "text": [
      "hello\n",
      "hello\n",
      "\n",
      "           This is\n",
      "           MyStr3 Test\n",
      "                   hello...\n",
      "         \n"
     ]
    }
   ],
   "source": [
    "# 문자열.... literal... 작은 따옴표(') 또는 큰 따옴표(\")로 둘러싸서 만들 수 있다.\n",
    "# 문자열을 여러줄로 만들어줄 경우... 그 때도 사용한다.\n",
    "myStr1 = 'hello'\n",
    "myStr2 = \"hello\"\n",
    "myStr3 = '''\n",
    "           This is\n",
    "           MyStr3 Test\n",
    "                   hello...\n",
    "         '''\n",
    "print(myStr1)\n",
    "print(myStr2)\n",
    "print(myStr3)"
   ]
  },
  {
   "cell_type": "code",
   "execution_count": 36,
   "metadata": {},
   "outputs": [
    {
     "name": "stdout",
     "output_type": "stream",
     "text": [
      "손흥민의 나이는 28 살, 이변 경기 평점은 9.57 입니다.\n",
      "오늘은 2020년 7월 6일 입니다.\n"
     ]
    }
   ],
   "source": [
    "# formating\n",
    "# 1. \n",
    "name='손흥민'\n",
    "age=28\n",
    "grade=9.567\n",
    "print('%s의 나이는 %d 살, 이변 경기 평점은 %0.2f 입니다.' %(name, age, grade))\n",
    "#문자열은 %s, 정수는 %d, 실수는 %f, 소수 두자리까지는 %0.2f\n",
    "\n",
    "#2.\n",
    "import time\n",
    "now = time.localtime()\n",
    "print('오늘은 %d년 %d월 %d일 입니다.' %(now.tm_year, now.tm_mon, now.tm_mday))"
   ]
  }
 ],
 "metadata": {
  "kernelspec": {
   "display_name": "Python 3",
   "language": "python",
   "name": "python3"
  },
  "language_info": {
   "codemirror_mode": {
    "name": "ipython",
    "version": 3
   },
   "file_extension": ".py",
   "mimetype": "text/x-python",
   "name": "python",
   "nbconvert_exporter": "python",
   "pygments_lexer": "ipython3",
   "version": "3.7.6"
  }
 },
 "nbformat": 4,
 "nbformat_minor": 4
}
