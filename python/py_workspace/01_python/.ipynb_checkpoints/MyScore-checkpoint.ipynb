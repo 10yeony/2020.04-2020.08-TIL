{
 "cells": [
  {
   "cell_type": "code",
   "execution_count": null,
   "metadata": {},
   "outputs": [],
   "source": [
    "'''\n",
    "MyScore 는 5개의 함수를 가지고 있는 모듈\n",
    "모듈은 반드시 확장자가 py로 끝나야 한다.\n",
    "'''"
   ]
  },
  {
   "cell_type": "code",
   "execution_count": 1,
   "metadata": {},
   "outputs": [],
   "source": [
    "def getSum(data):\n",
    "    total = 0\n",
    "    for d in data:\n",
    "        total += d\n",
    "    return total\n",
    "\n",
    "def getMean(data):\n",
    "    return getSum(data)/len(data)\n",
    "    \n",
    "def getMax(data):\n",
    "    maxNum = data[0]\n",
    "    for d in data[1:]: #data[0]은 비교할 필요 없음\n",
    "        if maxNum < d:\n",
    "            maxNum = d\n",
    "    return maxNum\n",
    "    \n",
    "def getMin(data):\n",
    "    minNum = int(data[0])\n",
    "    for d in data[1:]:\n",
    "        if minNum > d:\n",
    "            minNum = d\n",
    "    return minNum\n",
    "    \n",
    "    \n",
    "def getTwoSum(num2, num1=1): #num1이 더 큰 값이 왔을 때...\n",
    "    total = 0\n",
    "    if num1 > num2:\n",
    "        num1 ,num2 = num2, num1 #두 수를 스왑시킴\n",
    "    for i in range(num1, num2+1):\n",
    "        total += i\n",
    "    return total"
   ]
  }
 ],
 "metadata": {
  "kernelspec": {
   "display_name": "Python 3",
   "language": "python",
   "name": "python3"
  },
  "language_info": {
   "codemirror_mode": {
    "name": "ipython",
    "version": 3
   },
   "file_extension": ".py",
   "mimetype": "text/x-python",
   "name": "python",
   "nbconvert_exporter": "python",
   "pygments_lexer": "ipython3",
   "version": "3.7.6"
  }
 },
 "nbformat": 4,
 "nbformat_minor": 4
}
