{
 "cells": [
  {
   "cell_type": "markdown",
   "metadata": {},
   "source": [
    "# 1. 자료형\n",
    "## Background\n",
    "- 데이터 타입\n",
    "- 제어문\n",
    "\n",
    "## Problem\n",
    "### 1. myList = `[[1,2,3],[4,5,6],[7,8]]`에 9를 추가하여 `[[1,2,3],[4,5,6],[7,8,9]]`가 되도록 구현해보세요\n",
    "- append와 insert 두가지 방법으로 풀어보세요"
   ]
  },
  {
   "cell_type": "code",
   "execution_count": 1,
   "metadata": {},
   "outputs": [
    {
     "name": "stdout",
     "output_type": "stream",
     "text": [
      "[[1, 2, 3], [4, 5, 6], [7, 8, 9]]\n",
      "[[1, 2, 3], [4, 5, 6], [7, 8, 9]]\n"
     ]
    }
   ],
   "source": [
    "#1. append\n",
    "myList = [[1,2,3],[4,5,6],[7,8]]\n",
    "myList[2].append(9)\n",
    "print(myList)\n",
    "\n",
    "#2. insert\n",
    "myList = [[1,2,3],[4,5,6],[7,8]]\n",
    "myList[2].insert(len(myList), 9)\n",
    "print(myList)"
   ]
  },
  {
   "cell_type": "markdown",
   "metadata": {},
   "source": [
    "### 2. Dictionary를 활용해서 학생들의 이름과 점수를 key와 value로 입력하고 추가, 삭제, 업데이트를 진행해보세요.\n",
    "1. score라는 dictionary에 하준 90점, 서윤 86점, 지아 80점을 입력하세요.\n",
    "2. score에 수지 95점을 추가하세요.\n",
    "3. score에서 지아를 삭제하세요.\n",
    "4. score에 기창 98점, 남철 60점, 기성 75점을 <u>한번에</u> 추가해보세요"
   ]
  },
  {
   "cell_type": "code",
   "execution_count": 8,
   "metadata": {},
   "outputs": [
    {
     "name": "stdout",
     "output_type": "stream",
     "text": [
      "{'하준': 90, '서윤': 86, '수지': 95, '기창': 98, '남철': 60, '기성': 75}\n"
     ]
    }
   ],
   "source": [
    "score = {'하준':90, '서윤':86, '지아':80}\n",
    "score.update({'수지':95})\n",
    "del score['지아']\n",
    "score.update({'기창':98,'남철':60,'기성':75})\n",
    "print(score)"
   ]
  },
  {
   "cell_type": "markdown",
   "metadata": {},
   "source": [
    "### 3. 다음 리스트에서 중복된 항목을 없애보세요.\n",
    "```python\n",
    "myList = [1,3,2,3,7,6,8,4,10,5,3,8,9]```"
   ]
  },
  {
   "cell_type": "code",
   "execution_count": 11,
   "metadata": {},
   "outputs": [
    {
     "data": {
      "text/plain": [
       "[1, 2, 3, 4, 5, 6, 7, 8, 9, 10]"
      ]
     },
     "execution_count": 11,
     "metadata": {},
     "output_type": "execute_result"
    }
   ],
   "source": [
    "myList = [1,3,2,3,7,6,8,4,10,5,3,8,9]\n",
    "list(set(myList))"
   ]
  },
  {
   "cell_type": "markdown",
   "metadata": {},
   "source": [
    "### 4. 다음의 세 문장에서 중복으로 사용된 알파벳만 출력해보세요.(대소문자 구분)\n",
    "- \"Hello python\"\n",
    "- \"Funny programming\"\n",
    "- \"Happy newyear\""
   ]
  },
  {
   "cell_type": "code",
   "execution_count": 49,
   "metadata": {},
   "outputs": [
    {
     "name": "stdout",
     "output_type": "stream",
     "text": [
      "['p', 'n', 'y']\n"
     ]
    }
   ],
   "source": [
    "sentence1 = \"Hello python\"\n",
    "sentence2 = \"Funny programming\"\n",
    "sentence3 = \"Happy newyear\"\n",
    "\n",
    "overlap = []\n",
    "\n",
    "\n",
    "for i in sentence1:\n",
    "    for j in sentence2:\n",
    "        for k in sentence3:\n",
    "            if(i==j and j==k):\n",
    "                overlap.append(i)\n",
    "                \n",
    "overlap = list(set(overlap))\n",
    "overlap.remove(\" \")\n",
    "print(overlap)"
   ]
  },
  {
   "cell_type": "markdown",
   "metadata": {},
   "source": [
    "### 5. 다음과 같은 규칙을 가진 숫자의 합을 for문을 사용해서 구현하세요.\n",
    "- 1 + (1 + 3) + (1 + 3 + 5) + (1 + 3 + 5 + 7) + ... + (1 + 3 + ... + 19)"
   ]
  },
  {
   "cell_type": "code",
   "execution_count": 25,
   "metadata": {},
   "outputs": [
    {
     "name": "stdout",
     "output_type": "stream",
     "text": [
      "+ 1 = 1\n",
      "+ 1 + 3 = 5\n",
      "+ 1 + 3 + 5 = 14\n",
      "+ 1 + 3 + 5 + 7 = 30\n",
      "+ 1 + 3 + 5 + 7 + 9 = 55\n",
      "+ 1 + 3 + 5 + 7 + 9 + 11 = 91\n",
      "+ 1 + 3 + 5 + 7 + 9 + 11 + 13 = 140\n",
      "+ 1 + 3 + 5 + 7 + 9 + 11 + 13 + 15 = 204\n",
      "+ 1 + 3 + 5 + 7 + 9 + 11 + 13 + 15 + 17 = 285\n",
      "+ 1 + 3 + 5 + 7 + 9 + 11 + 13 + 15 + 17 + 19 = 385\n",
      "총합 :  385\n"
     ]
    }
   ],
   "source": [
    "total = 0\n",
    "for i in range(2, 12):\n",
    "    for j in range(1, i):\n",
    "        total += 2*j-1\n",
    "        print('+', 2*j-1, '', end='')\n",
    "    print('=',total)\n",
    "print('총합 : ', total)"
   ]
  }
 ],
 "metadata": {
  "kernelspec": {
   "display_name": "Python 3",
   "language": "python",
   "name": "python3"
  },
  "language_info": {
   "codemirror_mode": {
    "name": "ipython",
    "version": 3
   },
   "file_extension": ".py",
   "mimetype": "text/x-python",
   "name": "python",
   "nbconvert_exporter": "python",
   "pygments_lexer": "ipython3",
   "version": "3.7.6"
  }
 },
 "nbformat": 4,
 "nbformat_minor": 2
}
