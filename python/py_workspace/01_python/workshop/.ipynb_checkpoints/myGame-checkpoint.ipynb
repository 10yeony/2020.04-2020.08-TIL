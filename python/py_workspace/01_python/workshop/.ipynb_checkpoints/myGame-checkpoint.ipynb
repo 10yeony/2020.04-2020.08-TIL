{
 "cells": [
  {
   "cell_type": "code",
   "execution_count": null,
   "metadata": {},
   "outputs": [],
   "source": [
    "import random\n",
    "\n",
    "def makeLotto(num):\n",
    "    for i in range(num):\n",
    "        lottoList = []\n",
    "        for j in range(6):\n",
    "            lottoList.append(random.randrange(1,46))\n",
    "        print('게임', i+1, lottoList)\n",
    "\n",
    "def meanGrade(grade):\n",
    "    total = 0;\n",
    "    for i in range(len(grade)):\n",
    "        if grade[i]=='A+':\n",
    "            total += 4.5\n",
    "        if grade[i]=='A':\n",
    "            total += 4.3\n",
    "        if grade[i]=='A-':\n",
    "            total += 4.0\n",
    "        if grade[i]=='B+':\n",
    "            total += 3.5\n",
    "        if grade[i]=='B':\n",
    "            total += 3.3\n",
    "        if grade[i]=='B-':\n",
    "            total += 3.0\n",
    "        if grade[i]=='C':\n",
    "            total += 2.5\n",
    "        if grade[i]=='D':\n",
    "            total += 1.5\n",
    "    print('평균 :', total/len(grade))"
   ]
  }
 ],
 "metadata": {
  "kernelspec": {
   "display_name": "Python 3",
   "language": "python",
   "name": "python3"
  },
  "language_info": {
   "codemirror_mode": {
    "name": "ipython",
    "version": 3
   },
   "file_extension": ".py",
   "mimetype": "text/x-python",
   "name": "python",
   "nbconvert_exporter": "python",
   "pygments_lexer": "ipython3",
   "version": "3.7.6"
  }
 },
 "nbformat": 4,
 "nbformat_minor": 4
}
