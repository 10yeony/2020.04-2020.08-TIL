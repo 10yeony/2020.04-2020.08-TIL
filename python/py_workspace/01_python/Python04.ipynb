{
 "cells": [
  {
   "cell_type": "markdown",
   "metadata": {},
   "source": [
    "## 조건문, 제어문(if, elif, else)"
   ]
  },
  {
   "cell_type": "code",
   "execution_count": 1,
   "metadata": {},
   "outputs": [],
   "source": [
    "a = 3\n",
    "if a%2==0:\n",
    "    print('even')\n",
    "else:\n",
    "    if(a==1):\n",
    "        print('a is 1')\n",
    "    elif(a==3):\n",
    "        print('a is 3')"
   ]
  },
  {
   "cell_type": "markdown",
   "metadata": {},
   "source": [
    "### 문제 1\n",
    "### 키보드로 성적을 입력받고 해당하는 성적이 몇등급인지 판별해서 출력"
   ]
  },
  {
   "cell_type": "code",
   "execution_count": 2,
   "metadata": {},
   "outputs": [
    {
     "name": "stdout",
     "output_type": "stream",
     "text": [
      "성적을 입력하세요65\n",
      "D\n"
     ]
    }
   ],
   "source": [
    "score = int(input('성적을 입력하세요'))\n",
    "if score>=90:\n",
    "    print('A')\n",
    "elif score>=80 and score<90:\n",
    "    print('B')\n",
    "elif score>=70 and score<80:\n",
    "    print('C')\n",
    "elif score>=0 & score<70: # && 쓰면 에러남\n",
    "    print('D')\n",
    "else:\n",
    "    print('잘못 입력하셨습니다')"
   ]
  },
  {
   "cell_type": "markdown",
   "metadata": {},
   "source": [
    "## 반복문(for,while) --- range() 함께"
   ]
  },
  {
   "cell_type": "code",
   "execution_count": 3,
   "metadata": {},
   "outputs": [
    {
     "name": "stdout",
     "output_type": "stream",
     "text": [
      "신비한 동물사전\n",
      "조커\n",
      "기생충\n",
      "타임패러독스\n",
      "******************************\n",
      "신비한 동물사전\n",
      "조커\n",
      "기생충\n",
      "타임패러독스\n"
     ]
    }
   ],
   "source": [
    "movieL = ['신비한 동물사전','조커','기생충','타임패러독스']\n",
    "\n",
    "#1.\n",
    "for m in movieL :\n",
    "    print(m)\n",
    "\n",
    "print('*'*30)\n",
    "\n",
    "#2. range 사용\n",
    "for idx in range(len(movieL)): #range(4) => 0,1,2,3\n",
    "    print(movieL[idx])"
   ]
  },
  {
   "cell_type": "markdown",
   "metadata": {},
   "source": [
    "### 문제2\n",
    "### 키보드로 값 입력받고 입력한 값의 전체합을 구하세요\n",
    "#### 입력한 값들은 3,4,5,6 으로 하자"
   ]
  },
  {
   "cell_type": "code",
   "execution_count": 4,
   "metadata": {},
   "outputs": [
    {
     "name": "stdout",
     "output_type": "stream",
     "text": [
      "키보드로 값 4개 3,4,5,6 >>>3,4,5,6\n",
      "총합 :  18\n",
      "총합 :  18\n",
      "[3, 4, 5, 6]\n",
      "총합 :  18\n"
     ]
    }
   ],
   "source": [
    "data = input('키보드로 값 4개 3,4,5,6 >>>').split(',')\n",
    "total = 0\n",
    "\n",
    "#1.\n",
    "for i in data :\n",
    "    total += int(i) # 파이썬에서 ++, -- 안됨\n",
    "print('총합 : ', total)\n",
    "\n",
    "#2.\n",
    "total = 0\n",
    "for i in range(len(data)): # range(4)  range(0,4)  같은 것\n",
    "    total += int(data[i])\n",
    "print('총합 : ', total)\n",
    "\n",
    "\n",
    "#3.\n",
    "intData = [int(i) for i in data]\n",
    "print(intData)\n",
    "print('총합 : ', sum(intData))"
   ]
  },
  {
   "cell_type": "markdown",
   "metadata": {},
   "source": [
    "### 문제 3."
   ]
  },
  {
   "cell_type": "code",
   "execution_count": 5,
   "metadata": {},
   "outputs": [
    {
     "name": "stdout",
     "output_type": "stream",
     "text": [
      "['홀', '짝', '홀', '홀', '짝', '짝']\n"
     ]
    }
   ],
   "source": [
    "'''\n",
    "numlist = [5,10,11,3,2,100]\n",
    "numlist 데이터를 이용해서 다음과 같이 출력하세요\n",
    "['홀','짝','홀','홀','짝','짝']\n",
    "'''\n",
    "\n",
    "#1.\n",
    "numlist = [5,10,11,3,2,100]\n",
    "strList = [] #strList = list() 이렇게 만들어도 됨\n",
    "\n",
    "for n in numlist:\n",
    "    if n%2==1:\n",
    "        strList.append('홀')\n",
    "    else:\n",
    "        strList.append('짝')\n",
    "print(strList)"
   ]
  },
  {
   "cell_type": "code",
   "execution_count": 6,
   "metadata": {},
   "outputs": [
    {
     "name": "stdout",
     "output_type": "stream",
     "text": [
      "['홀', '짝', '홀', '홀', '짝', '짝']\n"
     ]
    }
   ],
   "source": [
    "#2.\n",
    "resultList = ['짝' if i%2==0 else '홀' for i in numlist]\n",
    "print(resultList)"
   ]
  },
  {
   "cell_type": "markdown",
   "metadata": {},
   "source": [
    "## 이차원 배열에 for문 사용하기, 이중 for문"
   ]
  },
  {
   "cell_type": "code",
   "execution_count": 7,
   "metadata": {},
   "outputs": [
    {
     "name": "stdout",
     "output_type": "stream",
     "text": [
      "0  1  2  3  4  "
     ]
    }
   ],
   "source": [
    "for i in range(0,5):\n",
    "    print(i, ' ', end='')"
   ]
  },
  {
   "cell_type": "code",
   "execution_count": 8,
   "metadata": {},
   "outputs": [
    {
     "data": {
      "text/plain": [
       "[[1, 2, 3], [4, 5, 6], [7, 8, 9, 10]]"
      ]
     },
     "execution_count": 8,
     "metadata": {},
     "output_type": "execute_result"
    }
   ],
   "source": [
    "matrix = [[1,2,3],[4,5,6],[7,8,9,10]]\n",
    "len(matrix)\n",
    "matrix"
   ]
  },
  {
   "cell_type": "code",
   "execution_count": 9,
   "metadata": {},
   "outputs": [
    {
     "data": {
      "text/plain": [
       "'\\n문제 1)\\n[1,2,3]\\n[4,5,6]\\n[7,8,9,10] 이 출력되도록...\\n'"
      ]
     },
     "execution_count": 9,
     "metadata": {},
     "output_type": "execute_result"
    }
   ],
   "source": [
    "'''\n",
    "문제 1)\n",
    "[1,2,3]\n",
    "[4,5,6]\n",
    "[7,8,9,10] 이 출력되도록...\n",
    "'''"
   ]
  },
  {
   "cell_type": "code",
   "execution_count": 10,
   "metadata": {},
   "outputs": [
    {
     "name": "stdout",
     "output_type": "stream",
     "text": [
      "[1, 2, 3]\n",
      "[4, 5, 6]\n",
      "[7, 8, 9, 10]\n",
      "******************************\n",
      "[1, 2, 3]\n",
      "[4, 5, 6]\n",
      "[7, 8, 9, 10]\n",
      "******************************\n",
      "1  2  3  \n",
      "4  5  6  \n",
      "7  8  9  10  \n",
      "******************************\n",
      "1  2  3  \n",
      "4  5  6  \n",
      "7  8  9  10  \n"
     ]
    }
   ],
   "source": [
    "#1.\n",
    "for i in matrix:\n",
    "    print(i)\n",
    "print('*'*30)\n",
    "\n",
    "#2.\n",
    "for i in range(len(matrix)):\n",
    "    print(matrix[i])\n",
    "print('*'*30)\n",
    "\n",
    "#3.\n",
    "for i in range(len(matrix)): #range(0,3)과 같음\n",
    "    for j in range(len(matrix[i])):\n",
    "        print(matrix[i][j], ' ', end='')\n",
    "    print()\n",
    "print('*'*30)\n",
    "\n",
    "#4.\n",
    "for row in matrix:\n",
    "    for col in row:\n",
    "        print(col, ' ', end='')\n",
    "    print()"
   ]
  },
  {
   "cell_type": "markdown",
   "metadata": {},
   "source": [
    "### While문"
   ]
  },
  {
   "cell_type": "code",
   "execution_count": 11,
   "metadata": {},
   "outputs": [
    {
     "name": "stdout",
     "output_type": "stream",
     "text": [
      "1부터 100까지의 총합 :  5050\n",
      "******************************\n",
      "1부터 100까지의 총합 :  5050\n"
     ]
    }
   ],
   "source": [
    "'''\n",
    "1부터 100까지의 합을 구한다.\n",
    "조건을 2가지 둔다.\n",
    "1) while i<101   2) while true\n",
    "'''\n",
    "\n",
    "# 1)\n",
    "i = 1\n",
    "total1 = 0\n",
    "while i<101:\n",
    "    total1 += i\n",
    "    i += 1 #i++ 파이썬에서 안 됨\n",
    "\n",
    "print('1부터 100까지의 총합 : ', total1)\n",
    "print('*'*30)\n",
    "\n",
    "\n",
    "# 2)\n",
    "j = 1\n",
    "total2 = 0\n",
    "while True: #true 안됨. True로 해야 함.\n",
    "    if j==101:\n",
    "        break\n",
    "    total2 += j\n",
    "    j = j+1\n",
    "print('1부터 100까지의 총합 : ', total2)"
   ]
  },
  {
   "cell_type": "code",
   "execution_count": 12,
   "metadata": {},
   "outputs": [
    {
     "name": "stdout",
     "output_type": "stream",
     "text": [
      "0\n",
      "1\n",
      "continue...loop...... 2\n",
      "3\n",
      "pass...loop...... 4\n",
      "4\n",
      "5\n",
      "break...loop...... 6\n"
     ]
    }
   ],
   "source": [
    "# continue, break, pass\n",
    "# 자바에서는 없지만 파이썬에서는 pass라는 키워드가 있음.\n",
    "# 설명해놓고 구현안할 때 pass 같은 키워드를 많이 씀.\n",
    "\n",
    "for i in range(10):\n",
    "    if i==2:\n",
    "        print('continue...loop......', i)\n",
    "        continue #print(i) 건너뛰고 i==3으로 넘어감\n",
    "    if i==6:\n",
    "        print('break...loop......', i)\n",
    "        break #print(i) 건너뛰고 반복문 종료됨\n",
    "    if i==4:\n",
    "        print('pass...loop......', i)\n",
    "        pass #별 의미 없음. 아무일도 없음. 무조건 통과시켜라.\n",
    "    print(i)"
   ]
  },
  {
   "cell_type": "markdown",
   "metadata": {},
   "source": [
    "## 문제 Number Guess.. 번호 맞추기 게임"
   ]
  },
  {
   "cell_type": "code",
   "execution_count": 13,
   "metadata": {},
   "outputs": [
    {
     "data": {
      "text/plain": [
       "'\\n랜덤한 숫자 하나를 지정...random.randrange()...44\\n키보드로 특정한 숫자를 입력받아서.... int(input())...17...47...44\\n\\n- 입력된 값이 더 작으면 작습니다...\\n- 입력된 값이 더 크면 큽니다...\\n- 정답입니다...\\n- 총 3번만에 정답을 맞혔습니다.\\n\\ncontinue, break 라는 키워드가 사용됨\\n'"
      ]
     },
     "execution_count": 13,
     "metadata": {},
     "output_type": "execute_result"
    }
   ],
   "source": [
    "'''\n",
    "랜덤한 숫자 하나를 지정...random.randrange()...44\n",
    "키보드로 특정한 숫자를 입력받아서.... int(input())...17...47...44\n",
    "\n",
    "- 입력된 값이 더 작으면 작습니다...\n",
    "- 입력된 값이 더 크면 큽니다...\n",
    "- 정답입니다...\n",
    "- 총 3번만에 정답을 맞혔습니다.\n",
    "\n",
    "continue, break 라는 키워드가 사용됨\n",
    "'''"
   ]
  },
  {
   "cell_type": "code",
   "execution_count": 14,
   "metadata": {},
   "outputs": [
    {
     "data": {
      "text/plain": [
       "15"
      ]
     },
     "execution_count": 14,
     "metadata": {},
     "output_type": "execute_result"
    }
   ],
   "source": [
    "import random\n",
    "com = random.randrange(1,21) #1~20까지의 임의의 정수가 리턴됨\n",
    "com"
   ]
  },
  {
   "cell_type": "code",
   "execution_count": 15,
   "metadata": {},
   "outputs": [
    {
     "name": "stdout",
     "output_type": "stream",
     "text": [
      "1부터 20 사이의 숫자 하나를 입력하세요....1\n",
      "1은/는 숫자가 작습니다...1회 시도\n",
      "1부터 20 사이의 숫자 하나를 입력하세요....20\n",
      "20은/는 숫자가 큽니다...2회 시도\n",
      "1부터 20 사이의 숫자 하나를 입력하세요....18\n",
      "18은/는 숫자가 큽니다...3회 시도\n",
      "1부터 20 사이의 숫자 하나를 입력하세요....15\n",
      "15은/는 정답입니다. 4회만에 성공\n"
     ]
    }
   ],
   "source": [
    "count = 0\n",
    "while True:\n",
    "    num = int(input('1부터 20 사이의 숫자 하나를 입력하세요....'))\n",
    "    if num > com:\n",
    "        count += 1\n",
    "        print('%d은/는 숫자가 큽니다...%d회 시도' %(num, count))\n",
    "    elif num < com:\n",
    "        count += 1\n",
    "        print('%d은/는 숫자가 작습니다...%d회 시도' %(num, count))\n",
    "    else:\n",
    "        count += 1\n",
    "        print('%d은/는 정답입니다. %d회만에 성공' %(num, count))\n",
    "        break"
   ]
  }
 ],
 "metadata": {
  "kernelspec": {
   "display_name": "Python 3",
   "language": "python",
   "name": "python3"
  },
  "language_info": {
   "codemirror_mode": {
    "name": "ipython",
    "version": 3
   },
   "file_extension": ".py",
   "mimetype": "text/x-python",
   "name": "python",
   "nbconvert_exporter": "python",
   "pygments_lexer": "ipython3",
   "version": "3.7.6"
  }
 },
 "nbformat": 4,
 "nbformat_minor": 4
}
