{
 "cells": [
  {
   "cell_type": "markdown",
   "metadata": {},
   "source": [
    "### 예측 함수\n",
    "\n",
    "$$\n",
    "Y = Wx + b\n",
    "$$\n",
    "\n",
    "x는 특성, y는 예측 값이다. \n",
    "W는 기울기, b는 y절편을 뜻하지만 W는 가중치(weight), b는 offset으로 부를 수도 있다.\n",
    "선형 회귀에서는 여러 샘플의 특성 값과 예측 값을 활용해 가장 적절한 w와 b를 구하는 것이 목적이다.\n",
    "### 평균 제곱 오차 (Mean Square Error)\n",
    "선형 회귀에서는 Coast 함수(또는 비용 함수)로 평균 제곱 오차를 사용한다. \n",
    "여기서 Coast 함수란 샘플 데이터와 타깃과의 유사도를 의미하며 Coast 함수가 최소가 되도록 \n",
    "파라미터를 학습시킨다. \n",
    "$$\n",
    "   \\frac{1}{n}\\sum(pred_i - y_i)^2\n",
    "$$"
   ]
  },
  {
   "cell_type": "code",
   "execution_count": 1,
   "metadata": {},
   "outputs": [],
   "source": [
    "# Mean Square Error는 예측을 정량화된 숫자로 할 때만 쓸 수 있음.\n",
    "# Classification일 때는 못 씀"
   ]
  },
  {
   "cell_type": "code",
   "execution_count": 2,
   "metadata": {},
   "outputs": [],
   "source": [
    "import numpy as np\n",
    "\n",
    "X = np.array([1., 2., 3., 4., 5., 6.])\n",
    "y = np.array([9., 16., 23., 30., 37., 44.])"
   ]
  },
  {
   "cell_type": "code",
   "execution_count": 3,
   "metadata": {},
   "outputs": [],
   "source": [
    "w = 0.0\n",
    "b = 0.0"
   ]
  },
  {
   "cell_type": "code",
   "execution_count": 4,
   "metadata": {},
   "outputs": [
    {
     "data": {
      "text/plain": [
       "6"
      ]
     },
     "execution_count": 4,
     "metadata": {},
     "output_type": "execute_result"
    }
   ],
   "source": [
    "n_data = len(X)\n",
    "n_data"
   ]
  },
  {
   "cell_type": "code",
   "execution_count": 5,
   "metadata": {},
   "outputs": [],
   "source": [
    "epochs = 5000 #전체 데이터가 한번 다 도는 게 1 epoch\n",
    "learning_rate = 0.01 # 학습속도"
   ]
  },
  {
   "cell_type": "code",
   "execution_count": 6,
   "metadata": {},
   "outputs": [
    {
     "name": "stdout",
     "output_type": "stream",
     "text": [
      "Epoch (         0/      5000) loss :845.167, w:1.132, b:0.265\n",
      "Epoch (       100/      5000) loss :0.016, w:7.067, b:1.712\n",
      "Epoch (       200/      5000) loss :0.011, w:7.056, b:1.760\n",
      "Epoch (       300/      5000) loss :0.008, w:7.047, b:1.800\n",
      "Epoch (       400/      5000) loss :0.005, w:7.039, b:1.834\n",
      "Epoch (       500/      5000) loss :0.004, w:7.032, b:1.861\n",
      "Epoch (       600/      5000) loss :0.003, w:7.027, b:1.885\n",
      "Epoch (       700/      5000) loss :0.002, w:7.022, b:1.904\n",
      "Epoch (       800/      5000) loss :0.001, w:7.019, b:1.920\n",
      "Epoch (       900/      5000) loss :0.001, w:7.016, b:1.933\n",
      "Epoch (      1000/      5000) loss :0.001, w:7.013, b:1.944\n",
      "Epoch (      1100/      5000) loss :0.000, w:7.011, b:1.954\n",
      "Epoch (      1200/      5000) loss :0.000, w:7.009, b:1.961\n",
      "Epoch (      1300/      5000) loss :0.000, w:7.008, b:1.968\n",
      "Epoch (      1400/      5000) loss :0.000, w:7.006, b:1.973\n",
      "Epoch (      1500/      5000) loss :0.000, w:7.005, b:1.978\n",
      "Epoch (      1600/      5000) loss :0.000, w:7.004, b:1.981\n",
      "Epoch (      1700/      5000) loss :0.000, w:7.004, b:1.985\n",
      "Epoch (      1800/      5000) loss :0.000, w:7.003, b:1.987\n",
      "Epoch (      1900/      5000) loss :0.000, w:7.003, b:1.989\n",
      "Epoch (      2000/      5000) loss :0.000, w:7.002, b:1.991\n",
      "Epoch (      2100/      5000) loss :0.000, w:7.002, b:1.993\n",
      "Epoch (      2200/      5000) loss :0.000, w:7.001, b:1.994\n",
      "Epoch (      2300/      5000) loss :0.000, w:7.001, b:1.995\n",
      "Epoch (      2400/      5000) loss :0.000, w:7.001, b:1.996\n",
      "Epoch (      2500/      5000) loss :0.000, w:7.001, b:1.996\n",
      "Epoch (      2600/      5000) loss :0.000, w:7.001, b:1.997\n",
      "Epoch (      2700/      5000) loss :0.000, w:7.001, b:1.998\n",
      "Epoch (      2800/      5000) loss :0.000, w:7.000, b:1.998\n",
      "Epoch (      2900/      5000) loss :0.000, w:7.000, b:1.998\n",
      "Epoch (      3000/      5000) loss :0.000, w:7.000, b:1.999\n",
      "Epoch (      3100/      5000) loss :0.000, w:7.000, b:1.999\n",
      "Epoch (      3200/      5000) loss :0.000, w:7.000, b:1.999\n",
      "Epoch (      3300/      5000) loss :0.000, w:7.000, b:1.999\n",
      "Epoch (      3400/      5000) loss :0.000, w:7.000, b:1.999\n",
      "Epoch (      3500/      5000) loss :0.000, w:7.000, b:1.999\n",
      "Epoch (      3600/      5000) loss :0.000, w:7.000, b:2.000\n",
      "Epoch (      3700/      5000) loss :0.000, w:7.000, b:2.000\n",
      "Epoch (      3800/      5000) loss :0.000, w:7.000, b:2.000\n",
      "Epoch (      3900/      5000) loss :0.000, w:7.000, b:2.000\n",
      "Epoch (      4000/      5000) loss :0.000, w:7.000, b:2.000\n",
      "Epoch (      4100/      5000) loss :0.000, w:7.000, b:2.000\n",
      "Epoch (      4200/      5000) loss :0.000, w:7.000, b:2.000\n",
      "Epoch (      4300/      5000) loss :0.000, w:7.000, b:2.000\n",
      "Epoch (      4400/      5000) loss :0.000, w:7.000, b:2.000\n",
      "Epoch (      4500/      5000) loss :0.000, w:7.000, b:2.000\n",
      "Epoch (      4600/      5000) loss :0.000, w:7.000, b:2.000\n",
      "Epoch (      4700/      5000) loss :0.000, w:7.000, b:2.000\n",
      "Epoch (      4800/      5000) loss :0.000, w:7.000, b:2.000\n",
      "Epoch (      4900/      5000) loss :0.000, w:7.000, b:2.000\n"
     ]
    }
   ],
   "source": [
    "for i in range(epochs):\n",
    "    y_predict = X * w + b #먼저 예측부터 해야 함\n",
    "    \n",
    "    # 현재 오차를 구한다\n",
    "    loss = np.sum((y_predict-y)**2) / n_data #.mean()과 똑같음\n",
    "    \n",
    "    w -= learning_rate * ((y_predict-y) * X).mean()\n",
    "    b -= learning_rate * (y_predict-y).mean()\n",
    "    \n",
    "    if i % 100 == 0: #100번 주기로\n",
    "        print('Epoch ({:10d}/{:10d}) loss :{:.3f}, w:{:.3f}, b:{:.3f}'.format(i, epochs, loss, w, b))"
   ]
  },
  {
   "cell_type": "code",
   "execution_count": 7,
   "metadata": {},
   "outputs": [
    {
     "name": "stdout",
     "output_type": "stream",
     "text": [
      "W : 7.00001\n",
      "b : 2.000\n",
      "Result [ 8.99997131 15.99998006 22.9999888  29.99999754 37.00000628 44.00001503]\n"
     ]
    }
   ],
   "source": [
    "print('W : {:.5f}'.format(w))\n",
    "print('b : {:.3f}'.format(b))\n",
    "print('Result', X * w + b)"
   ]
  }
 ],
 "metadata": {
  "kernelspec": {
   "display_name": "Python 3",
   "language": "python",
   "name": "python3"
  },
  "language_info": {
   "codemirror_mode": {
    "name": "ipython",
    "version": 3
   },
   "file_extension": ".py",
   "mimetype": "text/x-python",
   "name": "python",
   "nbconvert_exporter": "python",
   "pygments_lexer": "ipython3",
   "version": "3.7.7"
  }
 },
 "nbformat": 4,
 "nbformat_minor": 4
}
