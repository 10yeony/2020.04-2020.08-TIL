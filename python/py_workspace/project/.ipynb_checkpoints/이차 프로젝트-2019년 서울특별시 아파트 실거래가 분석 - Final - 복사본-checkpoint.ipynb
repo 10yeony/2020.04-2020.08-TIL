{
 "cells": [
  {
   "cell_type": "code",
   "execution_count": 1,
   "metadata": {},
   "outputs": [],
   "source": [
    "import pandas as pd\n",
    "import numpy as np\n",
    "import seaborn as sns\n",
    "import matplotlib.pyplot as plt\n",
    "import matplotlib.path as mpath"
   ]
  },
  {
   "cell_type": "code",
   "execution_count": 2,
   "metadata": {},
   "outputs": [],
   "source": [
    "import platform\n",
    "\n",
    "from matplotlib import font_manager, rc\n",
    "plt.rcParams['axes.unicode_minus'] = False\n",
    "\n",
    "if platform.system() == 'Darwin':\n",
    "    rc('font', family='AppleGothic')\n",
    "elif platform.system() == 'Windows':\n",
    "    path = \"c:/Windows/Fonts/malgun.ttf\"\n",
    "    font_name = font_manager.FontProperties(fname=path).get_name()\n",
    "    rc('font', family=font_name)\n",
    "else:\n",
    "    print('Unknown system... sorry~~~~')"
   ]
  },
  {
   "cell_type": "markdown",
   "metadata": {},
   "source": [
    "## 1. 법정동 코드 가공"
   ]
  },
  {
   "cell_type": "code",
   "execution_count": 3,
   "metadata": {
    "scrolled": false
   },
   "outputs": [
    {
     "ename": "FileNotFoundError",
     "evalue": "[Errno 2] No such file or directory: 'data/법정동코드.xlsx'",
     "output_type": "error",
     "traceback": [
      "\u001b[1;31m---------------------------------------------------------------------------\u001b[0m",
      "\u001b[1;31mFileNotFoundError\u001b[0m                         Traceback (most recent call last)",
      "\u001b[1;32m<ipython-input-3-336c7c336c80>\u001b[0m in \u001b[0;36m<module>\u001b[1;34m\u001b[0m\n\u001b[1;32m----> 1\u001b[1;33m \u001b[0mlocCode\u001b[0m \u001b[1;33m=\u001b[0m \u001b[0mpd\u001b[0m\u001b[1;33m.\u001b[0m\u001b[0mread_excel\u001b[0m\u001b[1;33m(\u001b[0m\u001b[1;34m'data/법정동코드.xlsx'\u001b[0m\u001b[1;33m)\u001b[0m\u001b[1;33m\u001b[0m\u001b[1;33m\u001b[0m\u001b[0m\n\u001b[0m\u001b[0;32m      2\u001b[0m \u001b[0mlocCode\u001b[0m\u001b[1;33m.\u001b[0m\u001b[0mhead\u001b[0m\u001b[1;33m(\u001b[0m\u001b[1;33m)\u001b[0m\u001b[1;33m\u001b[0m\u001b[1;33m\u001b[0m\u001b[0m\n",
      "\u001b[1;32mC:\\kyh\\anaconda3\\lib\\site-packages\\pandas\\io\\excel\\_base.py\u001b[0m in \u001b[0;36mread_excel\u001b[1;34m(io, sheet_name, header, names, index_col, usecols, squeeze, dtype, engine, converters, true_values, false_values, skiprows, nrows, na_values, keep_default_na, verbose, parse_dates, date_parser, thousands, comment, skipfooter, convert_float, mangle_dupe_cols, **kwds)\u001b[0m\n\u001b[0;32m    302\u001b[0m \u001b[1;33m\u001b[0m\u001b[0m\n\u001b[0;32m    303\u001b[0m     \u001b[1;32mif\u001b[0m \u001b[1;32mnot\u001b[0m \u001b[0misinstance\u001b[0m\u001b[1;33m(\u001b[0m\u001b[0mio\u001b[0m\u001b[1;33m,\u001b[0m \u001b[0mExcelFile\u001b[0m\u001b[1;33m)\u001b[0m\u001b[1;33m:\u001b[0m\u001b[1;33m\u001b[0m\u001b[1;33m\u001b[0m\u001b[0m\n\u001b[1;32m--> 304\u001b[1;33m         \u001b[0mio\u001b[0m \u001b[1;33m=\u001b[0m \u001b[0mExcelFile\u001b[0m\u001b[1;33m(\u001b[0m\u001b[0mio\u001b[0m\u001b[1;33m,\u001b[0m \u001b[0mengine\u001b[0m\u001b[1;33m=\u001b[0m\u001b[0mengine\u001b[0m\u001b[1;33m)\u001b[0m\u001b[1;33m\u001b[0m\u001b[1;33m\u001b[0m\u001b[0m\n\u001b[0m\u001b[0;32m    305\u001b[0m     \u001b[1;32melif\u001b[0m \u001b[0mengine\u001b[0m \u001b[1;32mand\u001b[0m \u001b[0mengine\u001b[0m \u001b[1;33m!=\u001b[0m \u001b[0mio\u001b[0m\u001b[1;33m.\u001b[0m\u001b[0mengine\u001b[0m\u001b[1;33m:\u001b[0m\u001b[1;33m\u001b[0m\u001b[1;33m\u001b[0m\u001b[0m\n\u001b[0;32m    306\u001b[0m         raise ValueError(\n",
      "\u001b[1;32mC:\\kyh\\anaconda3\\lib\\site-packages\\pandas\\io\\excel\\_base.py\u001b[0m in \u001b[0;36m__init__\u001b[1;34m(self, io, engine)\u001b[0m\n\u001b[0;32m    819\u001b[0m         \u001b[0mself\u001b[0m\u001b[1;33m.\u001b[0m\u001b[0m_io\u001b[0m \u001b[1;33m=\u001b[0m \u001b[0mstringify_path\u001b[0m\u001b[1;33m(\u001b[0m\u001b[0mio\u001b[0m\u001b[1;33m)\u001b[0m\u001b[1;33m\u001b[0m\u001b[1;33m\u001b[0m\u001b[0m\n\u001b[0;32m    820\u001b[0m \u001b[1;33m\u001b[0m\u001b[0m\n\u001b[1;32m--> 821\u001b[1;33m         \u001b[0mself\u001b[0m\u001b[1;33m.\u001b[0m\u001b[0m_reader\u001b[0m \u001b[1;33m=\u001b[0m \u001b[0mself\u001b[0m\u001b[1;33m.\u001b[0m\u001b[0m_engines\u001b[0m\u001b[1;33m[\u001b[0m\u001b[0mengine\u001b[0m\u001b[1;33m]\u001b[0m\u001b[1;33m(\u001b[0m\u001b[0mself\u001b[0m\u001b[1;33m.\u001b[0m\u001b[0m_io\u001b[0m\u001b[1;33m)\u001b[0m\u001b[1;33m\u001b[0m\u001b[1;33m\u001b[0m\u001b[0m\n\u001b[0m\u001b[0;32m    822\u001b[0m \u001b[1;33m\u001b[0m\u001b[0m\n\u001b[0;32m    823\u001b[0m     \u001b[1;32mdef\u001b[0m \u001b[0m__fspath__\u001b[0m\u001b[1;33m(\u001b[0m\u001b[0mself\u001b[0m\u001b[1;33m)\u001b[0m\u001b[1;33m:\u001b[0m\u001b[1;33m\u001b[0m\u001b[1;33m\u001b[0m\u001b[0m\n",
      "\u001b[1;32mC:\\kyh\\anaconda3\\lib\\site-packages\\pandas\\io\\excel\\_xlrd.py\u001b[0m in \u001b[0;36m__init__\u001b[1;34m(self, filepath_or_buffer)\u001b[0m\n\u001b[0;32m     19\u001b[0m         \u001b[0merr_msg\u001b[0m \u001b[1;33m=\u001b[0m \u001b[1;34m\"Install xlrd >= 1.0.0 for Excel support\"\u001b[0m\u001b[1;33m\u001b[0m\u001b[1;33m\u001b[0m\u001b[0m\n\u001b[0;32m     20\u001b[0m         \u001b[0mimport_optional_dependency\u001b[0m\u001b[1;33m(\u001b[0m\u001b[1;34m\"xlrd\"\u001b[0m\u001b[1;33m,\u001b[0m \u001b[0mextra\u001b[0m\u001b[1;33m=\u001b[0m\u001b[0merr_msg\u001b[0m\u001b[1;33m)\u001b[0m\u001b[1;33m\u001b[0m\u001b[1;33m\u001b[0m\u001b[0m\n\u001b[1;32m---> 21\u001b[1;33m         \u001b[0msuper\u001b[0m\u001b[1;33m(\u001b[0m\u001b[1;33m)\u001b[0m\u001b[1;33m.\u001b[0m\u001b[0m__init__\u001b[0m\u001b[1;33m(\u001b[0m\u001b[0mfilepath_or_buffer\u001b[0m\u001b[1;33m)\u001b[0m\u001b[1;33m\u001b[0m\u001b[1;33m\u001b[0m\u001b[0m\n\u001b[0m\u001b[0;32m     22\u001b[0m \u001b[1;33m\u001b[0m\u001b[0m\n\u001b[0;32m     23\u001b[0m     \u001b[1;33m@\u001b[0m\u001b[0mproperty\u001b[0m\u001b[1;33m\u001b[0m\u001b[1;33m\u001b[0m\u001b[0m\n",
      "\u001b[1;32mC:\\kyh\\anaconda3\\lib\\site-packages\\pandas\\io\\excel\\_base.py\u001b[0m in \u001b[0;36m__init__\u001b[1;34m(self, filepath_or_buffer)\u001b[0m\n\u001b[0;32m    351\u001b[0m             \u001b[0mself\u001b[0m\u001b[1;33m.\u001b[0m\u001b[0mbook\u001b[0m \u001b[1;33m=\u001b[0m \u001b[0mself\u001b[0m\u001b[1;33m.\u001b[0m\u001b[0mload_workbook\u001b[0m\u001b[1;33m(\u001b[0m\u001b[0mfilepath_or_buffer\u001b[0m\u001b[1;33m)\u001b[0m\u001b[1;33m\u001b[0m\u001b[1;33m\u001b[0m\u001b[0m\n\u001b[0;32m    352\u001b[0m         \u001b[1;32melif\u001b[0m \u001b[0misinstance\u001b[0m\u001b[1;33m(\u001b[0m\u001b[0mfilepath_or_buffer\u001b[0m\u001b[1;33m,\u001b[0m \u001b[0mstr\u001b[0m\u001b[1;33m)\u001b[0m\u001b[1;33m:\u001b[0m\u001b[1;33m\u001b[0m\u001b[1;33m\u001b[0m\u001b[0m\n\u001b[1;32m--> 353\u001b[1;33m             \u001b[0mself\u001b[0m\u001b[1;33m.\u001b[0m\u001b[0mbook\u001b[0m \u001b[1;33m=\u001b[0m \u001b[0mself\u001b[0m\u001b[1;33m.\u001b[0m\u001b[0mload_workbook\u001b[0m\u001b[1;33m(\u001b[0m\u001b[0mfilepath_or_buffer\u001b[0m\u001b[1;33m)\u001b[0m\u001b[1;33m\u001b[0m\u001b[1;33m\u001b[0m\u001b[0m\n\u001b[0m\u001b[0;32m    354\u001b[0m         \u001b[1;32melif\u001b[0m \u001b[0misinstance\u001b[0m\u001b[1;33m(\u001b[0m\u001b[0mfilepath_or_buffer\u001b[0m\u001b[1;33m,\u001b[0m \u001b[0mbytes\u001b[0m\u001b[1;33m)\u001b[0m\u001b[1;33m:\u001b[0m\u001b[1;33m\u001b[0m\u001b[1;33m\u001b[0m\u001b[0m\n\u001b[0;32m    355\u001b[0m             \u001b[0mself\u001b[0m\u001b[1;33m.\u001b[0m\u001b[0mbook\u001b[0m \u001b[1;33m=\u001b[0m \u001b[0mself\u001b[0m\u001b[1;33m.\u001b[0m\u001b[0mload_workbook\u001b[0m\u001b[1;33m(\u001b[0m\u001b[0mBytesIO\u001b[0m\u001b[1;33m(\u001b[0m\u001b[0mfilepath_or_buffer\u001b[0m\u001b[1;33m)\u001b[0m\u001b[1;33m)\u001b[0m\u001b[1;33m\u001b[0m\u001b[1;33m\u001b[0m\u001b[0m\n",
      "\u001b[1;32mC:\\kyh\\anaconda3\\lib\\site-packages\\pandas\\io\\excel\\_xlrd.py\u001b[0m in \u001b[0;36mload_workbook\u001b[1;34m(self, filepath_or_buffer)\u001b[0m\n\u001b[0;32m     34\u001b[0m             \u001b[1;32mreturn\u001b[0m \u001b[0mopen_workbook\u001b[0m\u001b[1;33m(\u001b[0m\u001b[0mfile_contents\u001b[0m\u001b[1;33m=\u001b[0m\u001b[0mdata\u001b[0m\u001b[1;33m)\u001b[0m\u001b[1;33m\u001b[0m\u001b[1;33m\u001b[0m\u001b[0m\n\u001b[0;32m     35\u001b[0m         \u001b[1;32melse\u001b[0m\u001b[1;33m:\u001b[0m\u001b[1;33m\u001b[0m\u001b[1;33m\u001b[0m\u001b[0m\n\u001b[1;32m---> 36\u001b[1;33m             \u001b[1;32mreturn\u001b[0m \u001b[0mopen_workbook\u001b[0m\u001b[1;33m(\u001b[0m\u001b[0mfilepath_or_buffer\u001b[0m\u001b[1;33m)\u001b[0m\u001b[1;33m\u001b[0m\u001b[1;33m\u001b[0m\u001b[0m\n\u001b[0m\u001b[0;32m     37\u001b[0m \u001b[1;33m\u001b[0m\u001b[0m\n\u001b[0;32m     38\u001b[0m     \u001b[1;33m@\u001b[0m\u001b[0mproperty\u001b[0m\u001b[1;33m\u001b[0m\u001b[1;33m\u001b[0m\u001b[0m\n",
      "\u001b[1;32mC:\\kyh\\anaconda3\\lib\\site-packages\\xlrd\\__init__.py\u001b[0m in \u001b[0;36mopen_workbook\u001b[1;34m(filename, logfile, verbosity, use_mmap, file_contents, encoding_override, formatting_info, on_demand, ragged_rows)\u001b[0m\n\u001b[0;32m    109\u001b[0m     \u001b[1;32melse\u001b[0m\u001b[1;33m:\u001b[0m\u001b[1;33m\u001b[0m\u001b[1;33m\u001b[0m\u001b[0m\n\u001b[0;32m    110\u001b[0m         \u001b[0mfilename\u001b[0m \u001b[1;33m=\u001b[0m \u001b[0mos\u001b[0m\u001b[1;33m.\u001b[0m\u001b[0mpath\u001b[0m\u001b[1;33m.\u001b[0m\u001b[0mexpanduser\u001b[0m\u001b[1;33m(\u001b[0m\u001b[0mfilename\u001b[0m\u001b[1;33m)\u001b[0m\u001b[1;33m\u001b[0m\u001b[1;33m\u001b[0m\u001b[0m\n\u001b[1;32m--> 111\u001b[1;33m         \u001b[1;32mwith\u001b[0m \u001b[0mopen\u001b[0m\u001b[1;33m(\u001b[0m\u001b[0mfilename\u001b[0m\u001b[1;33m,\u001b[0m \u001b[1;34m\"rb\"\u001b[0m\u001b[1;33m)\u001b[0m \u001b[1;32mas\u001b[0m \u001b[0mf\u001b[0m\u001b[1;33m:\u001b[0m\u001b[1;33m\u001b[0m\u001b[1;33m\u001b[0m\u001b[0m\n\u001b[0m\u001b[0;32m    112\u001b[0m             \u001b[0mpeek\u001b[0m \u001b[1;33m=\u001b[0m \u001b[0mf\u001b[0m\u001b[1;33m.\u001b[0m\u001b[0mread\u001b[0m\u001b[1;33m(\u001b[0m\u001b[0mpeeksz\u001b[0m\u001b[1;33m)\u001b[0m\u001b[1;33m\u001b[0m\u001b[1;33m\u001b[0m\u001b[0m\n\u001b[0;32m    113\u001b[0m     \u001b[1;32mif\u001b[0m \u001b[0mpeek\u001b[0m \u001b[1;33m==\u001b[0m \u001b[1;34mb\"PK\\x03\\x04\"\u001b[0m\u001b[1;33m:\u001b[0m \u001b[1;31m# a ZIP file\u001b[0m\u001b[1;33m\u001b[0m\u001b[1;33m\u001b[0m\u001b[0m\n",
      "\u001b[1;31mFileNotFoundError\u001b[0m: [Errno 2] No such file or directory: 'data/법정동코드.xlsx'"
     ]
    }
   ],
   "source": [
    "locCode = pd.read_excel('data/법정동코드.xlsx')\n",
    "locCode.head()"
   ]
  },
  {
   "cell_type": "code",
   "execution_count": null,
   "metadata": {},
   "outputs": [],
   "source": [
    "locCode['지역코드'] = locCode['법정동코드'].astype(str).str.slice(start=0, stop=5).astype(int)\n",
    "locCode.info()"
   ]
  },
  {
   "cell_type": "code",
   "execution_count": null,
   "metadata": {
    "scrolled": false
   },
   "outputs": [],
   "source": [
    "locCode_1 = locCode[locCode['시도명']=='서울특별시'][['시군구명','지역코드']]\n",
    "locCode_1.rename(columns={'시군구명':'구'}, inplace=True)\n",
    "locCode_1 = locCode_1[locCode_1['구'].notnull()]\n",
    "locCode_1"
   ]
  },
  {
   "cell_type": "markdown",
   "metadata": {},
   "source": [
    "## 2. 실거래가 데이터 가공"
   ]
  },
  {
   "cell_type": "code",
   "execution_count": null,
   "metadata": {
    "scrolled": true
   },
   "outputs": [],
   "source": [
    "apt = pd.read_csv('data/2019년 서울 아파트 실거래가.csv', encoding=\"cp949\")"
   ]
  },
  {
   "cell_type": "code",
   "execution_count": null,
   "metadata": {},
   "outputs": [],
   "source": [
    "# 거래금액 컬럼의 콤마(,) 제거 후 데이터 타입 변경..int64로\n",
    "apt['거래금액'] = apt['거래금액'].astype(str).str.replace(pat=',', repl='', regex=False).astype(np.int64)\n",
    "apt.info()"
   ]
  },
  {
   "cell_type": "code",
   "execution_count": null,
   "metadata": {},
   "outputs": [],
   "source": [
    "# 전용면적(제곱미터)를 평으로 변환(나누기 3.306)하여 전용면적(평) 컬럼 생성 후 소숫점 둘쨰자리까지 표시합니다.\n",
    "apt['전용면적(평)']=apt['전용면적']/3.306\n",
    "apt['전용면적(평)']=apt['전용면적(평)'].round(decimals=2)\n",
    "apt.head()"
   ]
  },
  {
   "cell_type": "code",
   "execution_count": null,
   "metadata": {},
   "outputs": [],
   "source": [
    "# 전용면적을 범주화 하기 위해 전용면적(평) 컬럼을 정수형으로 바꾼 새로운 컬럼을 생성합니다.\n",
    "# 컬럼명 전용면적2(평)\n",
    "apt['전용면적(평)2']=apt['전용면적(평)'].astype(int)\n",
    "apt.head()"
   ]
  },
  {
   "cell_type": "code",
   "execution_count": null,
   "metadata": {},
   "outputs": [],
   "source": [
    "# 전용면적을 범주화 합니다.\n",
    "# 컬럼명은 전용면적(평)3\n",
    "bins=np.arange(0,86,5)\n",
    "bins\n",
    "apt['전용면적(평)3'] = pd.cut(apt['전용면적(평)2'], bins)\n",
    "apt"
   ]
  },
  {
   "cell_type": "code",
   "execution_count": null,
   "metadata": {
    "scrolled": true
   },
   "outputs": [],
   "source": [
    "# 범주화된 전용면적의 고유값을 확인합니다.\n",
    "apt['전용면적(평)3'].unique()"
   ]
  },
  {
   "cell_type": "code",
   "execution_count": null,
   "metadata": {
    "scrolled": false
   },
   "outputs": [],
   "source": [
    "apt['평당가격'] = (apt['거래금액']/apt['전용면적(평)2']).round().astype(int)\n",
    "apt"
   ]
  },
  {
   "cell_type": "markdown",
   "metadata": {},
   "source": [
    "## 3. 데이타 프레임 병합"
   ]
  },
  {
   "cell_type": "code",
   "execution_count": null,
   "metadata": {},
   "outputs": [],
   "source": [
    "result = pd.merge(locCode_1, apt, on=['지역코드'])\n",
    "result.drop_duplicates(inplace=True)\n",
    "result.head(1)"
   ]
  },
  {
   "cell_type": "markdown",
   "metadata": {},
   "source": [
    "## 4. 데이타 분석\n"
   ]
  },
  {
   "cell_type": "code",
   "execution_count": null,
   "metadata": {},
   "outputs": [],
   "source": [
    "#1. 구별 평균평당 가격\n",
    "result_1=result.pivot_table(values='평당가격', index=['구']).reset_index()\n",
    "result_1['평당가격']=result_1['평당가격'].astype(int)\n",
    "result_1=result_1.sort_values(by='평당가격',ascending=False).reset_index().drop('index', axis=1)\n",
    "result_1=result_1\n",
    "plt.figure(figsize=(10,10))\n",
    "plt.xticks(rotation=45)\n",
    "sns.barplot(x='구', y='평당가격', data=result_1)\n"
   ]
  },
  {
   "cell_type": "code",
   "execution_count": null,
   "metadata": {},
   "outputs": [],
   "source": [
    "#2. 층별 평당가격\n",
    "result['평당가격']=result['평당가격'].astype(int)\n",
    "result_floor=result.pivot_table(values='평당가격', index=['구'], columns=['층'])\n",
    "result_floor=result_floor.fillna(0).astype(int)\n",
    "result_floor.head(1)"
   ]
  },
  {
   "cell_type": "code",
   "execution_count": null,
   "metadata": {},
   "outputs": [],
   "source": [
    "f, ax = plt.subplots(figsize=(30, 30))\n",
    "sns.heatmap(result_floor, annot=True, fmt=\"d\", linewidths=.5, ax=ax)"
   ]
  },
  {
   "cell_type": "code",
   "execution_count": null,
   "metadata": {},
   "outputs": [],
   "source": [
    "#3. 평수별 거래량\n",
    "result.head()\n",
    "result3=result.pivot_table(values='평당가격', index='전용면적(평)3',aggfunc='count').reset_index()\n",
    "result3=result3.rename(columns={'평당가격':'거래량'})\n",
    "result3"
   ]
  },
  {
   "cell_type": "code",
   "execution_count": null,
   "metadata": {
    "scrolled": true
   },
   "outputs": [],
   "source": [
    "labels = result3['전용면적(평)3']\n",
    "sizes = result3['거래량']\n",
    "fig1, ax1 = plt.subplots()\n",
    "ax1.pie(sizes, labels=labels, autopct='%1.0f%%',\n",
    "        shadow=False, startangle=90)\n",
    "ax1.axis('equal')\n",
    "plt.show()\n"
   ]
  },
  {
   "cell_type": "code",
   "execution_count": null,
   "metadata": {},
   "outputs": [],
   "source": [
    "#4. 구별 거래량\n",
    "result.head()\n",
    "result4=result.pivot_table(values='평당가격', index='구',aggfunc='count').reset_index()\n",
    "result4=result4.rename(columns={'평당가격':'거래량'})\n",
    "result4"
   ]
  },
  {
   "cell_type": "code",
   "execution_count": null,
   "metadata": {},
   "outputs": [],
   "source": [
    "plt.figure(figsize=(10,10))\n",
    "plt.xticks(rotation=45)\n",
    "sns.barplot(x='구', y='거래량', data=result4)"
   ]
  },
  {
   "cell_type": "code",
   "execution_count": null,
   "metadata": {},
   "outputs": [],
   "source": [
    "#5.월별 거래량\n",
    "result.head()\n",
    "result5=result.pivot_table(values='평당가격', index='거래월',aggfunc='count').reset_index()\n",
    "result5=result5.rename(columns={'평당가격':'거래량'})\n",
    "result5"
   ]
  },
  {
   "cell_type": "code",
   "execution_count": null,
   "metadata": {},
   "outputs": [],
   "source": [
    "star = mpath.Path.unit_regular_star(5)\n",
    "circle = mpath.Path.unit_circle()\n",
    "# concatenate the circle with an internal cutout of the star\n",
    "verts = np.concatenate([circle.vertices, star.vertices[::-1, ...]])\n",
    "codes = np.concatenate([circle.codes, star.codes])\n",
    "cut_star = mpath.Path(verts, codes)\n",
    "plt.plot(result5['거래월'],result5['거래량'], '--r', marker=cut_star, markersize=10)\n",
    "plt.show()"
   ]
  },
  {
   "cell_type": "code",
   "execution_count": null,
   "metadata": {},
   "outputs": [],
   "source": [
    "#6. 건축년도별 평균 평당 가격\n",
    "mean_price_by_year = result.pivot_table('평당가격', index='건축년도')\n",
    "mean_price_by_year.head()\n",
    "plt.style.use('ggplot')\n",
    "plt.rcParams[\"figure.figsize\"] = (15, 5)\n",
    "ax = mean_price_by_year.plot(kind='bar')\n",
    "ax.set_title(\"건축년도별 평균 평당 가격\", fontsize=20)\n",
    "ax.set_xlabel(\"건축년도\")\n",
    "ax.set_ylabel(\"평당가격\")\n",
    "ax.legend(loc='best')\n",
    "plt.show()"
   ]
  },
  {
   "cell_type": "code",
   "execution_count": null,
   "metadata": {},
   "outputs": [],
   "source": [
    "#7.건축년도에 따른 구별 평균 평당 가격\n",
    "mean_price_by_year_hue_gu = result.pivot_table('평당가격', index='건축년도', columns='구').sort_values('건축년도', ascending=False).head()\n",
    "mean_price_by_year_hue_gu\n",
    "ax = mean_price_by_year_hue_gu.plot()\n",
    "ax.set_title(\"건축년도에 따른 구별 평균 평당 가격\", fontsize=20)\n",
    "ax.set_xlabel(\"건축년도\")\n",
    "ax.set_ylabel(\"평당가격\")\n",
    "plt.show()"
   ]
  },
  {
   "cell_type": "code",
   "execution_count": null,
   "metadata": {},
   "outputs": [],
   "source": [
    "# 8.건축년도에 따른 구별 거래량\n",
    "count_by_year_hue_gu = result.pivot_table('평당가격', index='건축년도', columns='구', aggfunc='count')\n",
    "count_by_year_hue_gu\n",
    "plt.rcParams[\"figure.figsize\"] = (25, 10)\n",
    "ax = count_by_year_hue_gu.plot()\n",
    "ax.set_title(\"건축년도에 따른 구별 거래량\", fontsize=20)\n",
    "ax.set_xlabel(\"건축년도\")\n",
    "ax.set_ylabel(\"거래량\")\n",
    "plt.show()"
   ]
  },
  {
   "cell_type": "code",
   "execution_count": null,
   "metadata": {},
   "outputs": [],
   "source": [
    "#9.거래월별,구별 평균 평당 가격\n",
    "mean_price_by_month_hue_gu = result.pivot_table('평당가격', index=['구','거래월'])\n",
    "mean_price_by_month_hue_gu = mean_price_by_month_hue_gu.reset_index()\n",
    "mean_price_by_month_hue_gu['평당가격'] = mean_price_by_month_hue_gu['평당가격'].astype(int)\n",
    "mean_price_by_month_hue_gu\n",
    "category_names = mean_price_by_month_hue_gu['구'].unique()\n",
    "results = {\n",
    "    '1월' : mean_price_by_month_hue_gu[mean_price_by_month_hue_gu['거래월']==1]['평당가격']/sum(mean_price_by_month_hue_gu[mean_price_by_month_hue_gu['거래월']==1]['평당가격'])*100,\n",
    "    '2월' : mean_price_by_month_hue_gu[mean_price_by_month_hue_gu['거래월']==2]['평당가격']/sum(mean_price_by_month_hue_gu[mean_price_by_month_hue_gu['거래월']==2]['평당가격'])*100,\n",
    "    '3월' : mean_price_by_month_hue_gu[mean_price_by_month_hue_gu['거래월']==3]['평당가격']/sum(mean_price_by_month_hue_gu[mean_price_by_month_hue_gu['거래월']==3]['평당가격'])*100,\n",
    "    '4월' : mean_price_by_month_hue_gu[mean_price_by_month_hue_gu['거래월']==4]['평당가격']/sum(mean_price_by_month_hue_gu[mean_price_by_month_hue_gu['거래월']==4]['평당가격'])*100,\n",
    "    '5월' : mean_price_by_month_hue_gu[mean_price_by_month_hue_gu['거래월']==5]['평당가격']/sum(mean_price_by_month_hue_gu[mean_price_by_month_hue_gu['거래월']==5]['평당가격'])*100,\n",
    "    '6월' : mean_price_by_month_hue_gu[mean_price_by_month_hue_gu['거래월']==6]['평당가격']/sum(mean_price_by_month_hue_gu[mean_price_by_month_hue_gu['거래월']==6]['평당가격'])*100,\n",
    "    '7월' : mean_price_by_month_hue_gu[mean_price_by_month_hue_gu['거래월']==7]['평당가격']/sum(mean_price_by_month_hue_gu[mean_price_by_month_hue_gu['거래월']==7]['평당가격'])*100,\n",
    "    '8월' : mean_price_by_month_hue_gu[mean_price_by_month_hue_gu['거래월']==8]['평당가격']/sum(mean_price_by_month_hue_gu[mean_price_by_month_hue_gu['거래월']==8]['평당가격'])*100,\n",
    "    '9월' : mean_price_by_month_hue_gu[mean_price_by_month_hue_gu['거래월']==9]['평당가격']/sum(mean_price_by_month_hue_gu[mean_price_by_month_hue_gu['거래월']==9]['평당가격'])*100,\n",
    "    '10월' : mean_price_by_month_hue_gu[mean_price_by_month_hue_gu['거래월']==10]['평당가격']/sum(mean_price_by_month_hue_gu[mean_price_by_month_hue_gu['거래월']==10]['평당가격'])*100,\n",
    "    '11월' : mean_price_by_month_hue_gu[mean_price_by_month_hue_gu['거래월']==11]['평당가격']/sum(mean_price_by_month_hue_gu[mean_price_by_month_hue_gu['거래월']==11]['평당가격'])*100,\n",
    "    '12월' : mean_price_by_month_hue_gu[mean_price_by_month_hue_gu['거래월']==12]['평당가격']/sum(mean_price_by_month_hue_gu[mean_price_by_month_hue_gu['거래월']==12]['평당가격'])*100\n",
    "}\n",
    "\n",
    "\n",
    "def survey(results, category_names):\n",
    "    \"\"\"\n",
    "    Parameters\n",
    "    ----------\n",
    "    results : dict\n",
    "        A mapping from question labels to a list of answers per category.\n",
    "        It is assumed all lists contain the same number of entries and that\n",
    "        it matches the length of *category_names*.\n",
    "    category_names : list of str\n",
    "        The category labels.\n",
    "    \"\"\"\n",
    "    labels = list(results.keys())\n",
    "    data = np.array(list(results.values()))\n",
    "    data_cum = data.cumsum(axis=1)\n",
    "    category_colors = plt.get_cmap('RdYlGn')(\n",
    "        np.linspace(0.15, 0.85, data.shape[1]))\n",
    "\n",
    "    fig, ax = plt.subplots(figsize=(30, 20))\n",
    "    ax.invert_yaxis()\n",
    "    ax.xaxis.set_visible(False)\n",
    "    ax.set_xlim(0, np.sum(data, axis=1).max())\n",
    "\n",
    "    for i, (colname, color) in enumerate(zip(category_names, category_colors)):\n",
    "        widths = data[:, i]\n",
    "        starts = data_cum[:, i] - widths\n",
    "        ax.barh(labels, widths, left=starts, height=0.5,\n",
    "                label=colname, color=color)\n",
    "        xcenters = starts + widths / 2\n",
    "\n",
    "        r, g, b, _ = color\n",
    "        text_color = 'white' if r * g * b < 0.5 else 'darkgrey'\n",
    "        for y, (x, c) in enumerate(zip(xcenters, widths)):\n",
    "            ax.text(x, y, str(int(c)), ha='center', va='center',\n",
    "                    color=text_color)\n",
    "    ax.legend(ncol=len(category_names), bbox_to_anchor=(0, 1),\n",
    "              loc='lower left', fontsize='small')\n",
    "\n",
    "    return fig, ax\n",
    "\n",
    "survey(results, category_names)\n",
    "plt.show()"
   ]
  },
  {
   "cell_type": "code",
   "execution_count": null,
   "metadata": {},
   "outputs": [],
   "source": [
    "# 평수 계급별 거래총액\n",
    "\n",
    "sum_price = result.pivot_table(values=['거래금액'], aggfunc=['sum'], index = ['전용면적(평)3'])\n",
    "sum_price\n",
    "\n",
    "plt.style.use('ggplot')\n",
    "plt.rcParams[\"figure.figsize\"] = (15, 5)\n",
    "ax = sum_price.plot(kind='bar')\n",
    "ax.set_title(\"평수 구간별 거래총액, 최저가\", fontsize=20)\n",
    "ax.set_xlabel(\"평수 구간\")\n",
    "ax.set_ylabel(\"평당 가격 (딘위 : 100억원)\")\n",
    "ax.legend(loc='best')\n",
    "plt.show()"
   ]
  },
  {
   "cell_type": "code",
   "execution_count": null,
   "metadata": {
    "scrolled": true
   },
   "outputs": [],
   "source": [
    "# 지역구 전용면적의 거래량\n",
    "\n",
    "volume = result.pivot_table(values=['평당가격'], aggfunc=['count'], index = ['구', '전용면적(평)3'])\n",
    "volume\n",
    "\n",
    "plt.rcParams[\"figure.figsize\"] = (25, 10)\n",
    "ax = volume.plot()\n",
    "ax.set_title(\"지역구에 따른 구별 거래량\", fontsize=20)\n",
    "ax.set_xlabel(\"지역구 - 평수 구간\")\n",
    "ax.set_ylabel(\"평수 구간별 거래량\")\n",
    "plt.show()"
   ]
  },
  {
   "cell_type": "code",
   "execution_count": null,
   "metadata": {},
   "outputs": [],
   "source": [
    "# 지역구 전용면적대비 최고가-최저가\n",
    "\n",
    "def get_Max(data):\n",
    "    max = 0\n",
    "    \n",
    "    for e in data:\n",
    "        if max < e:\n",
    "            max = e\n",
    "            \n",
    "    return max\n",
    "\n",
    "def get_Min(data):\n",
    "    min = data[0]\n",
    "    \n",
    "    for e in data:\n",
    "        if min > e:\n",
    "            min = e\n",
    "    \n",
    "    return min\n",
    "\n",
    "# max_value = result.pivot_table(values=['거래금액'], aggfunc=['max'], index = ['구']).values\n",
    "# min_value = result.pivot_table(values=['거래금액'], aggfunc=['min'], index = ['구']).values\n",
    "# gu = result.pivot_table(values=['거래금액'], aggfunc=['max'], index = ['구']).index\n",
    "\n",
    "max_min = result.pivot_table(values=['거래금액'], aggfunc=['max', 'min'], index = ['구'])\n",
    "\n",
    "max_min['빈부격차'] = (max_min['max'] - max_min['min'])\n",
    "max_min\n",
    "\n",
    "plt.style.use('ggplot')\n",
    "plt.rcParams[\"figure.figsize\"] = (15, 5)\n",
    "ax = max_min.plot(kind='bar')\n",
    "ax.set_title(\"지역구별 평균 평당 가격의 최고가, 최저가\", fontsize=20)\n",
    "ax.set_xlabel(\"건축년도\")\n",
    "ax.set_ylabel(\"평당가격\")\n",
    "ax.legend(loc='best')\n",
    "plt.show()"
   ]
  },
  {
   "cell_type": "code",
   "execution_count": null,
   "metadata": {},
   "outputs": [],
   "source": [
    "# 상위 10개 기업 vs others\n",
    "\n",
    "named = ['삼성', '래미안', '현대', '힐스테이트', '디에이치', '대우', '푸르지오', '더힐', '대림', \n",
    "          '포스코', '더샾', 'GS', '자이', '아이파크', '롯데', '캐슬', 'SK', '뷰', 'LG', '엘지', '부영', \n",
    "         '사랑으로', '금호', '에스케이', '타워팰리스', '센트레빌', 'VIEW']\n",
    "\n",
    "named_cnt = 0\n",
    "named_price = 0\n",
    "others = 0\n",
    "others_price = 0\n",
    "\n",
    "for i in range(0,len(result)):\n",
    "    \n",
    "    for j in range(0,len(named)):\n",
    "        if(named[j] in result.iloc[i, 8]):\n",
    "            named_cnt = named_cnt + 1\n",
    "            named_price = named_price + result.iloc[i, 15]\n",
    "            break\n",
    "    if(j == 26):\n",
    "        others = others + 1\n",
    "        others_price = others_price + result.iloc[i, 15]\n",
    "\n",
    "named_avg = named_price/named_cnt\n",
    "others_avg = others_price/others\n",
    "\n",
    "# 상위 10개 기업 vs others\n",
    "\n",
    "plt.rcParams['figure.figsize'] = [12, 8]\n",
    "\n",
    "named_size = int(((named_cnt/(named_cnt+others))*100))\n",
    "others_size = int(((others/(named_cnt+others))*100))\n",
    "\n",
    "group_names = [f\"유명 브랜드 아파트 : \\n{named_size}%\" , f\"그 외 : \\n{others_size}%\"]\n",
    "group_sizes = [named_cnt, others]\n",
    "group_colors = ['lightcoral', 'lightskyblue']\n",
    "group_explodes = (0.1, 0, 0) # explode 1st slice\n",
    "\n",
    "# info. of subgroups\n",
    "\n",
    "subgroup_names = [f\"평당가액(단위 : 만원) : {named_avg.round(0)}\", f\"평당가액(단위 : 만원) : {others_avg.round(0)}\"]\n",
    "subgroup_sizes = [named_avg, others_avg]\n",
    "\n",
    "# colors\n",
    "a, b, c = [plt.cm.Reds, plt.cm.Greens, plt.cm.Blues]\n",
    "\n",
    "# width\n",
    "width_num = 0.4\n",
    "\n",
    "# plt.pie(group_sizes, \n",
    "# #         explode=group_explodes, \n",
    "#         labels=group_names, \n",
    "#         colors=group_colors, \n",
    "#         autopct='%1.2f%%', # second decimal place\n",
    "#         shadow=True, \n",
    "#         startangle=90,\n",
    "#         textprops={'fontsize': 14}) # text font size\n",
    "# plt.axis('equal') #  equal length of X and Y axis\n",
    "\n",
    "# plt.title('아파트 거래 분석', fontsize=20)\n",
    "# plt.show()\n",
    "\n",
    "# Outside Ring\n",
    "\n",
    "fig, ax = plt.subplots()\n",
    "ax.axis('equal')\n",
    "pie_outside, _ = ax.pie(group_sizes, \n",
    "                        radius=1.3, \n",
    "                        labels=group_names, \n",
    "                        labeldistance=0.8,\n",
    "                        colors=[a(0.6), c(0.6)])\n",
    "plt.setp(pie_outside, \n",
    "         width=width_num, \n",
    "         edgecolor='white')\n",
    "\n",
    "# Inside Ring\n",
    "\n",
    "pie_inside, plt_labels, junk = \\\n",
    "    ax.pie(subgroup_sizes, \n",
    "           radius=(1.3 - width_num), \n",
    "           labels=subgroup_names, \n",
    "           labeldistance=0.75, \n",
    "           autopct='%1.1f%%', \n",
    "           colors=[a(0.6), c(0.6)])\n",
    "\n",
    "plt.setp(pie_inside, \n",
    "         width=width_num, \n",
    "         edgecolor='white')\n",
    "plt.title('아파트 거래 분석', fontsize=20)\n",
    "plt.show()"
   ]
  },
  {
   "cell_type": "markdown",
   "metadata": {},
   "source": [
    "## 5. 시각화\n",
    "#### 시각화 그래프는 7개 이상 나와야 합니다.\n",
    "    - 각각의 그래프마다 분석에 있어서 세웠던 전략과 시각화 목적을 간단한 코멘트를 달아주세요\n",
    "#### 수업시간에 언급하지 않은 새로운 패턴의 그래프는 3개 이상 사용하시기 바랍니다.\n",
    "    - 그래프에 대한 간단한 설명과 함께 코멘트로 직접 달아주세요"
   ]
  },
  {
   "cell_type": "markdown",
   "metadata": {},
   "source": [
    "#### 작업시간은 오후 3시까지 생각하고 있습니다.\n",
    "    - 최종 발표시간은 4시입니다."
   ]
  },
  {
   "cell_type": "code",
   "execution_count": null,
   "metadata": {},
   "outputs": [],
   "source": []
  },
  {
   "cell_type": "code",
   "execution_count": null,
   "metadata": {},
   "outputs": [],
   "source": []
  }
 ],
 "metadata": {
  "kernelspec": {
   "display_name": "Python 3",
   "language": "python",
   "name": "python3"
  },
  "language_info": {
   "codemirror_mode": {
    "name": "ipython",
    "version": 3
   },
   "file_extension": ".py",
   "mimetype": "text/x-python",
   "name": "python",
   "nbconvert_exporter": "python",
   "pygments_lexer": "ipython3",
   "version": "3.7.6"
  }
 },
 "nbformat": 4,
 "nbformat_minor": 4
}
